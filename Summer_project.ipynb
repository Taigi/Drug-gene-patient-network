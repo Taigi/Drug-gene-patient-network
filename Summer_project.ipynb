{
 "cells": [
  {
   "cell_type": "code",
   "execution_count": 1,
   "metadata": {
    "collapsed": true
   },
   "outputs": [],
   "source": [
    "import pandas as pd\n",
    "import networkx as nx\n",
    "import matplotlib.pyplot as plt\n",
    "import numpy as np\n",
    "from networkx.algorithms import bipartite \n",
    "import csv\n",
    "import itertools\n",
    "%matplotlib inline\n"
   ]
  },
  {
   "cell_type": "code",
   "execution_count": 20,
   "metadata": {},
   "outputs": [],
   "source": [
    "#DrugBank data from https://www.drugbank.ca/releases/latest#external-links, under Target Drug-UniProt Links, Drug Group: All. \n",
    "db_data = pd.read_csv(\"uniprotlinks.csv\")\n",
    "\n",
    "#Gene ID mapping data from UnitProt --> Retrieve/ID Mapping --> Human \n",
    "unip_all = pd.read_csv(\"uniprot-all.tab\", delimiter = '\\t')"
   ]
  },
  {
   "cell_type": "code",
   "execution_count": 21,
   "metadata": {},
   "outputs": [],
   "source": [
    "#Changing the \"Gene names\" column from 'unip_all' to list. \n",
    "Gene_sym = unip_all[\"Gene names\"].tolist()\n",
    "\n",
    "#Splitting data into list of lists using space delimiter. \n",
    "what_i_want = []\n",
    "for id_ in Gene_sym:\n",
    "    temp = str(id_).split(' ')\n",
    "    what_i_want.append(temp)\n",
    "    \n",
    "#Trimming off Gene names aliases \n",
    "what_i_actually_want = [id_pair[0] for id_pair in what_i_want]  ##list comprehensions \n",
    "\n",
    "s = pd.Series(what_i_actually_want)  \n",
    "unip_all['Gene names'] = s.values  "
   ]
  },
  {
   "cell_type": "code",
   "execution_count": 25,
   "metadata": {},
   "outputs": [],
   "source": [
    "unip_all = unip_all.rename(columns={'Entry': 'UniProt ID'})"
   ]
  },
  {
   "cell_type": "code",
   "execution_count": 26,
   "metadata": {},
   "outputs": [],
   "source": [
    "#Using merge to merge two dataframes(db_dta & unip_all) and map the UniProt Id's to corresponding Gene names. \n",
    "\n",
    "combined_df = db_data.merge(unip_all, how=\"left\")"
   ]
  },
  {
   "cell_type": "code",
   "execution_count": 27,
   "metadata": {},
   "outputs": [
    {
     "data": {
      "text/html": [
       "<div>\n",
       "<style>\n",
       "    .dataframe thead tr:only-child th {\n",
       "        text-align: right;\n",
       "    }\n",
       "\n",
       "    .dataframe thead th {\n",
       "        text-align: left;\n",
       "    }\n",
       "\n",
       "    .dataframe tbody tr th {\n",
       "        vertical-align: top;\n",
       "    }\n",
       "</style>\n",
       "<table border=\"1\" class=\"dataframe\">\n",
       "  <thead>\n",
       "    <tr style=\"text-align: right;\">\n",
       "      <th></th>\n",
       "      <th>DrugBank ID</th>\n",
       "      <th>Name</th>\n",
       "      <th>Type</th>\n",
       "      <th>UniProt ID</th>\n",
       "      <th>UniProt Name</th>\n",
       "      <th>Gene names</th>\n",
       "    </tr>\n",
       "  </thead>\n",
       "  <tbody>\n",
       "    <tr>\n",
       "      <th>0</th>\n",
       "      <td>DB00001</td>\n",
       "      <td>Lepirudin</td>\n",
       "      <td>BiotechDrug</td>\n",
       "      <td>P00734</td>\n",
       "      <td>Prothrombin</td>\n",
       "      <td>F2</td>\n",
       "    </tr>\n",
       "    <tr>\n",
       "      <th>1</th>\n",
       "      <td>DB00002</td>\n",
       "      <td>Cetuximab</td>\n",
       "      <td>BiotechDrug</td>\n",
       "      <td>P00533</td>\n",
       "      <td>Epidermal growth factor receptor</td>\n",
       "      <td>EGFR</td>\n",
       "    </tr>\n",
       "    <tr>\n",
       "      <th>2</th>\n",
       "      <td>DB00002</td>\n",
       "      <td>Cetuximab</td>\n",
       "      <td>BiotechDrug</td>\n",
       "      <td>O75015</td>\n",
       "      <td>Low affinity immunoglobulin gamma Fc region re...</td>\n",
       "      <td>FCGR3B</td>\n",
       "    </tr>\n",
       "    <tr>\n",
       "      <th>3</th>\n",
       "      <td>DB00002</td>\n",
       "      <td>Cetuximab</td>\n",
       "      <td>BiotechDrug</td>\n",
       "      <td>P00736</td>\n",
       "      <td>Complement C1r subcomponent</td>\n",
       "      <td>C1R</td>\n",
       "    </tr>\n",
       "    <tr>\n",
       "      <th>4</th>\n",
       "      <td>DB00002</td>\n",
       "      <td>Cetuximab</td>\n",
       "      <td>BiotechDrug</td>\n",
       "      <td>P02745</td>\n",
       "      <td>Complement C1q subcomponent subunit A</td>\n",
       "      <td>C1QA</td>\n",
       "    </tr>\n",
       "  </tbody>\n",
       "</table>\n",
       "</div>"
      ],
      "text/plain": [
       "  DrugBank ID       Name         Type UniProt ID  \\\n",
       "0     DB00001  Lepirudin  BiotechDrug     P00734   \n",
       "1     DB00002  Cetuximab  BiotechDrug     P00533   \n",
       "2     DB00002  Cetuximab  BiotechDrug     O75015   \n",
       "3     DB00002  Cetuximab  BiotechDrug     P00736   \n",
       "4     DB00002  Cetuximab  BiotechDrug     P02745   \n",
       "\n",
       "                                        UniProt Name Gene names  \n",
       "0                                        Prothrombin         F2  \n",
       "1                   Epidermal growth factor receptor       EGFR  \n",
       "2  Low affinity immunoglobulin gamma Fc region re...     FCGR3B  \n",
       "3                        Complement C1r subcomponent        C1R  \n",
       "4              Complement C1q subcomponent subunit A       C1QA  "
      ]
     },
     "execution_count": 27,
     "metadata": {},
     "output_type": "execute_result"
    }
   ],
   "source": [
    "combined_df.head()"
   ]
  },
  {
   "cell_type": "code",
   "execution_count": 31,
   "metadata": {
    "collapsed": true
   },
   "outputs": [],
   "source": [
    "##rename 'Name' column in combined_df to 'Drug Name' and 'Type' column to 'Drug Type', 'Gene names' col to 'Gene Symbol'.\n",
    "\n",
    "combined_df = combined_df.rename(columns={'Name': 'Drug Name', 'Type': 'Drug Type', 'UniProt Name': 'Protein Name', 'Gene names': 'Gene Symbol'})"
   ]
  },
  {
   "cell_type": "code",
   "execution_count": 32,
   "metadata": {
    "collapsed": true
   },
   "outputs": [],
   "source": [
    "#removing rows with empty Gene \n",
    "\n",
    "gene_sym = combined_df[\"Gene Symbol\"]\n",
    "gene_sym_isnull = pd.isnull(gene_sym)\n",
    "gene_sym_nulltrue = gene_sym[gene_sym_isnull]\n",
    "gene_sym_nullfalse = gene_sym[gene_sym_isnull == False]"
   ]
  },
  {
   "cell_type": "code",
   "execution_count": 33,
   "metadata": {},
   "outputs": [
    {
     "name": "stdout",
     "output_type": "stream",
     "text": [
      "4140\n"
     ]
    }
   ],
   "source": [
    "print(len(gene_sym_nulltrue))"
   ]
  },
  {
   "cell_type": "code",
   "execution_count": 34,
   "metadata": {},
   "outputs": [
    {
     "data": {
      "text/plain": [
       "(12028,)"
      ]
     },
     "execution_count": 34,
     "metadata": {},
     "output_type": "execute_result"
    }
   ],
   "source": [
    "gene_sym_nullfalse.shape"
   ]
  },
  {
   "cell_type": "code",
   "execution_count": 35,
   "metadata": {
    "collapsed": true
   },
   "outputs": [],
   "source": [
    "##Dropping rows with empty columns in Gene Symbol. \n",
    "\n",
    "combined_df.dropna(subset=['Gene Symbol'], inplace=True)\n",
    "#combined_df.to_csv('drug_gene.csv')"
   ]
  },
  {
   "cell_type": "code",
   "execution_count": 36,
   "metadata": {},
   "outputs": [
    {
     "data": {
      "text/plain": [
       "(12028, 6)"
      ]
     },
     "execution_count": 36,
     "metadata": {},
     "output_type": "execute_result"
    }
   ],
   "source": [
    "combined_df.shape"
   ]
  },
  {
   "cell_type": "code",
   "execution_count": 37,
   "metadata": {
    "collapsed": true
   },
   "outputs": [],
   "source": [
    "#creating bipartite graph of Drug-target network graph. \n",
    "B = nx.Graph()\n",
    "\n",
    "B.add_nodes_from(combined_df['Drug Name'], node_type = 'D')\n",
    "\n",
    "B.add_nodes_from(combined_df['Gene Symbol'], node_type = 'Genes')\n",
    "\n",
    "B.add_edges_from([(row['Drug Name'], row['Gene Symbol']) for idx, row in combined_df.iterrows()], edge_type = 'D_targ')"
   ]
  },
  {
   "cell_type": "code",
   "execution_count": 12,
   "metadata": {
    "collapsed": true
   },
   "outputs": [],
   "source": [
    "#Removing Tamoxifen's targets unrelated to breast cancer treatment\n",
    "remove_edges = [('Tamoxifen','EBP'), ('Tamoxifen', 'PRKCA'), ('Tamoxifen', 'PRKCB'), ('Tamoxifen', 'PRKCD'), ('Tamoxifen', 'PRKCE'), ('Tamoxifen', 'PRKCG'), ('Tamoxifen', 'PRKCI'), ('Tamoxifen', 'PRKCQ'), ('Tamoxifen', 'PRKCZ')]\n",
    "B.remove_edges_from(remove_edges)"
   ]
  },
  {
   "cell_type": "code",
   "execution_count": 14,
   "metadata": {
    "collapsed": true
   },
   "outputs": [],
   "source": [
    "#separating the two sets of nodes: drugs(d) & genes(g) . \n",
    "d, g = bipartite.sets(B)"
   ]
  },
  {
   "cell_type": "code",
   "execution_count": 20,
   "metadata": {},
   "outputs": [
    {
     "data": {
      "text/plain": [
       "4923"
      ]
     },
     "execution_count": 20,
     "metadata": {},
     "output_type": "execute_result"
    }
   ],
   "source": [
    "#drugs\n",
    "len(d)                "
   ]
  },
  {
   "cell_type": "code",
   "execution_count": 21,
   "metadata": {
    "scrolled": true
   },
   "outputs": [
    {
     "data": {
      "text/plain": [
       "2268"
      ]
     },
     "execution_count": 21,
     "metadata": {},
     "output_type": "execute_result"
    }
   ],
   "source": [
    "#targets genes\n",
    "len(g)"
   ]
  },
  {
   "cell_type": "code",
   "execution_count": 15,
   "metadata": {
    "collapsed": true
   },
   "outputs": [],
   "source": [
    "#degree distrubtion of drugs. \n",
    "d_degree = B.degree(d)\n",
    "\n",
    "#degree distribution of gens. \n",
    "g_degree = B.degree(g)"
   ]
  },
  {
   "cell_type": "code",
   "execution_count": 16,
   "metadata": {
    "collapsed": true
   },
   "outputs": [],
   "source": [
    "#PPI data downloaded from https://github.com/phuongdao1/bewith/blob/master/data/HumanStringNet.txt, constructed using Sting.\n",
    "string = pd.read_csv(\"HumanStringNet.txt\", delimiter=\"\\t\", header=None)"
   ]
  },
  {
   "cell_type": "code",
   "execution_count": 17,
   "metadata": {
    "collapsed": true
   },
   "outputs": [],
   "source": [
    "#Changing the colu names of each row. \n",
    "string_df = string.rename(columns={0: 'Gene Name', 1: 'Interacting Gene', 2: 'Interaction Weight'})"
   ]
  },
  {
   "cell_type": "code",
   "execution_count": 18,
   "metadata": {
    "collapsed": true
   },
   "outputs": [],
   "source": [
    "string_df['Gene_Gene'] = string_df[['Gene Name', 'Interacting Gene']].apply(tuple, axis=1)\n",
    "\n",
    "#string_df.to_csv('stringnetwork.tsv', sep='\\t')\n",
    "#string_df.to_csv('stringnetwork.csv')"
   ]
  },
  {
   "cell_type": "code",
   "execution_count": 19,
   "metadata": {
    "scrolled": true
   },
   "outputs": [
    {
     "data": {
      "text/plain": [
       "'Name: \\nType: Graph\\nNumber of nodes: 9215\\nNumber of edges: 160249\\nAverage degree:  34.7800'"
      ]
     },
     "execution_count": 19,
     "metadata": {},
     "output_type": "execute_result"
    }
   ],
   "source": [
    "#creating a PPI network graph using String Network data.\n",
    "\n",
    "edges = string_df[\"Gene_Gene\"].tolist()\n",
    "G = nx.Graph()\n",
    "G.add_edges_from(edges, edge_type='gene_gene')\n",
    "degree = G.degree()\n",
    "\n",
    "nx.info(G)"
   ]
  },
  {
   "cell_type": "code",
   "execution_count": null,
   "metadata": {
    "collapsed": true
   },
   "outputs": [],
   "source": [
    "#donor_therapy data from ICGC\n",
    "\n",
    "drug_list = pd.read_csv(\"donor_therapy.tsv\", delimiter=\"\\t\")"
   ]
  },
  {
   "cell_type": "code",
   "execution_count": null,
   "metadata": {
    "collapsed": true
   },
   "outputs": [],
   "source": [
    "#dropping rows with NaN values in 'other_therapy' column. \n",
    "drug_col = drug_list[\"other_therapy\"]\n",
    "drug_col_isnull = pd.isnull(drug_col)\n",
    "drug_col_nullfalse = drug_col[drug_col_isnull == False]\n",
    "drug_list.dropna(subset=['other_therapy'], inplace=True)\n",
    "\n",
    "#dropping rows with 'unknonwn' values in other_therapy column. \n",
    "drug_list1 = drug_list[drug_list.other_therapy.str.contains(\"unknown\") == False]\n",
    "drug_list1.to_csv('drug_list.csv')"
   ]
  },
  {
   "cell_type": "code",
   "execution_count": null,
   "metadata": {
    "collapsed": true
   },
   "outputs": [],
   "source": [
    "#sorting the BRCA drug_list basing off other_therapy col. \n",
    "\n",
    "sorted_druglist = drug_list1.sort_values(\"other_therapy\") \n",
    "sorted_druglist.to_csv(\"sorted_druglist.csv\")\n",
    "\n",
    "#donor therapy drug list sorted and separated and changed the names of the drug brands into their chemical names using DrugBank(done manually). \n",
    "#added a columns of Drug_list(first therapy drugs), second_druglist(second therapy drugs), third_druglist(third therapy drug)\n",
    "sorted_druglist1 = pd.read_csv(\"sorted_druglist1.csv\")"
   ]
  },
  {
   "cell_type": "code",
   "execution_count": null,
   "metadata": {
    "collapsed": true
   },
   "outputs": [],
   "source": [
    "#ensembl gene ID to gene names data for mapping brca mutation ID's. \n",
    "#downloaded txt file from ensembl. \n",
    "\n",
    "ensembl = pd.read_csv(\"mart_export.txt\", delimiter=\"\\t\")         \n",
    "ensembl.to_csv('ensembl.csv')"
   ]
  },
  {
   "cell_type": "code",
   "execution_count": null,
   "metadata": {
    "collapsed": true
   },
   "outputs": [],
   "source": [
    "#renaming 'gene_effected col' name in somatic_mutation to 'Gene stable ID' to merge the two dataframes. \n",
    "somatic_mutation = somatic_mutation.rename(columns={'gene_affected': 'Gene stable ID'})\n",
    "\n",
    "#mapping the 'gene_affected' ID's to gene names using ensembl data.\n",
    "somatic_mutations_mapped = somatic_mutation.merge(ensembl, how=\"left\")"
   ]
  },
  {
   "cell_type": "code",
   "execution_count": null,
   "metadata": {
    "collapsed": true
   },
   "outputs": [],
   "source": [
    "#combining somatic mutation Brca data with donor therapy druglist from patients with known drug therapy treatment only\n",
    "drug_mutation = sorted_druglist1.merge(somatic_mutations_mapped, how=\"left\")"
   ]
  },
  {
   "cell_type": "code",
   "execution_count": null,
   "metadata": {
    "collapsed": true
   },
   "outputs": [],
   "source": [
    "drug_mutation = drug_mutation.rename(columns={'Gene stable ID': 'gene_affected'})"
   ]
  },
  {
   "cell_type": "code",
   "execution_count": null,
   "metadata": {
    "collapsed": true
   },
   "outputs": [],
   "source": [
    "#removing empty values from 'gene_affected' col of drug_mutation(560brca data) dataframe.\n",
    "\n",
    "genes = drug_mutation[\"gene_affected\"]\n",
    "genes_isnull = pd.isnull(genes)\n",
    "genes_nulltrue = genes[genes_isnull]\n",
    "genes_nullfalse = genes[genes_isnull == False]\n",
    "drug_mutation.dropna(subset=['gene_affected'], inplace=True)"
   ]
  },
  {
   "cell_type": "code",
   "execution_count": null,
   "metadata": {
    "collapsed": true
   },
   "outputs": [],
   "source": [
    "df = drug_mutation.drop_duplicates(subset=['icgc_donor_id','gene_affected'], keep='first', inplace=False)"
   ]
  },
  {
   "cell_type": "code",
   "execution_count": null,
   "metadata": {
    "collapsed": true
   },
   "outputs": [],
   "source": [
    "#displaying only needed cols for the data from drug_mutation df. \n",
    "desired_cols = df[['icgc_donor_id'] + ['Drug_list'] + ['Second_drug_list'] + ['Third_drug_list'] + ['gene_affected'] + ['Gene name'] + ['first_therapy_response'] + ['second_therapy_response']]\n",
    "\n",
    "desired_cols.to_csv(\"drug_mutation1.csv\")"
   ]
  },
  {
   "cell_type": "code",
   "execution_count": null,
   "metadata": {
    "collapsed": true
   },
   "outputs": [],
   "source": [
    "drug_mutation = pd.read_csv(\"drug_mutation1.csv\")\n",
    "del drug_mutation['Unnamed: 0']"
   ]
  },
  {
   "cell_type": "code",
   "execution_count": 24,
   "metadata": {
    "collapsed": true,
    "scrolled": false
   },
   "outputs": [],
   "source": [
    "drug_mutation['Drug_list'] = [x.strip().replace(' Methotrexate', 'Methoxtrexate') for x in drug_mutation['Drug_list']]\n",
    "drug_mutation['Drug_list'] = [x.strip().replace(' Fluorouracil', 'Fluorouracil') for x in drug_mutation['Drug_list']]\n",
    "drug_mutation['Drug_list'] = [x.strip().replace(' Cyclophosphamide', 'Cyclophosphamide') for x in drug_mutation['Drug_list']]\n",
    "drug_mutation['Drug_list'] = [x.strip().replace(' Bevacizumab', 'Bevacizumab') for x in drug_mutation['Drug_list']]\n",
    "drug_mutation['Drug_list'] = [x.strip().replace(' Tamoxifen', 'Tamoxifen') for x in drug_mutation['Drug_list']]\n",
    "drug_mutation['Drug_list'] = [x.strip().replace(' Aromatase Inhibitor', 'Aromatase Inhibitor') for x in drug_mutation['Drug_list']]\n",
    "drug_mutation['Drug_list'] = [x.strip().replace('Doxorubincin', 'Doxorubicin') for x in drug_mutation['Drug_list']]\n",
    "drug_mutation['Drug_list'] = [x.strip().replace('Methoxtrexate', 'Methotrexate') for x in drug_mutation['Drug_list']]\n"
   ]
  },
  {
   "cell_type": "code",
   "execution_count": 25,
   "metadata": {
    "collapsed": true
   },
   "outputs": [],
   "source": [
    "#removing empty values from 'Gene name' col of drug_mutation(560brca data) dataframe.\n",
    "\n",
    "gene_affected = drug_mutation[\"Gene name\"]\n",
    "gene_affected_isnull = pd.isnull(gene_affected)\n",
    "gene_affected_nulltrue = gene_affected[gene_affected_isnull]\n",
    "gene_affected_nullfalse = gene_affected[gene_affected_isnull == False]\n",
    "drug_mutation.dropna(subset=['Gene name'], inplace=True)"
   ]
  },
  {
   "cell_type": "code",
   "execution_count": 26,
   "metadata": {
    "collapsed": true
   },
   "outputs": [],
   "source": [
    "\"\"\"Takes the drug as a node argument to find the genes that a specific drug works on in graph B(drug-gene graph),\n",
    "   then, find the single source shortest path from those neighbors of the drug targets at cutoff = 1.\n",
    "   Results: dictionary key-value pairs.\"\"\"\n",
    "\n",
    "def target_paths(node):\n",
    "    \n",
    "    drug_to_gene_nodes = B.neighbors(node)\n",
    "    neighbors = {}\n",
    "    for dg_node in drug_to_gene_nodes:\n",
    "        neighbors[dg_node] = {}\n",
    "        \n",
    "        if G.has_node(dg_node):\n",
    "            \n",
    "            path = nx.single_source_shortest_path(G, dg_node, 1)\n",
    "            nbr_path = (path)\n",
    "            neighbors.update(nbr_path)\n",
    "            \n",
    "    return(neighbors)"
   ]
  },
  {
   "cell_type": "code",
   "execution_count": 27,
   "metadata": {
    "collapsed": true
   },
   "outputs": [],
   "source": [
    "\"\"\"Takes the drug as a node argument to find the genes that a specific drug works on in graph B(drug-gene graph),\n",
    "   then, find the single source shortest path from those neighbors of the drug targets at cutoff = 2.\n",
    "   Results: dictionary key-value pairs.\"\"\"\n",
    "\n",
    "def target_paths2(node):\n",
    "    \n",
    "    drug_to_gene_nodes = B.neighbors(node)\n",
    "    neighbors = {}\n",
    "    for dg_node in drug_to_gene_nodes:\n",
    "        neighbors[dg_node] = {}\n",
    "        \n",
    "        if G.has_node(dg_node):\n",
    "            \n",
    "            path = nx.single_source_shortest_path(G, dg_node, 2)\n",
    "            nbr_path = (path)\n",
    "            neighbors.update(nbr_path)\n",
    "            \n",
    "    return(neighbors)"
   ]
  },
  {
   "cell_type": "code",
   "execution_count": 28,
   "metadata": {
    "collapsed": true
   },
   "outputs": [],
   "source": [
    "def tidy_split(df, column, sep='|', keep=False):\n",
    "    \"\"\"\n",
    "    Split the values of a column and expand so the new DataFrame has one split\n",
    "    value per row. Filters rows where the column is missing.\n",
    "\n",
    "    Params\n",
    "    ------\n",
    "    df : pandas.DataFrame\n",
    "        dataframe with the column to split and expand\n",
    "    column : str\n",
    "        the column to split and expand\n",
    "    sep : str\n",
    "        the string used to split the column's values\n",
    "    keep : bool\n",
    "        whether to retain the presplit value as it's own row\n",
    "\n",
    "    Returns\n",
    "    -------\n",
    "    pandas.DataFrame\n",
    "        Returns a dataframe with the same columns as `df`.\n",
    "    \"\"\"\n",
    "    indexes = list()\n",
    "    new_values = list()\n",
    "    df = df.dropna(subset=[column])\n",
    "    for i, presplit in enumerate(df[column].astype(str)):\n",
    "        values = presplit.split(sep)\n",
    "        if keep and len(values) > 1:\n",
    "            indexes.append(i)\n",
    "            new_values.append(presplit)\n",
    "        for value in values:\n",
    "            indexes.append(i)\n",
    "            new_values.append(value)\n",
    "    new_df = df.iloc[indexes, :].copy()\n",
    "    new_df[column] = new_values\n",
    "    return new_df"
   ]
  },
  {
   "cell_type": "code",
   "execution_count": 29,
   "metadata": {},
   "outputs": [
    {
     "data": {
      "text/plain": [
       "(465377, 6)"
      ]
     },
     "execution_count": 29,
     "metadata": {},
     "output_type": "execute_result"
    }
   ],
   "source": [
    "#Splitting the rows of 'Drug_list' col by the commma separator to make each row of the Drug_list col have only one drugs \n",
    "\n",
    "drug_mutation1 = tidy_split(drug_mutation, \"Drug_list\", sep=',' )\n",
    "drug_mutation1.shape"
   ]
  },
  {
   "cell_type": "code",
   "execution_count": 30,
   "metadata": {
    "collapsed": true
   },
   "outputs": [],
   "source": [
    "#node attributes for Drugs and Patients nodes. \n",
    "\n",
    "mu_pi_drug = pd.DataFrame()\n",
    "for pi in set(drug_mutation1[\"icgc_donor_id\"]):\n",
    "    mu_pi_drug[pi] = pd.Series('P')\n",
    "\n",
    "    for drug in set(drug_mutation1['Drug_list']):\n",
    "        mu_pi_drug[drug] = pd.Series('D')\n",
    "        \n",
    "mu_pi_drug = mu_pi_dtarg.T\n",
    "mu_pi_drug.to_csv('pi_drug.noa', sep='\\t')"
   ]
  },
  {
   "cell_type": "code",
   "execution_count": 31,
   "metadata": {
    "collapsed": true
   },
   "outputs": [],
   "source": [
    "Anastrozole = target_paths(\"Anastrozole\")\n",
    "Fulvestrant = target_paths(\"Fulvestrant\")\n",
    "Capecitabine = target_paths(\"Capecitabine\")\n",
    "Vinorelbine  = target_paths(\"Vinorelbine\")\n",
    "Docetaxel  = target_paths(\"Docetaxel\")\n",
    "Letrozole = target_paths(\"Letrozole\")\n",
    "Methotrexate  = target_paths(\"Methotrexate\")\n",
    "Fluorouracil  = target_paths(\"Fluorouracil\")\n",
    "Dexrazoxane  = target_paths(\"Dexrazoxane\")\n",
    "Doxorubicin  = target_paths(\"Doxorubicin\")\n",
    "Tamoxifen  = target_paths(\"Tamoxifen\")\n",
    "Paclitaxel  = target_paths(\"Paclitaxel\")\n",
    "Bevacizumab = target_paths(\"Bevacizumab\")\n",
    "Trastuzumab = target_paths(\"Trastuzumab\")\n",
    "Exemestane = target_paths(\"Exemestane\")\n",
    "Epirubicin  = target_paths(\"Epirubicin\")\n",
    "Gemcitabine  = target_paths(\"Gemcitabine\")\n",
    "Alendronic_acid  = target_paths(\"Alendronic acid\")\n",
    "Buserelin = target_paths(\"Buserelin\")\n",
    "Zoledronic_acid = target_paths(\"Zoledronic acid\")"
   ]
  },
  {
   "cell_type": "code",
   "execution_count": 32,
   "metadata": {
    "collapsed": true
   },
   "outputs": [],
   "source": [
    "#creating the tamoxifen graph from dictionary of lists created using target_paths. \n",
    "\n",
    "tam_graph = nx.from_dict_of_lists(Tamoxifen,create_using=None) "
   ]
  },
  {
   "cell_type": "code",
   "execution_count": 33,
   "metadata": {},
   "outputs": [
    {
     "data": {
      "text/plain": [
       "'Name: \\nType: Graph\\nNumber of nodes: 197\\nNumber of edges: 393\\nAverage degree:   3.9898'"
      ]
     },
     "execution_count": 33,
     "metadata": {},
     "output_type": "execute_result"
    }
   ],
   "source": [
    "nx.info(tam_graph)"
   ]
  },
  {
   "cell_type": "code",
   "execution_count": 273,
   "metadata": {
    "collapsed": true
   },
   "outputs": [],
   "source": [
    "G_tam = G.subgraph(tam_graph.nodes())"
   ]
  },
  {
   "cell_type": "code",
   "execution_count": 274,
   "metadata": {},
   "outputs": [
    {
     "data": {
      "text/plain": [
       "'Name: \\nType: Graph\\nNumber of nodes: 197\\nNumber of edges: 2156\\nAverage degree:  21.8883'"
      ]
     },
     "execution_count": 274,
     "metadata": {},
     "output_type": "execute_result"
    }
   ],
   "source": [
    "nx.info(G_tam)"
   ]
  },
  {
   "cell_type": "code",
   "execution_count": 34,
   "metadata": {
    "collapsed": true
   },
   "outputs": [],
   "source": [
    "pi_tam_mutated = drug_mutation1[drug_mutation1['Drug_list'] == 'Tamoxifen']"
   ]
  },
  {
   "cell_type": "code",
   "execution_count": 276,
   "metadata": {},
   "outputs": [
    {
     "data": {
      "text/plain": [
       "(116730, 6)"
      ]
     },
     "execution_count": 276,
     "metadata": {},
     "output_type": "execute_result"
    }
   ],
   "source": [
    "pi_tam_mutated.shape"
   ]
  },
  {
   "cell_type": "code",
   "execution_count": 75,
   "metadata": {
    "collapsed": true
   },
   "outputs": [],
   "source": [
    "G_tam = G.subgraph(tam_graph.nodes())\n",
    "\n",
    "\n",
    "# add edges between drug and drug target \n",
    "#for tam, there's only two targets after removing unneccesary targets (ESR1, ESR2 (both are antagonist, agonist))\n",
    "G_tam.add_edges_from([(\"Tamoxifen\", x) for x in B.neighbors(\"Tamoxifen\")], edge_type = 'tam_targ')\n",
    "\n",
    "# mutated genes in the subnetwork\n",
    "common_genes = set(G_tam.nodes()).intersection(pi_tam_mutated[\"Gene name\"])\n",
    "common_pi_tam_mutated = pi_tam_mutated[pi_tam_mutated[\"Gene name\"].isin(common_genes)]\n",
    "# add edges between patients and mutated genes \n",
    "mutated_pi = common_pi_tam_mutated[\"icgc_donor_id\"].tolist()\n",
    "mutated_gene = common_pi_tam_mutated[\"Gene name\"].tolist()\n",
    "G_tam.add_edges_from(zip(mutated_pi, mutated_gene), edge_type = 'pi_tam_mu')\n",
    "\n",
    "nx.write_graphml(G_tam, 'Tam_pi_mu_all.graphml')"
   ]
  },
  {
   "cell_type": "code",
   "execution_count": 76,
   "metadata": {
    "scrolled": true
   },
   "outputs": [
    {
     "data": {
      "text/plain": [
       "'Name: \\nType: Graph\\nNumber of nodes: 249\\nNumber of edges: 3067\\nAverage degree:  24.6345'"
      ]
     },
     "execution_count": 76,
     "metadata": {},
     "output_type": "execute_result"
    }
   ],
   "source": [
    "nx.info(G_tam)"
   ]
  },
  {
   "cell_type": "code",
   "execution_count": 300,
   "metadata": {},
   "outputs": [
    {
     "data": {
      "text/plain": [
       "4"
      ]
     },
     "execution_count": 300,
     "metadata": {},
     "output_type": "execute_result"
    }
   ],
   "source": [
    "len(set(pi_letro_mutated['icgc_donor_id']))"
   ]
  },
  {
   "cell_type": "code",
   "execution_count": 41,
   "metadata": {
    "collapsed": true
   },
   "outputs": [],
   "source": [
    "#Mutated genes node attributes of patients who take Tamoxifen drug. \n",
    "\n",
    "tam_mu_genes = pd.DataFrame()\n",
    "for genes in pi_tam_mutated['Gene name']:\n",
    "    tam_mu_genes[genes] = pd.Series('tam_mu_genes')\n",
    "\n",
    "tam_mu_genes = tam_mu_genes.T\n",
    "\n",
    "tam_mu_genes.to_csv(\"tam_mu_genes.noa\", sep='\\t')"
   ]
  },
  {
   "cell_type": "code",
   "execution_count": 166,
   "metadata": {
    "scrolled": true
   },
   "outputs": [
    {
     "data": {
      "text/plain": [
       "'Name: \\nType: Graph\\nNumber of nodes: 43\\nNumber of edges: 308\\nAverage degree:  14.3256'"
      ]
     },
     "execution_count": 166,
     "metadata": {},
     "output_type": "execute_result"
    }
   ],
   "source": [
    "#Anastrozole (Arimidex, drugname before being translated to chemical name using DrugBank) drug-gene-patient graph\n",
    "\n",
    "pi_anas_mutated = drug_mutation1[drug_mutation1['Drug_list'] == 'Anastrozole']\n",
    "Anastrozole_g = nx.from_dict_of_lists(Anastrozole,create_using=None)\n",
    "\n",
    "G_anastrozole = G.subgraph(Anastrozole_g.nodes())\n",
    "\n",
    "# add edges between drug and drug target \n",
    "G_anastrozole.add_edges_from([(\"Anastrozole\", x) for x in B.neighbors(\"Anastrozole\")], edge_type = 'anas_targ')\n",
    "\n",
    "# mutated genes in the subnetwork\n",
    "common_genes2 = set(G_anastrozole.nodes()).intersection(pi_anas_mutated[\"Gene name\"])\n",
    "common_pi_anas_mutated = pi_anas_mutated[pi_anas_mutated[\"Gene name\"].isin(common_genes2)]\n",
    "\n",
    "# add edges between patients and mutated genes \n",
    "mutated_pi2 = common_pi_anas_mutated[\"icgc_donor_id\"].tolist()\n",
    "mutated_gene2 = common_pi_anas_mutated[\"Gene name\"].tolist()\n",
    "G_anastrozole.add_edges_from(zip(mutated_pi2, mutated_gene2), edge_type = 'pi_mutation_anas')\n",
    "\n",
    "\n",
    "nx.write_graphml(G_anastrozole, 'Anas_pi_mu_all.graphml')\n",
    "\n",
    "nx.info(G_anastrozole)"
   ]
  },
  {
   "cell_type": "code",
   "execution_count": 241,
   "metadata": {
    "collapsed": true
   },
   "outputs": [],
   "source": [
    "anas_mu_genes = pd.DataFrame()\n",
    "for genes in pi_anas_mutated['Gene name']:\n",
    "    anas_mu_genes[genes] = pd.Series('anas_mu_genes')\n",
    "\n",
    "anas_mu_genes = anas_mu_genes.T\n",
    "\n",
    "anas_mu_genes.to_csv(\"anas_mu_genes.noa\", sep='\\t')"
   ]
  },
  {
   "cell_type": "code",
   "execution_count": 99,
   "metadata": {
    "scrolled": true
   },
   "outputs": [
    {
     "data": {
      "text/plain": [
       "'Name: \\nType: Graph\\nNumber of nodes: 53\\nNumber of edges: 284\\nAverage degree:  10.7170'"
      ]
     },
     "execution_count": 99,
     "metadata": {},
     "output_type": "execute_result"
    }
   ],
   "source": [
    "#Dexrazoxane (Anthracycline, drugname translated to chemical name using DrugBank) drug-gene-patient graph\n",
    "\n",
    "pi_dex_mutated = drug_mutation1[drug_mutation1['Drug_list'] == 'Dexrazoxane']\n",
    "\n",
    "Dexrazoxane_g = nx.from_dict_of_lists(Dexrazoxane,create_using=None) \n",
    "\n",
    "G_dexrazoxane = G.subgraph(Dexrazoxane_g.nodes())\n",
    "\n",
    "# add edges between drug and drug target \n",
    "G_dexrazoxane.add_edges_from([(\"Dexrazoxane\", x) for x in B.neighbors(\"Dexrazoxane\")], edge_type = 'drug_targ')\n",
    "\n",
    "# mutated genes in the subnetwork\n",
    "common_genes3 = set(G_dexrazoxane.nodes()).intersection(pi_dex_mutated[\"Gene name\"])\n",
    "common_pi_dex_mutated = pi_dex_mutated[pi_dex_mutated[\"Gene name\"].isin(common_genes3)]\n",
    "\n",
    "# add edges between patients and mutated genes \n",
    "mutated_pi3 = common_pi_dex_mutated[\"icgc_donor_id\"].tolist()\n",
    "mutated_gene3 = common_pi_dex_mutated[\"Gene name\"].tolist()\n",
    "G_dexrazoxane.add_edges_from(zip(mutated_pi3, mutated_gene3), edge_type = 'pi_dex_mu')\n",
    "\n",
    "nx.write_graphml(G_dexrazoxane, 'Dex_pi_mu_all.graphml')\n",
    "\n",
    "nx.info(G_dexrazoxane)"
   ]
  },
  {
   "cell_type": "code",
   "execution_count": 54,
   "metadata": {
    "collapsed": true
   },
   "outputs": [],
   "source": [
    "dex_mu_genes = pd.DataFrame()\n",
    "for genes in pi_dex_mutated['Gene name']:\n",
    "    dex_mu_genes[genes] = pd.Series('dex_mu_genes')\n",
    "\n",
    "dex_mu_genes =dex_mu_genes.T\n",
    "\n",
    "dex_mu_genes.to_csv(\"dex_mu_genes.noa\", sep='\\t')"
   ]
  },
  {
   "cell_type": "code",
   "execution_count": 101,
   "metadata": {
    "collapsed": true
   },
   "outputs": [],
   "source": [
    "exem = target_paths_all(\"Exemestane\")"
   ]
  },
  {
   "cell_type": "code",
   "execution_count": 110,
   "metadata": {},
   "outputs": [
    {
     "data": {
      "text/plain": [
       "'Name: \\nType: Graph\\nNumber of nodes: 348\\nNumber of edges: 4187\\nAverage degree:  24.0632'"
      ]
     },
     "execution_count": 110,
     "metadata": {},
     "output_type": "execute_result"
    }
   ],
   "source": [
    "#Exemestane drug-gene-patient graph\n",
    "\n",
    "pi_exem_mutated = drug_mutation1[drug_mutation1['Drug_list'] == 'Exemestane']\n",
    "\n",
    "Exemestane_g = nx.from_dict_of_lists(exem,create_using=None) \n",
    "\n",
    "G_Exemestane = G.subgraph(Exemestane_g.nodes())\n",
    "\n",
    "# add edges between drug and drug target \n",
    "G_Exemestane.add_edges_from([(\"Exemestane\", x) for x in B.neighbors(\"Exemestane\")], edge_type = 'drug_targ')\n",
    "\n",
    "# mutated genes in the subnetwork\n",
    "common_genes4 = set(G_Exemestane.nodes()).intersection(pi_exem_mutated[\"Gene name\"])\n",
    "common_pi_exem_mutated = pi_exem_mutated[pi_exem_mutated[\"Gene name\"].isin(common_genes4)]\n",
    "\n",
    "# add edges between patients and mutated genes \n",
    "mutated_pi4 = common_pi_exem_mutated[\"icgc_donor_id\"].tolist()\n",
    "mutated_gene4 = common_pi_exem_mutated[\"Gene name\"].tolist()\n",
    "G_Exemestane.add_edges_from(zip(mutated_pi4, mutated_gene4), edge_type ='pi_exem_mu')\n",
    "\n",
    "nx.write_graphml(G_Exemestane, 'Exem_pi_mu_all2.graphml')\n",
    "##2-hop, 346 nodes, 4108 edges \n",
    "nx.info(G_Exemestane)"
   ]
  },
  {
   "cell_type": "code",
   "execution_count": 112,
   "metadata": {
    "collapsed": true
   },
   "outputs": [],
   "source": [
    "exem_mu_genes = pd.DataFrame()\n",
    "for genes in pi_exem_mutated['Gene name']:\n",
    "    exem_mu_genes[genes] = pd.Series('exem_mu_genes')\n",
    "\n",
    "exem_mu_genes =exem_mu_genes.T\n",
    "\n",
    "exem_mu_genes.to_csv(\"exem_mu_genes.noa\", sep='\\t')"
   ]
  },
  {
   "cell_type": "code",
   "execution_count": 47,
   "metadata": {},
   "outputs": [
    {
     "data": {
      "text/plain": [
       "'Name: \\nType: Graph\\nNumber of nodes: 36\\nNumber of edges: 310\\nAverage degree:  17.2222'"
      ]
     },
     "execution_count": 47,
     "metadata": {},
     "output_type": "execute_result"
    }
   ],
   "source": [
    "#Letrozole (Femara, drugname before being translated to chemical name using DrugBank) drug-gene-patient graph\n",
    "\n",
    "pi_letro_mutated = drug_mutation1[drug_mutation1['Drug_list'] == 'Letrozole']\n",
    "Letrozole_g = nx.from_dict_of_lists(Letrozole,create_using=None) \n",
    "\n",
    "G_Letrozole = G.subgraph(Letrozole_g.nodes())\n",
    "\n",
    "# add edges between drug and drug target \n",
    "G_Letrozole.add_edges_from([(\"Letrozole\", x) for x in B.neighbors(\"Letrozole\")], edge_type = 'drug_targ')\n",
    "\n",
    "# mutated genes in the subnetwork\n",
    "common_genes5 = set(G_Letrozole.nodes()).intersection(pi_letro_mutated[\"Gene name\"])\n",
    "common_pi_letro_mutated = pi_letro_mutated[pi_letro_mutated[\"Gene name\"].isin(common_genes5)]\n",
    "\n",
    "# add edges between patients and mutated genes \n",
    "mutated_pi5 = common_pi_letro_mutated[\"icgc_donor_id\"].tolist()\n",
    "mutated_gene5 = common_pi_letro_mutated[\"Gene name\"].tolist()\n",
    "G_Letrozole.add_edges_from(zip(mutated_pi5, mutated_gene5), edge_type = 'pi_letro_mu')\n",
    "\n",
    "nx.write_graphml(G_Letrozole, 'Letro_pi_mu_all1nbr.graphml')\n",
    "#both patients in first 1nbr drugs didn't continue treatment after 1 therapy. no known response from 1st therapy. \n",
    "nx.info(G_Letrozole)"
   ]
  },
  {
   "cell_type": "code",
   "execution_count": 67,
   "metadata": {
    "collapsed": true
   },
   "outputs": [],
   "source": [
    "letro_mu_genes = pd.DataFrame()\n",
    "for genes in pi_letro_mutated['Gene name']:\n",
    "    letro_mu_genes[genes] = pd.Series('letro_mu_genes')\n",
    "\n",
    "letro_mu_genes =letro_mu_genes.T\n",
    "letro_mu_genes.to_csv(\"letro_mu_genes.noa\", sep='\\t')"
   ]
  },
  {
   "cell_type": "code",
   "execution_count": 103,
   "metadata": {},
   "outputs": [
    {
     "data": {
      "text/plain": [
       "'Name: \\nType: Graph\\nNumber of nodes: 75\\nNumber of edges: 288\\nAverage degree:   7.6800'"
      ]
     },
     "execution_count": 103,
     "metadata": {},
     "output_type": "execute_result"
    }
   ],
   "source": [
    "#Docetaxel (Taxotere, drugname before being translated to chemical name using DrugBank)\n",
    "pi_doce_mutated = drug_mutation1[drug_mutation1['Drug_list'] == 'Docetaxel']\n",
    "\n",
    "Docetaxel_g = nx.from_dict_of_lists(Docetaxel,create_using=None)\n",
    "\n",
    "G_Docetaxel = G.subgraph(Docetaxel_g.nodes())\n",
    "\n",
    "# add edges between drug and drug target \n",
    "G_Docetaxel.add_edges_from([(\"Docetaxel\", x) for x in B.neighbors(\"Docetaxel\")], edge_type ='drug_targ')\n",
    "\n",
    "# mutated genes in the subnetwork\n",
    "common_genes6 = set(G_Docetaxel.nodes()).intersection(pi_doce_mutated[\"Gene name\"])\n",
    "common_pi_doce_mutated = pi_doce_mutated[pi_doce_mutated[\"Gene name\"].isin(common_genes6)]\n",
    "\n",
    "# add edges between patients and mutated genes \n",
    "\n",
    "mutated_pi6 = common_pi_doce_mutated[\"icgc_donor_id\"].tolist()\n",
    "mutated_gene6 = common_pi_doce_mutated[\"Gene name\"].tolist()\n",
    "G_Docetaxel.add_edges_from(zip(mutated_pi6, mutated_gene6), edge_type = 'pi_doce_mu')\n",
    "\n",
    "nx.write_graphml(G_Docetaxel, 'Doce_pi_mu_all.graphml')\n",
    "\n",
    "nx.info(G_Docetaxel)"
   ]
  },
  {
   "cell_type": "code",
   "execution_count": 120,
   "metadata": {
    "collapsed": true
   },
   "outputs": [],
   "source": [
    "doce_mu_genes = pd.DataFrame()\n",
    "for genes in pi_doce_mutated['Gene name']:\n",
    "    doce_mu_genes[genes] = pd.Series('doce_mu_genes')\n",
    "\n",
    "doce_mu_genes =doce_mu_genes.T\n",
    "doce_mu_genes.to_csv(\"doce_mu_genes.noa\", sep='\\t')"
   ]
  },
  {
   "cell_type": "code",
   "execution_count": 104,
   "metadata": {},
   "outputs": [
    {
     "data": {
      "text/plain": [
       "'Name: \\nType: Graph\\nNumber of nodes: 197\\nNumber of edges: 2149\\nAverage degree:  21.8173'"
      ]
     },
     "execution_count": 104,
     "metadata": {},
     "output_type": "execute_result"
    }
   ],
   "source": [
    "#Fulvestrant (Faslodex, drugname before being translated to chemical name using DrugBank) drug-gene-patient graph\n",
    "\n",
    "pi_fulv_mutated = drug_mutation1[drug_mutation1['Drug_list'] == 'Fulvestrant']\n",
    "\n",
    "Fulvestrant_g = nx.from_dict_of_lists(Fulvestrant,create_using=None)\n",
    "\n",
    "G_Fulvestrant = G.subgraph(Fulvestrant_g.nodes())\n",
    "\n",
    "# add edges between drug and drug target \n",
    "G_Fulvestrant.add_edges_from([(\"Fulvestrant\", x) for x in B.neighbors(\"Fulvestrant\")], edge_type = 'drug_targ')\n",
    "\n",
    "# mutated genes in the subnetwork\n",
    "common_genes7 = set(G_Fulvestrant.nodes()).intersection(pi_fulv_mutated[\"Gene name\"])\n",
    "common_pi_fulv_mutated = pi_fulv_mutated[pi_fulv_mutated[\"Gene name\"].isin(common_genes7)]\n",
    "\n",
    "# add edges between patients and mutated genes \n",
    "\n",
    "mutated_pi7 = common_pi_fulv_mutated[\"icgc_donor_id\"].tolist()\n",
    "mutated_gene7 = common_pi_fulv_mutated[\"Gene name\"].tolist()\n",
    "G_Fulvestrant.add_edges_from(zip(mutated_pi7, mutated_gene7), edge_type = 'pi_fulv_mu')\n",
    "\n",
    "nx.write_graphml(G_Fulvestrant, 'Fulv_pi_mu_all.graphml')\n",
    "\n",
    "nx.info(G_Fulvestrant)"
   ]
  },
  {
   "cell_type": "code",
   "execution_count": 122,
   "metadata": {
    "collapsed": true
   },
   "outputs": [],
   "source": [
    "fulv_mu_genes = pd.DataFrame()\n",
    "for genes in pi_fulv_mutated['Gene name']:\n",
    "    fulv_mu_genes[genes] = pd.Series('fulv_mu_genes')\n",
    "\n",
    "fulv_mu_genes =fulv_mu_genes.T\n",
    "fulv_mu_genes.to_csv(\"fulv_mu_genes.noa\", sep='\\t')"
   ]
  },
  {
   "cell_type": "code",
   "execution_count": 105,
   "metadata": {},
   "outputs": [
    {
     "data": {
      "text/plain": [
       "'Name: \\nType: Graph\\nNumber of nodes: 41\\nNumber of edges: 194\\nAverage degree:   9.4634'"
      ]
     },
     "execution_count": 105,
     "metadata": {},
     "output_type": "execute_result"
    }
   ],
   "source": [
    "#Capecitabine (Xeloda, drugname before being translated to chemical name using DrugBank)\n",
    "\n",
    "pi_capec_mutated = drug_mutation1[drug_mutation1['Drug_list'] == 'Capecitabine']\n",
    "\n",
    "Capecitabine_g = nx.from_dict_of_lists(Capecitabine,create_using=None)\n",
    "\n",
    "G_Capecitabine = G.subgraph(Capecitabine_g.nodes())\n",
    "\n",
    "# add edges between drug and drug target \n",
    "G_Capecitabine.add_edges_from([(\"Capecitabine\", x) for x in B.neighbors(\"Capecitabine\")], edge_type = 'drug_targ')\n",
    "\n",
    "# mutated genes in the subnetwork\n",
    "common_genes8 = set(G_Capecitabine.nodes()).intersection(pi_capec_mutated[\"Gene name\"])\n",
    "common_pi_capec_mutated = pi_capec_mutated[pi_capec_mutated[\"Gene name\"].isin(common_genes8)]\n",
    "\n",
    "# add edges between patients and mutated genes \n",
    "\n",
    "mutated_pi8 = common_pi_capec_mutated[\"icgc_donor_id\"].tolist()\n",
    "mutated_gene8 = common_pi_capec_mutated[\"Gene name\"].tolist()\n",
    "G_Capecitabine.add_edges_from(zip(mutated_pi8, mutated_gene8), edge_type = 'pi_capec_mu')\n",
    "\n",
    "nx.write_graphml(G_Capecitabine, 'Capec_pi_mu_all.graphml')\n",
    "\n",
    "nx.info(G_Capecitabine)"
   ]
  },
  {
   "cell_type": "code",
   "execution_count": 123,
   "metadata": {
    "collapsed": true
   },
   "outputs": [],
   "source": [
    "capec_mu_genes = pd.DataFrame()\n",
    "for genes in pi_capec_mutated['Gene name']:\n",
    "    capec_mu_genes[genes] = pd.Series('capec_mu_genes')\n",
    "\n",
    "capec_mu_genes =capec_mu_genes.T\n",
    "capec_mu_genes.to_csv(\"capec_mu_genes.noa\", sep='\\t')"
   ]
  },
  {
   "cell_type": "code",
   "execution_count": 106,
   "metadata": {},
   "outputs": [
    {
     "data": {
      "text/plain": [
       "'Name: \\nType: Graph\\nNumber of nodes: 2\\nNumber of edges: 1\\nAverage degree:   1.0000'"
      ]
     },
     "execution_count": 106,
     "metadata": {},
     "output_type": "execute_result"
    }
   ],
   "source": [
    "#Vinorelbine (Navelbine, drugname before being translated to chemical name using DrugBank)\n",
    "\n",
    "pi_vinor_mutated = drug_mutation1[drug_mutation1['Drug_list'] == 'Vinorelbine']\n",
    "\n",
    "Vinorelbine_g = nx.from_dict_of_lists(Vinorelbine,create_using=None)\n",
    "\n",
    "G_Vinorelbine = G.subgraph(Vinorelbine_g.nodes())\n",
    "\n",
    "# add edges between drug and drug target \n",
    "G_Vinorelbine.add_edges_from([(\"Vinorelbine\", x) for x in B.neighbors(\"Vinorelbine\")], edge_type = 'drug_targ')\n",
    "\n",
    "# mutated genes in the subnetwork\n",
    "common_genes9 = set(G_Vinorelbine.nodes()).intersection(pi_vinor_mutated[\"Gene name\"])\n",
    "common_pi_vinor_mutated = pi_vinor_mutated[pi_vinor_mutated[\"Gene name\"].isin(common_genes9)]\n",
    "\n",
    "# add edges between patients and mutated genes \n",
    "\n",
    "mutated_pi9 = common_pi_vinor_mutated[\"icgc_donor_id\"].tolist()\n",
    "mutated_gene9 = common_pi_vinor_mutated[\"Gene name\"].tolist()\n",
    "G_Vinorelbine.add_edges_from(zip(mutated_pi9, mutated_gene9), edge_type = 'pi_vinor_mu')\n",
    "\n",
    "nx.write_graphml(G_Vinorelbine, 'Vinor_pi_mu_all.graphml')\n",
    "\n",
    "nx.info(G_Vinorelbine)"
   ]
  },
  {
   "cell_type": "code",
   "execution_count": 72,
   "metadata": {},
   "outputs": [
    {
     "data": {
      "text/plain": [
       "['TUBB']"
      ]
     },
     "execution_count": 72,
     "metadata": {},
     "output_type": "execute_result"
    }
   ],
   "source": [
    "B.neighbors(\"Vinorelbine\")     #not in string network"
   ]
  },
  {
   "cell_type": "code",
   "execution_count": 107,
   "metadata": {},
   "outputs": [
    {
     "data": {
      "text/plain": [
       "'Name: \\nType: Graph\\nNumber of nodes: 3\\nNumber of edges: 2\\nAverage degree:   1.3333'"
      ]
     },
     "execution_count": 107,
     "metadata": {},
     "output_type": "execute_result"
    }
   ],
   "source": [
    "#Methotrexate \n",
    "pi_metho_mutated = drug_mutation1[drug_mutation1['Drug_list'] == 'Methotrexate']\n",
    "\n",
    "Methotrexate_g = nx.from_dict_of_lists(Methotrexate,create_using=None)\n",
    "\n",
    "G_Methotrexate = G.subgraph(Methotrexate_g.nodes())\n",
    "\n",
    "# add edges between drug and drug target \n",
    "G_Methotrexate.add_edges_from([(\"Methotrexate\", x) for x in B.neighbors(\"Methotrexate\")], edge_type= 'drug_targ')\n",
    "\n",
    "# mutated genes in the subnetwork\n",
    "common_genes10 = set(G_Methotrexate.nodes()).intersection(pi_metho_mutated[\"Gene name\"])\n",
    "common_pi_metho_mutated = pi_metho_mutated[pi_metho_mutated[\"Gene name\"].isin(common_genes10)]\n",
    "\n",
    "# add edges between patients and mutated genes \n",
    "\n",
    "mutated_pi10 = common_pi_metho_mutated[\"icgc_donor_id\"].tolist()\n",
    "mutated_gene10 = common_pi_metho_mutated[\"Gene name\"].tolist()\n",
    "G_Methotrexate.add_edges_from(zip(mutated_pi10, mutated_gene10), edge_type='pi_metho_mu')\n",
    "\n",
    "nx.write_graphml(G_Methotrexate, 'Metho_pi_mu_all.graphml')\n",
    "\n",
    "nx.info(G_Methotrexate)"
   ]
  },
  {
   "cell_type": "code",
   "execution_count": 74,
   "metadata": {},
   "outputs": [
    {
     "data": {
      "text/plain": [
       "['DHFR']"
      ]
     },
     "execution_count": 74,
     "metadata": {},
     "output_type": "execute_result"
    }
   ],
   "source": [
    "B.neighbors('Methotrexate')       #not in string network"
   ]
  },
  {
   "cell_type": "code",
   "execution_count": 57,
   "metadata": {},
   "outputs": [
    {
     "data": {
      "text/plain": [
       "'Name: \\nType: Graph\\nNumber of nodes: 53\\nNumber of edges: 226\\nAverage degree:   8.5283'"
      ]
     },
     "execution_count": 57,
     "metadata": {},
     "output_type": "execute_result"
    }
   ],
   "source": [
    "#Fluorouracil\n",
    "\n",
    "pi_fluo_mutated = drug_mutation1[drug_mutation1['Drug_list'] == 'Fluorouracil']\n",
    "\n",
    "Fluorouracil_g = nx.from_dict_of_lists(Fluorouracil,create_using=None)\n",
    "\n",
    "G_Fluorouracil = G.subgraph(Fluorouracil_g.nodes())\n",
    "\n",
    "# add edges between drug and drug target \n",
    "G_Fluorouracil.add_edges_from([(\"Fluorouracil\", x) for x in B.neighbors(\"Fluorouracil\")], edge_type ='drug_targ')\n",
    "\n",
    "# mutated genes in the subnetwork\n",
    "common_genes11 = set(G_Fluorouracil.nodes()).intersection(pi_fluo_mutated[\"Gene name\"])\n",
    "common_pi_fluo_mutated = pi_fluo_mutated[pi_fluo_mutated[\"Gene name\"].isin(common_genes11)]\n",
    "\n",
    "# add edges between patients and mutated genes \n",
    "\n",
    "mutated_pi11 = common_pi_fluo_mutated[\"icgc_donor_id\"].tolist()\n",
    "mutated_gene11 = common_pi_fluo_mutated[\"Gene name\"].tolist()\n",
    "G_Fluorouracil.add_edges_from(zip(mutated_pi11, mutated_gene11), edge_type = 'pi_fluo_mu')\n",
    "\n",
    "nx.write_graphml(G_Fluorouracil, 'Fluo_pi_mu_all.graphml')\n",
    "\n",
    "nx.info(G_Fluorouracil)"
   ]
  },
  {
   "cell_type": "code",
   "execution_count": 125,
   "metadata": {
    "collapsed": true
   },
   "outputs": [],
   "source": [
    "fluo_mu_genes = pd.DataFrame()\n",
    "for genes in pi_fluo_mutated['Gene name']:\n",
    "    fluo_mu_genes[genes] = pd.Series('fluo_mu_genes')\n",
    "\n",
    "fluo_mu_genes =fluo_mu_genes.T\n",
    "fluo_mu_genes.to_csv(\"fluo_mu_genes.noa\", sep='\\t')"
   ]
  },
  {
   "cell_type": "code",
   "execution_count": 58,
   "metadata": {},
   "outputs": [
    {
     "data": {
      "text/plain": [
       "'Name: \\nType: Graph\\nNumber of nodes: 52\\nNumber of edges: 230\\nAverage degree:   8.8462'"
      ]
     },
     "execution_count": 58,
     "metadata": {},
     "output_type": "execute_result"
    }
   ],
   "source": [
    "#Doxorubincin (Adriamycin, drugname before being translated to chemical name using DrugBank)\n",
    "\n",
    "pi_doxo_mutated = drug_mutation1[drug_mutation1['Drug_list'] == 'Doxorubicin']\n",
    "\n",
    "Doxorubicin_g = nx.from_dict_of_lists(Doxorubicin,create_using=None)\n",
    "\n",
    "G_Doxorubicin = G.subgraph(Doxorubicin_g.nodes())\n",
    "\n",
    "# add edges between drug and drug target \n",
    "G_Doxorubicin.add_edges_from([(\"Doxorubicin\", x) for x in B.neighbors(\"Doxorubicin\")], edge_type = 'drug_targ')\n",
    "\n",
    "# mutated genes in the subnetwork\n",
    "common_genes12 = set(G_Doxorubicin.nodes()).intersection(pi_doxo_mutated[\"Gene name\"])\n",
    "common_pi_doxo_mutated = pi_doxo_mutated[pi_doxo_mutated[\"Gene name\"].isin(common_genes12)]\n",
    "\n",
    "# add edges between patients and mutated genes \n",
    "\n",
    "mutated_pi12 = common_pi_doxo_mutated[\"icgc_donor_id\"].tolist()\n",
    "mutated_gene12 = common_pi_doxo_mutated[\"Gene name\"].tolist()\n",
    "G_Doxorubicin.add_edges_from(zip(mutated_pi12, mutated_gene12), edge_type = 'pi_doxo_mu')\n",
    "\n",
    "nx.write_graphml(G_Doxorubicin, 'Doxo_pi_mu_all.graphml')\n",
    "\n",
    "nx.info(G_Doxorubicin)"
   ]
  },
  {
   "cell_type": "code",
   "execution_count": 126,
   "metadata": {
    "collapsed": true
   },
   "outputs": [],
   "source": [
    "doxo_mu_genes = pd.DataFrame()\n",
    "for genes in pi_doxo_mutated['Gene name']:\n",
    "    fulv_mu_genes[genes] = pd.Series('doxo_mu_genes')\n",
    "\n",
    "doxo_mu_genes =doxo_mu_genes.T\n",
    "doxo_mu_genes.to_csv(\"doxo_mu_genes.noa\", sep='\\t')"
   ]
  },
  {
   "cell_type": "code",
   "execution_count": 110,
   "metadata": {},
   "outputs": [
    {
     "data": {
      "text/plain": [
       "'Name: \\nType: Graph\\nNumber of nodes: 70\\nNumber of edges: 206\\nAverage degree:   5.8857'"
      ]
     },
     "execution_count": 110,
     "metadata": {},
     "output_type": "execute_result"
    }
   ],
   "source": [
    "#Paclitaxel (Taxol, drugname before being translated to chemical name using DrugBank)\n",
    "\n",
    "pi_taxol_mutated = drug_mutation1[drug_mutation1['Drug_list'] == 'Paclitaxel']\n",
    "\n",
    "Paclitaxel_g = nx.from_dict_of_lists(Paclitaxel,create_using=None)\n",
    "\n",
    "G_Paclitaxel = G.subgraph(Paclitaxel_g.nodes())\n",
    "\n",
    "# add edges between drug and drug target \n",
    "G_Paclitaxel.add_edges_from([(\"Paclitaxel\", x) for x in B.neighbors(\"Paclitaxel\")], edge_type = 'drug_targ')\n",
    "\n",
    "# mutated genes in the subnetwork\n",
    "common_genes13 = set(G_Paclitaxel.nodes()).intersection(pi_taxol_mutated[\"Gene name\"])\n",
    "common_pi_taxol_mutated = pi_taxol_mutated[pi_taxol_mutated[\"Gene name\"].isin(common_genes13)]\n",
    "\n",
    "# add edges between patients and mutated genes \n",
    "\n",
    "mutated_pi13 = common_pi_taxol_mutated[\"icgc_donor_id\"].tolist()\n",
    "mutated_gene13 = common_pi_taxol_mutated[\"Gene name\"].tolist()\n",
    "G_Paclitaxel.add_edges_from(zip(mutated_pi13, mutated_gene13), edge_type = 'pi_taxel_mu')\n",
    "\n",
    "nx.write_graphml(G_Paclitaxel, 'Taxol_pi_mu_all.graphml')\n",
    "\n",
    "nx.info(G_Paclitaxel)"
   ]
  },
  {
   "cell_type": "code",
   "execution_count": 127,
   "metadata": {
    "collapsed": true
   },
   "outputs": [],
   "source": [
    "taxol_mu_genes = pd.DataFrame()\n",
    "for genes in pi_taxol_mutated['Gene name']:\n",
    "    taxol_mu_genes[genes] = pd.Series('taxol_mu_genes')\n",
    "\n",
    "taxol_mu_genes =taxol_mu_genes.T\n",
    "taxol_mu_genes.to_csv(\"taxol_mu_genes.noa\", sep='\\t')"
   ]
  },
  {
   "cell_type": "code",
   "execution_count": 111,
   "metadata": {},
   "outputs": [
    {
     "data": {
      "text/plain": [
       "'Name: \\nType: Graph\\nNumber of nodes: 193\\nNumber of edges: 2806\\nAverage degree:  29.0777'"
      ]
     },
     "execution_count": 111,
     "metadata": {},
     "output_type": "execute_result"
    }
   ],
   "source": [
    "#Bevacizumab (Avastin, drugname before being translated to chemical name using DrugBank)\n",
    "\n",
    "pi_bevac_mutated = drug_mutation1[drug_mutation1['Drug_list'] == 'Bevacizumab']\n",
    "\n",
    "Bevacizumab_g = nx.from_dict_of_lists(Bevacizumab,create_using=None)\n",
    "\n",
    "G_Bevacizumab = G.subgraph(Bevacizumab_g.nodes())\n",
    "\n",
    "# add edges between drug and drug target \n",
    "G_Bevacizumab.add_edges_from([(\"Bevacizumab\", x) for x in B.neighbors(\"Bevacizumab\")], edge_type = 'drug_targ')\n",
    "\n",
    "# mutated genes in the subnetwork\n",
    "common_genes14 = set(G_Bevacizumab.nodes()).intersection(pi_bevac_mutated[\"Gene name\"])\n",
    "common_pi_bevac_mutated = pi_bevac_mutated[pi_bevac_mutated[\"Gene name\"].isin(common_genes14)]\n",
    "\n",
    "# add edges between patients and mutated genes \n",
    "\n",
    "mutated_pi14 = common_pi_bevac_mutated[\"icgc_donor_id\"].tolist()\n",
    "mutated_gene14 = common_pi_bevac_mutated[\"Gene name\"].tolist()\n",
    "G_Bevacizumab.add_edges_from(zip(mutated_pi14, mutated_gene14), edge_type ='pi_bevac_mu')\n",
    "\n",
    "nx.write_graphml(G_Bevacizumab, 'Bevac_pi_mu_all.graphml')\n",
    "\n",
    "nx.info(G_Bevacizumab)"
   ]
  },
  {
   "cell_type": "code",
   "execution_count": 128,
   "metadata": {
    "collapsed": true
   },
   "outputs": [],
   "source": [
    "bevac_mu_genes = pd.DataFrame()\n",
    "for genes in pi_bevac_mutated['Gene name']:\n",
    "    bevac_mu_genes[genes] = pd.Series('bevac_mu_genes')\n",
    "\n",
    "bevac_mu_genes =bevac_mu_genes.T\n",
    "bevac_mu_genes.to_csv(\"bevac_mu_genes.noa\", sep='\\t')"
   ]
  },
  {
   "cell_type": "code",
   "execution_count": 112,
   "metadata": {},
   "outputs": [
    {
     "data": {
      "text/plain": [
       "'Name: \\nType: Graph\\nNumber of nodes: 313\\nNumber of edges: 4028\\nAverage degree:  25.7380'"
      ]
     },
     "execution_count": 112,
     "metadata": {},
     "output_type": "execute_result"
    }
   ],
   "source": [
    "#Trastuzumab (Herceptin, drugname before being translated to chemical name using DrugBank)\n",
    "\n",
    "pi_tras_mutated = drug_mutation1[drug_mutation1['Drug_list'] == 'Trastuzumab']\n",
    "\n",
    "Trastuzumab_g = nx.from_dict_of_lists(Trastuzumab,create_using=None)\n",
    "\n",
    "G_Trastuzumab = G.subgraph(Trastuzumab_g.nodes())\n",
    "\n",
    "# add edges between drug and drug target \n",
    "G_Trastuzumab.add_edges_from([(\"Trastuzumab\", x) for x in B.neighbors(\"Trastuzumab\")], edge_type = 'drug_targ')\n",
    "\n",
    "# mutated genes in the subnetwork\n",
    "common_genes15 = set(G_Trastuzumab.nodes()).intersection(pi_tras_mutated[\"Gene name\"])\n",
    "common_pi_tras_mutated = pi_tras_mutated[pi_tras_mutated[\"Gene name\"].isin(common_genes15)]\n",
    "\n",
    "# add edges between patients and mutated genes \n",
    "\n",
    "mutated_pi15 = common_pi_tras_mutated[\"icgc_donor_id\"].tolist()\n",
    "mutated_gene15 = common_pi_tras_mutated[\"Gene name\"].tolist()\n",
    "G_Trastuzumab.add_edges_from(zip(mutated_pi15, mutated_gene15), edge_type = 'pi_tras_mu')\n",
    "\n",
    "nx.write_graphml(G_Trastuzumab, 'Tras_pi_mu_all.graphml')\n",
    "\n",
    "nx.info(G_Trastuzumab)"
   ]
  },
  {
   "cell_type": "code",
   "execution_count": 129,
   "metadata": {
    "collapsed": true
   },
   "outputs": [],
   "source": [
    "tras_mu_genes = pd.DataFrame()\n",
    "for genes in pi_tras_mutated['Gene name']:\n",
    "    tras_mu_genes[genes] = pd.Series('tras_mu_genes')\n",
    "\n",
    "tras_mu_genes =tras_mu_genes.T\n",
    "tras_mu_genes.to_csv(\"tras_mu_genes.noa\", sep='\\t')"
   ]
  },
  {
   "cell_type": "code",
   "execution_count": 62,
   "metadata": {},
   "outputs": [
    {
     "data": {
      "text/plain": [
       "'Name: \\nType: Graph\\nNumber of nodes: 50\\nNumber of edges: 224\\nAverage degree:   8.9600'"
      ]
     },
     "execution_count": 62,
     "metadata": {},
     "output_type": "execute_result"
    }
   ],
   "source": [
    "#Epirubicin \n",
    "pi_epi_mutated = drug_mutation1[drug_mutation1['Drug_list'] == 'Epirubicin']\n",
    "\n",
    "Epirubicin_g = nx.from_dict_of_lists(Epirubicin,create_using=None)\n",
    "\n",
    "G_Epirubicin = G.subgraph(Epirubicin_g.nodes())\n",
    "\n",
    "# add edges between drug and drug target \n",
    "G_Epirubicin.add_edges_from([(\"Epirubicin\", x) for x in B.neighbors(\"Epirubicin\")], edge_type = 'drug_targ')\n",
    "\n",
    "# mutated genes in the subnetwork\n",
    "common_genes16 = set(G_Epirubicin.nodes()).intersection(pi_epi_mutated[\"Gene name\"])\n",
    "common_pi_epi_mutated = pi_epi_mutated[pi_epi_mutated[\"Gene name\"].isin(common_genes16)]\n",
    "\n",
    "# add edges between patients and mutated genes \n",
    "\n",
    "mutated_pi16 = common_pi_epi_mutated[\"icgc_donor_id\"].tolist()\n",
    "mutated_gene16 = common_pi_epi_mutated[\"Gene name\"].tolist()\n",
    "G_Epirubicin.add_edges_from(zip(mutated_pi16, mutated_gene16), edge_type= 'pi_epi_mu')\n",
    "\n",
    "nx.write_graphml(G_Epirubicin, 'Epi_pi_mu_all.graphml')\n",
    "\n",
    "nx.info(G_Epirubicin)"
   ]
  },
  {
   "cell_type": "code",
   "execution_count": 130,
   "metadata": {
    "collapsed": true
   },
   "outputs": [],
   "source": [
    "epi_mu_genes = pd.DataFrame()\n",
    "for genes in pi_epi_mutated['Gene name']:\n",
    "    epi_mu_genes[genes] = pd.Series('epi_mu_genes')\n",
    "\n",
    "epi_mu_genes =epi_mu_genes.T\n",
    "epi_mu_genes.to_csv(\"epi_mu_genes.noa\", sep='\\t')"
   ]
  },
  {
   "cell_type": "code",
   "execution_count": 114,
   "metadata": {},
   "outputs": [
    {
     "data": {
      "text/plain": [
       "'Name: \\nType: Graph\\nNumber of nodes: 78\\nNumber of edges: 596\\nAverage degree:  15.2821'"
      ]
     },
     "execution_count": 114,
     "metadata": {},
     "output_type": "execute_result"
    }
   ],
   "source": [
    "#Gemcitabine \n",
    "\n",
    "pi_gem_mutated = drug_mutation1[drug_mutation1['Drug_list'] == 'Gemcitabine']\n",
    "\n",
    "Gemcitabine_g = nx.from_dict_of_lists(Gemcitabine,create_using=None)\n",
    "\n",
    "G_Gemcitabine = G.subgraph(Gemcitabine_g.nodes())\n",
    "\n",
    "# add edges between drug and drug target \n",
    "G_Gemcitabine.add_edges_from([(\"Gemcitabine\", x) for x in B.neighbors(\"Gemcitabine\")], edge_type = 'drug_targ')\n",
    "\n",
    "# mutated genes in the subnetwork\n",
    "common_genes17 = set(G_Gemcitabine.nodes()).intersection(pi_gem_mutated[\"Gene name\"])\n",
    "common_pi_gem_mutated = pi_gem_mutated[pi_gem_mutated[\"Gene name\"].isin(common_genes17)]\n",
    "\n",
    "# add edges between patients and mutated genes \n",
    "\n",
    "mutated_pi17 = common_pi_gem_mutated[\"icgc_donor_id\"].tolist()\n",
    "mutated_gene17 = common_pi_gem_mutated[\"Gene name\"].tolist()\n",
    "G_Gemcitabine.add_edges_from(zip(mutated_pi17, mutated_gene17), edge_type = 'pi_gem_mu')\n",
    "\n",
    "nx.write_graphml(G_Gemcitabine, 'Gem_pi_mu_all.graphml')\n",
    "\n",
    "nx.info(G_Gemcitabine)"
   ]
  },
  {
   "cell_type": "code",
   "execution_count": 131,
   "metadata": {
    "collapsed": true
   },
   "outputs": [],
   "source": [
    "gem_mu_genes = pd.DataFrame()\n",
    "for genes in pi_gem_mutated['Gene name']:\n",
    "    gem_mu_genes[genes] = pd.Series('gem_mu_genes')\n",
    "\n",
    "gem_mu_genes =gem_mu_genes.T\n",
    "gem_mu_genes.to_csv(\"gem_mu_genes.noa\", sep='\\t')"
   ]
  },
  {
   "cell_type": "code",
   "execution_count": 115,
   "metadata": {},
   "outputs": [
    {
     "data": {
      "text/plain": [
       "'Name: \\nType: Graph\\nNumber of nodes: 52\\nNumber of edges: 345\\nAverage degree:  13.2692'"
      ]
     },
     "execution_count": 115,
     "metadata": {},
     "output_type": "execute_result"
    }
   ],
   "source": [
    "#Alendronic acid (Fosavance, mispelled in donor_therapy csv file as Fesavance) \n",
    "\n",
    "pi_alen_mutated = drug_mutation1[drug_mutation1['Drug_list'] == 'Alendronic acid']\n",
    "\n",
    "Alendronic_acid_g = nx.from_dict_of_lists(Alendronic_acid,create_using=None)\n",
    "\n",
    "G_Alendronic_acid = G.subgraph(Alendronic_acid_g.nodes())\n",
    "\n",
    "# add edges between drug and drug target \n",
    "G_Alendronic_acid.add_edges_from([(\"Alendronic acid\", x) for x in B.neighbors(\"Alendronic acid\")],edge_type = 'drug_targ')\n",
    "\n",
    "# mutated genes in the subnetwork\n",
    "common_genes18 = set(G_Alendronic_acid.nodes()).intersection(pi_alen_mutated[\"Gene name\"])\n",
    "common_pi_alen_mutated = pi_alen_mutated[pi_alen_mutated[\"Gene name\"].isin(common_genes18)]\n",
    "\n",
    "# add edges between patients and mutated genes \n",
    "\n",
    "mutated_pi18 = common_pi_alen_mutated[\"icgc_donor_id\"].tolist()\n",
    "mutated_gene18 = common_pi_alen_mutated[\"Gene name\"].tolist()\n",
    "G_Alendronic_acid.add_edges_from(zip(mutated_pi18, mutated_gene18), edge_type = 'pi_alen_mu')\n",
    "\n",
    "nx.write_graphml(G_Alendronic_acid, 'Alen_pi_mu_all.graphml')\n",
    "\n",
    "nx.info(G_Alendronic_acid)"
   ]
  },
  {
   "cell_type": "code",
   "execution_count": 132,
   "metadata": {
    "collapsed": true
   },
   "outputs": [],
   "source": [
    "alen_mu_genes = pd.DataFrame()\n",
    "for genes in pi_alen_mutated['Gene name']:\n",
    "    alen_mu_genes[genes] = pd.Series('alen_mu_genes')\n",
    "\n",
    "alen_mu_genes =alen_mu_genes.T\n",
    "alen_mu_genes.to_csv(\"alen_mu_genes.noa\", sep='\\t')"
   ]
  },
  {
   "cell_type": "code",
   "execution_count": 117,
   "metadata": {},
   "outputs": [
    {
     "data": {
      "text/plain": [
       "'Name: \\nType: Graph\\nNumber of nodes: 68\\nNumber of edges: 1791\\nAverage degree:  52.6765'"
      ]
     },
     "execution_count": 117,
     "metadata": {},
     "output_type": "execute_result"
    }
   ],
   "source": [
    "#Buserelin (annoted as 'LHRH-a in donor_therapy file, interpreted using DrugBank as Buserelin)\n",
    "\n",
    "pi_bus_mutated = drug_mutation1[drug_mutation1['Drug_list'] == 'Buserelin']\n",
    "\n",
    "Buserelin_g = nx.from_dict_of_lists(Buserelin,create_using=None)\n",
    "\n",
    "G_Buserelin = G.subgraph(Buserelin_g.nodes())\n",
    "\n",
    "# add edges between drug and drug target \n",
    "G_Buserelin.add_edges_from([(\"Buserelin\", x) for x in B.neighbors(\"Buserelin\")], edge_type='drug_targ')\n",
    "\n",
    "# mutated genes in the subnetwork\n",
    "common_genes19 = set(G_Buserelin.nodes()).intersection(pi_bus_mutated[\"Gene name\"])\n",
    "common_pi_bus_mutated = pi_bus_mutated[pi_bus_mutated[\"Gene name\"].isin(common_genes19)]\n",
    "\n",
    "# add edges between patients and mutated genes \n",
    "\n",
    "mutated_pi19 = common_pi_bus_mutated[\"icgc_donor_id\"].tolist()\n",
    "mutated_gene19 = common_pi_bus_mutated[\"Gene name\"].tolist()\n",
    "G_Buserelin.add_edges_from(zip(mutated_pi19, mutated_gene19), edge_type ='pi_mutation')\n",
    "\n",
    "nx.write_graphml(G_Buserelin, 'Bus_pi_mu_all.graphml')\n",
    "\n",
    "nx.info(G_Buserelin)"
   ]
  },
  {
   "cell_type": "code",
   "execution_count": 133,
   "metadata": {
    "collapsed": true
   },
   "outputs": [],
   "source": [
    "bus_mu_genes = pd.DataFrame()\n",
    "for genes in pi_bus_mutated['Gene name']:\n",
    "    bus_mu_genes[genes] = pd.Series('bus_mu_genes')\n",
    "\n",
    "bus_mu_genes =bus_mu_genes.T\n",
    "bus_mu_genes.to_csv(\"bus_mu_genes.noa\", sep='\\t')"
   ]
  },
  {
   "cell_type": "code",
   "execution_count": 87,
   "metadata": {
    "collapsed": true
   },
   "outputs": [],
   "source": [
    "zole = target_paths(\"Zoledronic acid\")"
   ]
  },
  {
   "cell_type": "code",
   "execution_count": 88,
   "metadata": {},
   "outputs": [
    {
     "data": {
      "text/plain": [
       "'Name: \\nType: Graph\\nNumber of nodes: 16\\nNumber of edges: 56\\nAverage degree:   7.0000'"
      ]
     },
     "execution_count": 88,
     "metadata": {},
     "output_type": "execute_result"
    }
   ],
   "source": [
    "#Zoledronic Acid (Zometa, drugname before being translated to chemical name using DrugBank)\n",
    "\n",
    "pi_zole_mutated = drug_mutation1[drug_mutation1['Drug_list'] == 'Zoledronic acid']\n",
    "\n",
    "Zoledronic_acid_g = nx.from_dict_of_lists(zole,create_using=None)\n",
    "\n",
    "G_Zoledronic_acid = G.subgraph(Zoledronic_acid_g.nodes())\n",
    "\n",
    "# add edges between drug and drug target \n",
    "G_Zoledronic_acid.add_edges_from([(\"Zoledronic acid\", x) for x in B.neighbors(\"Zoledronic acid\")], edge_type='drug_target')\n",
    "\n",
    "# mutated genes in the subnetwork\n",
    "common_genes20 = set(G_Zoledronic_acid.nodes()).intersection(pi_zole_mutated[\"Gene name\"])\n",
    "common_pi_zole_mutated = pi_zole_mutated[pi_zole_mutated[\"Gene name\"].isin(common_genes20)]\n",
    "\n",
    "# add edges between patients and mutated genes \n",
    "\n",
    "mutated_pi20 = common_pi_zole_mutated[\"icgc_donor_id\"].tolist()\n",
    "mutated_gene20 = common_pi_zole_mutated[\"Gene name\"].tolist()\n",
    "G_Zoledronic_acid.add_edges_from(zip(mutated_pi20, mutated_gene20), edge_type ='pi_mutation')\n",
    "\n",
    "nx.write_graphml(G_Zoledronic_acid, 'Zole_pi_mu_all.graphml')\n",
    "\n",
    "#no common genes between the G_zolendronic_acid and mutated genes \n",
    "#given together with Tamoxifen\n",
    "#if the nbr is increased to even 2nd hop, there's over 1800 nodes and 25000 edges.  \n",
    "\n",
    "nx.info(G_Zoledronic_acid)"
   ]
  },
  {
   "cell_type": "code",
   "execution_count": 89,
   "metadata": {},
   "outputs": [
    {
     "data": {
      "text/plain": [
       "['FDPS', 'GGPS1']"
      ]
     },
     "execution_count": 89,
     "metadata": {},
     "output_type": "execute_result"
    }
   ],
   "source": [
    "B.neighbors(\"Zoledronic acid\")"
   ]
  },
  {
   "cell_type": "code",
   "execution_count": 64,
   "metadata": {
    "collapsed": true
   },
   "outputs": [],
   "source": [
    "#patients and their mutation graph\n",
    "C = nx.Graph()               \n",
    "\n",
    "C.add_nodes_from(drug_mutation['icgc_donor_id'], node_type = 'P')\n",
    "\n",
    "C.add_nodes_from(drug_mutation['Gene name'], node_type = 'mutated genes')\n",
    "\n",
    "C.add_edges_from([(row['icgc_donor_id'], row['Gene name']) for idx, row in drug_mutation.iterrows()], edge_type = 'D_targ')"
   ]
  },
  {
   "cell_type": "code",
   "execution_count": 91,
   "metadata": {},
   "outputs": [
    {
     "data": {
      "text/plain": [
       "'Name: \\nType: Graph\\nNumber of nodes: 44392\\nNumber of edges: 244251\\nAverage degree:  11.0043'"
      ]
     },
     "execution_count": 91,
     "metadata": {},
     "output_type": "execute_result"
    }
   ],
   "source": [
    "nx.info(C)"
   ]
  },
  {
   "cell_type": "code",
   "execution_count": 116,
   "metadata": {
    "collapsed": true
   },
   "outputs": [],
   "source": [
    "pi, m = bipartite.sets(C)"
   ]
  },
  {
   "cell_type": "code",
   "execution_count": 117,
   "metadata": {
    "collapsed": true
   },
   "outputs": [],
   "source": [
    "pi_degree = C.degree(pi)"
   ]
  },
  {
   "cell_type": "code",
   "execution_count": 118,
   "metadata": {
    "collapsed": true
   },
   "outputs": [],
   "source": [
    "m_degree = C.degree(m)"
   ]
  },
  {
   "cell_type": "code",
   "execution_count": 121,
   "metadata": {},
   "outputs": [
    {
     "data": {
      "image/png": "[encoded data removed]",
      "text/plain": [
       "<matplotlib.figure.Figure at 0x210b1198>"
      ]
     },
     "metadata": {},
     "output_type": "display_data"
    }
   ],
   "source": [
    "plt.xlabel(\"Number of Mutations\", size=14)\n",
    "plt.ylabel('Number of Patients', size=14)\n",
    "plt.title(\"Histogram of Patients' Mutations Count\", size=16)\n",
    "#plt.ylim(0,2000)\n",
    "#plt.xlim(0,400)\n",
    "\n",
    "degrees = [item[1] for item in list(pi_degree.items())]\n",
    "\n",
    "plt.hist(degrees, bins='auto', color='teal', rwidth=0.5)\n",
    "plt.grid(True)\n",
    "plt.savefig('pi_degree.png')"
   ]
  },
  {
   "cell_type": "code",
   "execution_count": 159,
   "metadata": {},
   "outputs": [
    {
     "data": {
      "text/plain": [
       "'Name: \\nType: Graph\\nNumber of nodes: 126\\nNumber of edges: 193\\nAverage degree:   3.0635'"
      ]
     },
     "execution_count": 159,
     "metadata": {},
     "output_type": "execute_result"
    }
   ],
   "source": [
    "#patients and the drugs they take graph\n",
    "E = nx.Graph()             \n",
    "\n",
    "E.add_nodes_from(drug_mutation1['icgc_donor_id'], node_type = 'P')\n",
    "\n",
    "E.add_nodes_from(drug_mutation1['Drug_list'], node_type = 'D')\n",
    "\n",
    "E.add_edges_from([(row['icgc_donor_id'], row['Drug_list']) for idx, row in drug_mutation1.iterrows()], edge_type = 'pi_drug')\n",
    "\n",
    "nx.info(E)"
   ]
  },
  {
   "cell_type": "code",
   "execution_count": 289,
   "metadata": {
    "scrolled": true
   },
   "outputs": [
    {
     "data": {
      "text/plain": [
       "1761"
      ]
     },
     "execution_count": 289,
     "metadata": {},
     "output_type": "execute_result"
    }
   ],
   "source": [
    "len(C.neighbors('DO217786'))       #disease progression"
   ]
  },
  {
   "cell_type": "code",
   "execution_count": 290,
   "metadata": {},
   "outputs": [
    {
     "data": {
      "text/plain": [
       "2416"
      ]
     },
     "execution_count": 290,
     "metadata": {},
     "output_type": "execute_result"
    }
   ],
   "source": [
    "len(C.neighbors('DO218168'))         #stable disease"
   ]
  },
  {
   "cell_type": "code",
   "execution_count": 150,
   "metadata": {
    "collapsed": true
   },
   "outputs": [],
   "source": [
    "drug_list = pd.read_csv(\"sorted_druglist1.csv\")"
   ]
  },
  {
   "cell_type": "code",
   "execution_count": 293,
   "metadata": {
    "collapsed": true
   },
   "outputs": [],
   "source": [
    "#stable diesease response of Anastrozole patient\n",
    "stable_res = drug_list[drug_list['second_therapy_response'] == 'stable disease']"
   ]
  },
  {
   "cell_type": "code",
   "execution_count": 294,
   "metadata": {
    "collapsed": true
   },
   "outputs": [],
   "source": [
    "#disease progression response of Anastrozole patient\n",
    "prog_res = drug_list[drug_list['second_therapy_response'] == 'disease progression']"
   ]
  },
  {
   "cell_type": "code",
   "execution_count": 239,
   "metadata": {},
   "outputs": [
    {
     "data": {
      "text/plain": [
       "['ESR1']"
      ]
     },
     "execution_count": 239,
     "metadata": {},
     "output_type": "execute_result"
    }
   ],
   "source": [
    "G_anas.neighbors(\"DO218168\")"
   ]
  },
  {
   "cell_type": "code",
   "execution_count": 240,
   "metadata": {},
   "outputs": [
    {
     "data": {
      "text/plain": [
       "['ESR1']"
      ]
     },
     "execution_count": 240,
     "metadata": {},
     "output_type": "execute_result"
    }
   ],
   "source": [
    "G_anastrozole.neighbors(\"DO218168\")"
   ]
  },
  {
   "cell_type": "code",
   "execution_count": 245,
   "metadata": {
    "collapsed": true
   },
   "outputs": [],
   "source": [
    "#node attribute for mutation of complete response patient\n",
    "anas_mu_stable = pd.DataFrame()\n",
    "for genes in ['Gene name']:\n",
    "    anas_mu_g[genes] = pd.Series('anas_comp')\n",
    "\n",
    "anas_mu_g =anas_mu_g.T\n",
    "\n",
    "anas_mu_g.to_csv(\"anas_comp.noa\", sep='\\t')"
   ]
  },
  {
   "cell_type": "code",
   "execution_count": 302,
   "metadata": {
    "collapsed": true
   },
   "outputs": [],
   "source": [
    "#comparing 3 patients who took Anastrozole for their second therapy and the responses. \n",
    "\n",
    "prog_anas = drug_list[drug_list['Drug_list'] == 'Anastrozole']\n",
    "anas_res = prog_anas.loc[prog_anas['second_therapy_response'].isin(['stable disease','disease progression'])]\n",
    "\n",
    "anas_mu_res = anas_res.merge(drug_mutation1, how=\"left\")"
   ]
  },
  {
   "cell_type": "code",
   "execution_count": 42,
   "metadata": {},
   "outputs": [
    {
     "data": {
      "text/plain": [
       "'Name: \\nType: Graph\\nNumber of nodes: 345\\nNumber of edges: 1001\\nAverage degree:   5.8029'"
      ]
     },
     "execution_count": 42,
     "metadata": {},
     "output_type": "execute_result"
    }
   ],
   "source": [
    "anastrozole = target_paths2('Anastrozole')\n",
    "Anas_g = nx.from_dict_of_lists(anastrozole,create_using=None)\n",
    "nx.info(Anas_g)"
   ]
  },
  {
   "cell_type": "code",
   "execution_count": 45,
   "metadata": {},
   "outputs": [
    {
     "data": {
      "text/plain": [
       "'Name: \\nType: Graph\\nNumber of nodes: 360\\nNumber of edges: 1302\\nAverage degree:   7.2333'"
      ]
     },
     "execution_count": 45,
     "metadata": {},
     "output_type": "execute_result"
    }
   ],
   "source": [
    "#Graph of 3 patients who had known response taking Anastrozole\n",
    "\n",
    "# add edges between drug and drug target \n",
    "Anas_g.add_edges_from([(\"Anastrozole\", x) for x in B.neighbors(\"Anastrozole\")], edge_type = 'drug_targ')\n",
    "\n",
    "# mutated genes in the subnetwork\n",
    "common_genes_anas = set(Anas_g.nodes()).intersection(pi_anas_mutated[\"Gene name\"])\n",
    "common_pi_anas_mu1 = pi_anas_mutated[pi_anas_mutated[\"Gene name\"].isin(common_genes_anas)]\n",
    "\n",
    "# add edges between patients and mutated genes \n",
    "mu_pi1 = common_pi_anas_mu1[\"icgc_donor_id\"].tolist()\n",
    "mutated_g1 = common_pi_anas_mu1[\"Gene name\"].tolist()\n",
    "Anas_g.add_edges_from(zip(mu_pi1, mutated_g1), edge_type = 'anas_mu')\n",
    "\n",
    "\n",
    "nx.write_graphml(Anas_g, 'Anas_pi_mu3.graphml')\n",
    "\n",
    "nx.info(Anas_g)"
   ]
  },
  {
   "cell_type": "code",
   "execution_count": 97,
   "metadata": {},
   "outputs": [
    {
     "data": {
      "text/plain": [
       "['PLA2G6',\n",
       " 'RORA',\n",
       " 'NCOR2',\n",
       " 'PIK3CA',\n",
       " 'LHCGR',\n",
       " 'IDO2',\n",
       " 'DSCAM',\n",
       " 'NRIP1',\n",
       " 'GATA6',\n",
       " 'SRD5A1',\n",
       " 'GRB2',\n",
       " 'RARB',\n",
       " 'UXS1',\n",
       " 'LRAT',\n",
       " 'NCOA7',\n",
       " 'HNF4G',\n",
       " 'STRN',\n",
       " 'NCOA2',\n",
       " 'CYP2E1',\n",
       " 'ESRRG',\n",
       " 'CYP3A4',\n",
       " 'PLA2G4A',\n",
       " 'CYP2B6',\n",
       " 'FSHR']"
      ]
     },
     "execution_count": 97,
     "metadata": {},
     "output_type": "execute_result"
    }
   ],
   "source": [
    "Anas_g.neighbors('DO217786')               #stable"
   ]
  },
  {
   "cell_type": "code",
   "execution_count": 98,
   "metadata": {},
   "outputs": [
    {
     "data": {
      "text/plain": [
       "['MAOA',\n",
       " 'GRIP1',\n",
       " 'ESR2',\n",
       " 'CCNT1',\n",
       " 'PISD',\n",
       " 'IGF1',\n",
       " 'GNA14',\n",
       " 'MTA3',\n",
       " 'CYP7B1',\n",
       " 'UGDH',\n",
       " 'ABCA3',\n",
       " 'CYP11A1',\n",
       " 'SAFB',\n",
       " 'PPARA',\n",
       " 'STK11',\n",
       " 'ESR1',\n",
       " 'AP1B1',\n",
       " 'PGR',\n",
       " 'GNAL',\n",
       " 'HNF4G',\n",
       " 'ESRRG',\n",
       " 'MAOB',\n",
       " 'NRIP1',\n",
       " 'EGFR',\n",
       " 'SGK3',\n",
       " 'GNAQ',\n",
       " 'CYP2C19']"
      ]
     },
     "execution_count": 98,
     "metadata": {},
     "output_type": "execute_result"
    }
   ],
   "source": [
    "Anas_g.neighbors('DO218168')            #progression"
   ]
  },
  {
   "cell_type": "code",
   "execution_count": 100,
   "metadata": {},
   "outputs": [
    {
     "data": {
      "text/plain": [
       "['SP3',\n",
       " 'CD82',\n",
       " 'PIK3CA',\n",
       " 'MTA3',\n",
       " 'MAOA',\n",
       " 'NR1I3',\n",
       " 'GRB2',\n",
       " 'SMARCD3',\n",
       " 'HNF4G',\n",
       " 'PPARA',\n",
       " 'ATF2',\n",
       " 'RARB',\n",
       " 'ADH5',\n",
       " 'CYP7B1',\n",
       " 'UBC']"
      ]
     },
     "execution_count": 100,
     "metadata": {},
     "output_type": "execute_result"
    }
   ],
   "source": [
    "Anas_g.neighbors('DO224996')                 #progression"
   ]
  },
  {
   "cell_type": "code",
   "execution_count": 114,
   "metadata": {
    "scrolled": false
   },
   "outputs": [
    {
     "data": {
      "text/plain": [
       "['Nicotine',\n",
       " 'Aminoglutethimide',\n",
       " 'Testolactone',\n",
       " 'Exemestane',\n",
       " 'Letrozole',\n",
       " 'Ketoconazole',\n",
       " 'Anastrozole',\n",
       " '2-Methoxyestradiol',\n",
       " 'atamestane-plus-toremifene',\n",
       " 'MPI-674']"
      ]
     },
     "execution_count": 114,
     "metadata": {},
     "output_type": "execute_result"
    }
   ],
   "source": [
    "B.neighbors(\"CYP19A1\")"
   ]
  },
  {
   "cell_type": "code",
   "execution_count": null,
   "metadata": {
    "collapsed": true
   },
   "outputs": [],
   "source": []
  }
 ],
 "metadata": {
  "kernelspec": {
   "display_name": "Python 3",
   "language": "python",
   "name": "python3"
  },
  "language_info": {
   "codemirror_mode": {
    "name": "ipython",
    "version": 3
   },
   "file_extension": ".py",
   "mimetype": "text/x-python",
   "name": "python",
   "nbconvert_exporter": "python",
   "pygments_lexer": "ipython3",
   "version": "3.6.1"
  }
 },
 "nbformat": 4,
 "nbformat_minor": 2
}
