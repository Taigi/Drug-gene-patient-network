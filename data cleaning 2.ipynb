{
 "cells": [
  {
   "cell_type": "code",
   "execution_count": 1,
   "metadata": {
    "collapsed": true
   },
   "outputs": [],
   "source": [
    "import pandas as pd"
   ]
  },
  {
   "cell_type": "code",
   "execution_count": 2,
   "metadata": {
    "collapsed": true
   },
   "outputs": [],
   "source": [
    "db_data = pd.read_csv(\"uniprotlinks.csv\")"
   ]
  },
  {
   "cell_type": "code",
   "execution_count": 3,
   "metadata": {
    "collapsed": true
   },
   "outputs": [],
   "source": [
    "unip_data = pd.read_csv(\"uniprot-all2.csv\")"
   ]
  },
  {
   "cell_type": "code",
   "execution_count": 4,
   "metadata": {},
   "outputs": [
    {
     "name": "stdout",
     "output_type": "stream",
     "text": [
      "  DrugBank ID       Name         Type UniProt ID  \\\n",
      "0     DB00001  Lepirudin  BiotechDrug     P00734   \n",
      "1     DB00002  Cetuximab  BiotechDrug     P00533   \n",
      "2     DB00002  Cetuximab  BiotechDrug     O75015   \n",
      "3     DB00002  Cetuximab  BiotechDrug     P00736   \n",
      "4     DB00002  Cetuximab  BiotechDrug     P02745   \n",
      "\n",
      "                                        UniProt Name  \n",
      "0                                        Prothrombin  \n",
      "1                   Epidermal growth factor receptor  \n",
      "2  Low affinity immunoglobulin gamma Fc region re...  \n",
      "3                        Complement C1r subcomponent  \n",
      "4              Complement C1q subcomponent subunit A  \n"
     ]
    }
   ],
   "source": [
    "print(db_data.head())"
   ]
  },
  {
   "cell_type": "code",
   "execution_count": 5,
   "metadata": {},
   "outputs": [
    {
     "name": "stdout",
     "output_type": "stream",
     "text": [
      "    Entry            Gene names  Length  \\\n",
      "0  Q13542              EIF4EBP2     120   \n",
      "1  Q5TYW2    ANKRD20A1 ANKRD20A     823   \n",
      "2  A0PJZ0  ANKRD20A5P ANKRD20A5     165   \n",
      "3  A7E2S9  ANKRD30BL NCRNA00164     258   \n",
      "4  P29275               ADORA2B     332   \n",
      "\n",
      "                                       Protein names  \n",
      "0  Eukaryotic translation initiation factor 4E-bi...  \n",
      "1      Ankyrin repeat domain-containing protein 20A1  \n",
      "2  Putative ankyrin repeat domain-containing prot...  \n",
      "3  Putative ankyrin repeat domain-containing prot...  \n",
      "4                             Adenosine receptor A2b  \n"
     ]
    }
   ],
   "source": [
    "print(unip_data.head())"
   ]
  },
  {
   "cell_type": "code",
   "execution_count": 6,
   "metadata": {
    "collapsed": true
   },
   "outputs": [],
   "source": [
    "df = db_data.rename(columns={'Name': 'Drug Name', 'UniProt Name': 'Protein Name'})"
   ]
  },
  {
   "cell_type": "code",
   "execution_count": 7,
   "metadata": {},
   "outputs": [
    {
     "name": "stdout",
     "output_type": "stream",
     "text": [
      "  DrugBank ID  Drug Name         Type UniProt ID  \\\n",
      "0     DB00001  Lepirudin  BiotechDrug     P00734   \n",
      "1     DB00002  Cetuximab  BiotechDrug     P00533   \n",
      "2     DB00002  Cetuximab  BiotechDrug     O75015   \n",
      "3     DB00002  Cetuximab  BiotechDrug     P00736   \n",
      "4     DB00002  Cetuximab  BiotechDrug     P02745   \n",
      "\n",
      "                                        Protein Name  \n",
      "0                                        Prothrombin  \n",
      "1                   Epidermal growth factor receptor  \n",
      "2  Low affinity immunoglobulin gamma Fc region re...  \n",
      "3                        Complement C1r subcomponent  \n",
      "4              Complement C1q subcomponent subunit A  \n"
     ]
    }
   ],
   "source": [
    "print(df.head())"
   ]
  },
  {
   "cell_type": "code",
   "execution_count": 8,
   "metadata": {
    "collapsed": true
   },
   "outputs": [],
   "source": [
    "df_2 = unip_data.rename(columns={'Entry': 'UniProt ID', 'Protein names': 'Protein Name', 'Gene names': 'Gene Symbol'})"
   ]
  },
  {
   "cell_type": "code",
   "execution_count": 10,
   "metadata": {},
   "outputs": [
    {
     "data": {
      "text/plain": [
       "(16168, 5)"
      ]
     },
     "execution_count": 10,
     "metadata": {},
     "output_type": "execute_result"
    }
   ],
   "source": [
    "df.shape"
   ]
  },
  {
   "cell_type": "code",
   "execution_count": 11,
   "metadata": {},
   "outputs": [
    {
     "data": {
      "text/plain": [
       "(159552, 4)"
      ]
     },
     "execution_count": 11,
     "metadata": {},
     "output_type": "execute_result"
    }
   ],
   "source": [
    "df_2.shape"
   ]
  },
  {
   "cell_type": "code",
   "execution_count": 13,
   "metadata": {},
   "outputs": [],
   "source": [
    "gene_sym = df_2[\"Gene Symbol\"].tolist()"
   ]
  },
  {
   "cell_type": "code",
   "execution_count": 14,
   "metadata": {},
   "outputs": [
    {
     "data": {
      "text/plain": [
       "str"
      ]
     },
     "execution_count": 14,
     "metadata": {},
     "output_type": "execute_result"
    }
   ],
   "source": [
    "type(gene_sym[0])"
   ]
  },
  {
   "cell_type": "code",
   "execution_count": 15,
   "metadata": {
    "collapsed": true
   },
   "outputs": [],
   "source": [
    "what_i_want = []"
   ]
  },
  {
   "cell_type": "code",
   "execution_count": 16,
   "metadata": {
    "collapsed": true
   },
   "outputs": [],
   "source": [
    "for id_ in gene_sym:\n",
    "    temp = str(id_).split(' ')\n",
    "    what_i_want.append(temp)"
   ]
  },
  {
   "cell_type": "code",
   "execution_count": 17,
   "metadata": {
    "collapsed": true
   },
   "outputs": [],
   "source": [
    "what_i_actually_want = [id_pair[0] for id_pair in what_i_want]  ##list comprehensions"
   ]
  },
  {
   "cell_type": "code",
   "execution_count": 24,
   "metadata": {},
   "outputs": [],
   "source": [
    "s = pd.Series(what_i_actually_want)"
   ]
  },
  {
   "cell_type": "code",
   "execution_count": 25,
   "metadata": {
    "collapsed": true
   },
   "outputs": [],
   "source": [
    "df_2[\"Gene Symbol\"] = s.values"
   ]
  },
  {
   "cell_type": "code",
   "execution_count": 26,
   "metadata": {},
   "outputs": [
    {
     "name": "stdout",
     "output_type": "stream",
     "text": [
      "  UniProt ID Gene Symbol  Length  \\\n",
      "0     Q13542    EIF4EBP2     120   \n",
      "1     Q5TYW2   ANKRD20A1     823   \n",
      "2     A0PJZ0  ANKRD20A5P     165   \n",
      "3     A7E2S9   ANKRD30BL     258   \n",
      "4     P29275     ADORA2B     332   \n",
      "\n",
      "                                        Protein Name  \n",
      "0  Eukaryotic translation initiation factor 4E-bi...  \n",
      "1      Ankyrin repeat domain-containing protein 20A1  \n",
      "2  Putative ankyrin repeat domain-containing prot...  \n",
      "3  Putative ankyrin repeat domain-containing prot...  \n",
      "4                             Adenosine receptor A2b  \n"
     ]
    }
   ],
   "source": [
    "print(df_2.head())"
   ]
  },
  {
   "cell_type": "code",
   "execution_count": null,
   "metadata": {
    "collapsed": true
   },
   "outputs": [],
   "source": []
  }
 ],
 "metadata": {
  "kernelspec": {
   "display_name": "Python 3",
   "language": "python",
   "name": "python3"
  },
  "language_info": {
   "codemirror_mode": {
    "name": "ipython",
    "version": 3
   },
   "file_extension": ".py",
   "mimetype": "text/x-python",
   "name": "python",
   "nbconvert_exporter": "python",
   "pygments_lexer": "ipython3",
   "version": "3.6.1"
  }
 },
 "nbformat": 4,
 "nbformat_minor": 2
}
