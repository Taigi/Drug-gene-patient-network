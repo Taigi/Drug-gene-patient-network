{
 "cells": [
  {
   "cell_type": "code",
   "execution_count": 1,
   "metadata": {
    "collapsed": true
   },
   "outputs": [],
   "source": [
    "import pandas as pd"
   ]
  },
  {
   "cell_type": "code",
   "execution_count": 2,
   "metadata": {
    "collapsed": true
   },
   "outputs": [],
   "source": [
    "db_data = pd.read_csv(\"uniprotlinks.csv\")"
   ]
  },
  {
   "cell_type": "code",
   "execution_count": 3,
   "metadata": {
    "collapsed": true
   },
   "outputs": [],
   "source": [
    "unip_data = pd.read_csv(\"uniprot-all2.csv\")"
   ]
  },
  {
   "cell_type": "code",
   "execution_count": 4,
   "metadata": {},
   "outputs": [
    {
     "name": "stdout",
     "output_type": "stream",
     "text": [
      "  DrugBank ID       Name         Type UniProt ID  \\\n",
      "0     DB00001  Lepirudin  BiotechDrug     P00734   \n",
      "1     DB00002  Cetuximab  BiotechDrug     P00533   \n",
      "2     DB00002  Cetuximab  BiotechDrug     O75015   \n",
      "3     DB00002  Cetuximab  BiotechDrug     P00736   \n",
      "4     DB00002  Cetuximab  BiotechDrug     P02745   \n",
      "\n",
      "                                        UniProt Name  \n",
      "0                                        Prothrombin  \n",
      "1                   Epidermal growth factor receptor  \n",
      "2  Low affinity immunoglobulin gamma Fc region re...  \n",
      "3                        Complement C1r subcomponent  \n",
      "4              Complement C1q subcomponent subunit A  \n"
     ]
    }
   ],
   "source": [
    "print(db_data.head())"
   ]
  },
  {
   "cell_type": "code",
   "execution_count": 51,
   "metadata": {},
   "outputs": [
    {
     "name": "stdout",
     "output_type": "stream",
     "text": [
      "    Entry            Gene names  Length  \\\n",
      "0  Q13542              EIF4EBP2     120   \n",
      "1  Q5TYW2    ANKRD20A1 ANKRD20A     823   \n",
      "2  A0PJZ0  ANKRD20A5P ANKRD20A5     165   \n",
      "3  A7E2S9  ANKRD30BL NCRNA00164     258   \n",
      "4  P29275               ADORA2B     332   \n",
      "\n",
      "                                       Protein names  \n",
      "0  Eukaryotic translation initiation factor 4E-bi...  \n",
      "1      Ankyrin repeat domain-containing protein 20A1  \n",
      "2  Putative ankyrin repeat domain-containing prot...  \n",
      "3  Putative ankyrin repeat domain-containing prot...  \n",
      "4                             Adenosine receptor A2b  \n"
     ]
    }
   ],
   "source": [
    "print(unip_data.head())"
   ]
  },
  {
   "cell_type": "code",
   "execution_count": 7,
   "metadata": {
    "collapsed": true
   },
   "outputs": [],
   "source": [
    "df = db_data.rename(columns={'Name': 'Drug Name', 'UniProt Name': 'Protein Name'})"
   ]
  },
  {
   "cell_type": "code",
   "execution_count": 9,
   "metadata": {},
   "outputs": [
    {
     "name": "stdout",
     "output_type": "stream",
     "text": [
      "  DrugBank ID  Drug Name         Type UniProt ID  \\\n",
      "0     DB00001  Lepirudin  BiotechDrug     P00734   \n",
      "1     DB00002  Cetuximab  BiotechDrug     P00533   \n",
      "2     DB00002  Cetuximab  BiotechDrug     O75015   \n",
      "3     DB00002  Cetuximab  BiotechDrug     P00736   \n",
      "4     DB00002  Cetuximab  BiotechDrug     P02745   \n",
      "\n",
      "                                        Protein Name  \n",
      "0                                        Prothrombin  \n",
      "1                   Epidermal growth factor receptor  \n",
      "2  Low affinity immunoglobulin gamma Fc region re...  \n",
      "3                        Complement C1r subcomponent  \n",
      "4              Complement C1q subcomponent subunit A  \n"
     ]
    }
   ],
   "source": [
    "print(df.head())"
   ]
  },
  {
   "cell_type": "code",
   "execution_count": 23,
   "metadata": {
    "collapsed": true
   },
   "outputs": [],
   "source": [
    "df_2 = unip_data.rename(columns={'Entry': 'UniProt ID', 'Protein names': 'Protein Name', 'Gene names': 'Gene Symbol'})"
   ]
  },
  {
   "cell_type": "code",
   "execution_count": 52,
   "metadata": {},
   "outputs": [
    {
     "name": "stdout",
     "output_type": "stream",
     "text": [
      "        UniProt ID                      Gene Symbol  Length  \\\n",
      "0           Q13542                         EIF4EBP2     120   \n",
      "1           Q5TYW2               ANKRD20A1 ANKRD20A     823   \n",
      "2           A0PJZ0             ANKRD20A5P ANKRD20A5     165   \n",
      "3           A7E2S9             ANKRD30BL NCRNA00164     258   \n",
      "4           P29275                          ADORA2B     332   \n",
      "5           P31941                         APOBEC3A     199   \n",
      "6           Q6NTF7                         APOBEC3H     200   \n",
      "7           Q9BZC7              ABCA2 ABC2 KIAA1062    2435   \n",
      "8           Q8WWZ4                           ABCA10    1543   \n",
      "9           Q86UQ4                           ABCA13    5058   \n",
      "10          O95342                      ABCB11 BSEP    1321   \n",
      "11          Q96J66                      ABCC11 MRP8    1382   \n",
      "12          P33897                        ABCD1 ALD     745   \n",
      "13          P36544                   CHRNA7 NACHRA7     502   \n",
      "14          P17787                           CHRNB2     502   \n",
      "15          Q9Y615                           ACTL7A     435   \n",
      "16          P11229                            CHRM1     460   \n",
      "17          P08173                            CHRM4     479   \n",
      "18          Q9UKU0  ACSL6 ACS2 FACL6 KIAA0837 LACS5     697   \n",
      "19          P0C7M7                            ACSM4     580   \n",
      "20          P62736          ACTA2 ACTSA ACTVS GIG46     377   \n",
      "21          P68133                       ACTA1 ACTA     377   \n",
      "22          P18825          ADRA2C ADRA2L2 ADRA2RL2     462   \n",
      "23          O00116                        AGPS AAG5     658   \n",
      "24          Q96PN6                       ADCY10 SAC    1610   \n",
      "25          P35611                        ADD1 ADDA     737   \n",
      "26          P35612                        ADD2 ADDB     726   \n",
      "27          O15204                         ADAMDEC1     470   \n",
      "28          P61981                            YWHAG     247   \n",
      "29          P31947                         SFN HME1     248   \n",
      "...            ...                              ...     ...   \n",
      "159522      Q4U0U6                         HLA-DRB1      78   \n",
      "159523      Q8NHB6                              NaN     270   \n",
      "159524  A0A193CHR3                              NaN     131   \n",
      "159525  A0A0A0MSH7                            VEGFA     354   \n",
      "159526      F2VNT4                            HLA-C     181   \n",
      "159527      H8WV72                         HLA-DRB1      89   \n",
      "159528      U5YBP3                            HLA-A      71   \n",
      "159529      G0Z6Y8                         HLA-DRB1      89   \n",
      "159530      A8K212                              NaN     215   \n",
      "159531      G9HW67                            HLA-A     181   \n",
      "159532      A7UDS4                            HLA-A     181   \n",
      "159533      D7GNN0                         HLA-DRB9      89   \n",
      "159534      E2GJN4                         HLA-DRB1      89   \n",
      "159535      I6NXF7                            HLA-B     181   \n",
      "159536      Q6IN99                             IGL@     235   \n",
      "159537      Q9NRE5                              NaN      66   \n",
      "159538      Q9UHS6                              NaN      65   \n",
      "159539  A0A087WXF6                           NDUFS7     214   \n",
      "159540  A0A0A7C8V5                         HLA-DQB1      89   \n",
      "159541      Q6GZ88                            NR1I3      29   \n",
      "159542      V9H1L1                              NaN      86   \n",
      "159543      G1ENA4                            HLA-A     181   \n",
      "159544      Q4JME5                              NaN      51   \n",
      "159545      V9GYJ9                             DAP3     266   \n",
      "159546      O75702                             ACP1      73   \n",
      "159547      Q96BP6                              NaN      21   \n",
      "159548  A0A087WXD0                            DCP1A     102   \n",
      "159549  A0A0A7C3G2                         HLA-DRB1      89   \n",
      "159550  A0A0A7C6Y6                            HLA-A     181   \n",
      "159551      F8VXU4                             RND1      96   \n",
      "\n",
      "                                             Protein Name  \n",
      "0       Eukaryotic translation initiation factor 4E-bi...  \n",
      "1           Ankyrin repeat domain-containing protein 20A1  \n",
      "2       Putative ankyrin repeat domain-containing prot...  \n",
      "3       Putative ankyrin repeat domain-containing prot...  \n",
      "4                                  Adenosine receptor A2b  \n",
      "5       DNA dC->dU-editing enzyme APOBEC-3A (A3A) (EC ...  \n",
      "6       DNA dC->dU-editing enzyme APOBEC-3H (EC 3.5.4....  \n",
      "7       ATP-binding cassette sub-family A member 2 (AT...  \n",
      "8             ATP-binding cassette sub-family A member 10  \n",
      "9             ATP-binding cassette sub-family A member 13  \n",
      "10      Bile salt export pump (ATP-binding cassette su...  \n",
      "11      ATP-binding cassette sub-family C member 11 (M...  \n",
      "12      ATP-binding cassette sub-family D member 1 (Ad...  \n",
      "13        Neuronal acetylcholine receptor subunit alpha-7  \n",
      "14         Neuronal acetylcholine receptor subunit beta-2  \n",
      "15             Actin-like protein 7A (Actin-like-7-alpha)  \n",
      "16                   Muscarinic acetylcholine receptor M1  \n",
      "17                   Muscarinic acetylcholine receptor M4  \n",
      "18      Long-chain-fatty-acid--CoA ligase 6 (EC 6.2.1....  \n",
      "19      Acyl-coenzyme A synthetase ACSM4, mitochondria...  \n",
      "20      Actin, aortic smooth muscle (Alpha-actin-2) (C...  \n",
      "21           Actin, alpha skeletal muscle (Alpha-actin-1)  \n",
      "22      Alpha-2C adrenergic receptor (Alpha-2 adrenerg...  \n",
      "23      Alkyldihydroxyacetonephosphate synthase, perox...  \n",
      "24      Adenylate cyclase type 10 (EC 4.6.1.1) (AH-rel...  \n",
      "25      Alpha-adducin (Erythrocyte adducin subunit alpha)  \n",
      "26        Beta-adducin (Erythrocyte adducin subunit beta)  \n",
      "27      ADAM DEC1 (EC 3.4.24.-) (A disintegrin and met...  \n",
      "28      14-3-3 protein gamma (Protein kinase C inhibit...  \n",
      "29      14-3-3 protein sigma (Epithelial cell marker p...  \n",
      "...                                                   ...  \n",
      "159522                    MHC class II antigen (Fragment)  \n",
      "159523                 Seven transmembrane helix receptor  \n",
      "159524        10E8 heavy chain variable region (Fragment)  \n",
      "159525               Vascular endothelial growth factor A  \n",
      "159526                     MHC class I antigen (Fragment)  \n",
      "159527                    MHC class II antigen (Fragment)  \n",
      "159528                     MHC class I antigen (Fragment)  \n",
      "159529                    MHC class II antigen (Fragment)  \n",
      "159530  cDNA FLJ76230, highly similar to Homo sapiens ...  \n",
      "159531                     MHC class I antigen (Fragment)  \n",
      "159532                     MHC class I antigen (Fragment)  \n",
      "159533                    MHC class II antigen (Fragment)  \n",
      "159534                    MHC class II antigen (Fragment)  \n",
      "159535                     MHC class I antigen (Fragment)  \n",
      "159536                                       IGL@ protein  \n",
      "159537              Endozepine-like protein type 1 mutant  \n",
      "159538                                            PRO1996  \n",
      "159539  NADH dehydrogenase [ubiquinone] iron-sulfur pr...  \n",
      "159540                    MHC class II antigen (Fragment)  \n",
      "159541               Constitutive androstane receptor SV2  \n",
      "159542                            Germ line n-myc protein  \n",
      "159543                     MHC class I antigen (Fragment)  \n",
      "159544                        Insulin receptor (Fragment)  \n",
      "159545  28S ribosomal protein S29, mitochondrial (Frag...  \n",
      "159546  Protein-tyrosine-phosphatase, isoform 3 (EC 3....  \n",
      "159547                 Uncharacterized protein (Fragment)  \n",
      "159548                           mRNA-decapping enzyme 1A  \n",
      "159549                    MHC class II antigen (Fragment)  \n",
      "159550                     MHC class I antigen (Fragment)  \n",
      "159551               Rho-related GTP-binding protein Rho6  \n",
      "\n",
      "[159552 rows x 4 columns]\n"
     ]
    }
   ],
   "source": [
    "print(df_2)"
   ]
  },
  {
   "cell_type": "code",
   "execution_count": 20,
   "metadata": {},
   "outputs": [
    {
     "data": {
      "text/plain": [
       "(16168, 5)"
      ]
     },
     "execution_count": 20,
     "metadata": {},
     "output_type": "execute_result"
    }
   ],
   "source": [
    "df.shape"
   ]
  },
  {
   "cell_type": "code",
   "execution_count": 21,
   "metadata": {},
   "outputs": [
    {
     "data": {
      "text/plain": [
       "(159552, 4)"
      ]
     },
     "execution_count": 21,
     "metadata": {},
     "output_type": "execute_result"
    }
   ],
   "source": [
    "df_2.shape"
   ]
  },
  {
   "cell_type": "code",
   "execution_count": 76,
   "metadata": {},
   "outputs": [],
   "source": [
    "no_alias = df_2[\"Gene Symbol\"]\n",
    "def splitter(col_element):\n",
    "    for row in no_alias:\n",
    "        row = row.split()\n",
    "        return row"
   ]
  },
  {
   "cell_type": "code",
   "execution_count": 77,
   "metadata": {},
   "outputs": [
    {
     "name": "stdout",
     "output_type": "stream",
     "text": [
      "EIF4EBP2\n"
     ]
    }
   ],
   "source": [
    "print(row)"
   ]
  },
  {
   "cell_type": "code",
   "execution_count": null,
   "metadata": {
    "collapsed": true
   },
   "outputs": [],
   "source": []
  }
 ],
 "metadata": {
  "kernelspec": {
   "display_name": "Python 3",
   "language": "python",
   "name": "python3"
  },
  "language_info": {
   "codemirror_mode": {
    "name": "ipython",
    "version": 3
   },
   "file_extension": ".py",
   "mimetype": "text/x-python",
   "name": "python",
   "nbconvert_exporter": "python",
   "pygments_lexer": "ipython3",
   "version": "3.6.1"
  }
 },
 "nbformat": 4,
 "nbformat_minor": 2
}
