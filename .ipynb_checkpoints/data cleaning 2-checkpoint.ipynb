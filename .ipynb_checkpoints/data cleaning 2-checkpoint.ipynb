{
 "cells": [
  {
   "cell_type": "code",
   "execution_count": 1,
   "metadata": {
    "collapsed": true
   },
   "outputs": [],
   "source": [
    "import pandas as pd\n",
    "import collections\n",
    "db_data = pd.read_csv(\"uniprotlinks.csv\")\n",
    "unip_data = pd.read_csv(\"uniprot-all2.csv\")"
   ]
  },
  {
   "cell_type": "code",
   "execution_count": 2,
   "metadata": {},
   "outputs": [],
   "source": [
    "# CTRL + / to toggle comments\n",
    "\n",
    "# print(db_data.head())#columns)\n",
    "# print(unip_data.head())#columns)\n",
    "\n"
   ]
  },
  {
   "cell_type": "code",
   "execution_count": 3,
   "metadata": {},
   "outputs": [
    {
     "name": "stdout",
     "output_type": "stream",
     "text": [
      "0    P00734\n",
      "1    P00533\n",
      "2    O75015\n",
      "3    P00736\n",
      "4    P02745\n",
      "5    P02746\n",
      "6    P02747\n",
      "7    P08637\n",
      "8    P09871\n",
      "9    P12314\n",
      "Name: UniProt ID, dtype: object \n",
      " \n",
      " \n",
      " \n",
      " 0    Q13542\n",
      "1    Q5TYW2\n",
      "2    A0PJZ0\n",
      "3    A7E2S9\n",
      "4    P29275\n",
      "5    P31941\n",
      "6    Q6NTF7\n",
      "7    Q9BZC7\n",
      "8    Q8WWZ4\n",
      "9    Q86UQ4\n",
      "Name: Entry, dtype: object\n"
     ]
    }
   ],
   "source": [
    "## Checking for similarity\n",
    "\n",
    "print(db_data['UniProt ID'][0:10], '\\n \\n \\n \\n', unip_data['Entry'][0:10])"
   ]
  },
  {
   "cell_type": "code",
   "execution_count": 4,
   "metadata": {},
   "outputs": [],
   "source": [
    "#Examining Uniqueness\n",
    "\n",
    "# collections.Counter(db_data['UniProt ID'])\n",
    "# collections.Counter(unip_data['Entry'])"
   ]
  },
  {
   "cell_type": "code",
   "execution_count": 5,
   "metadata": {},
   "outputs": [
    {
     "name": "stdout",
     "output_type": "stream",
     "text": [
      "Index(['DrugBank ID', 'Drug Name', 'Type', 'UniProt ID', 'Protein Name'], dtype='object')\n",
      "Index(['UniProt ID', 'Gene Symbol', 'Length', 'Protein Name'], dtype='object')\n"
     ]
    }
   ],
   "source": [
    "#Renaming columns for convenience\n",
    "\n",
    "df = db_data.rename(columns={'Name': 'Drug Name', 'UniProt Name': 'Protein Name'})\n",
    "df_2 = unip_data.rename(columns={'Entry': 'UniProt ID', 'Protein names': 'Protein Name', 'Gene names': 'Gene Symbol'})\n",
    "\n",
    "print(df.columns)\n",
    "print(df_2.columns)"
   ]
  },
  {
   "cell_type": "code",
   "execution_count": 6,
   "metadata": {
    "collapsed": true
   },
   "outputs": [],
   "source": [
    "#Trimming off Gene Symbol Aliases \n",
    "\n",
    "gene_sym = df_2[\"Gene Symbol\"].tolist()\n",
    "\n",
    "what_i_want = []\n",
    "\n",
    "for id_ in gene_sym:\n",
    "    temp = str(id_).split(' ')\n",
    "    what_i_want.append(temp)\n",
    "    \n",
    "what_i_actually_want = [id_pair[0] for id_pair in what_i_want]  ##list comprehensions\n",
    "s = pd.Series(what_i_actually_want)\n",
    "\n",
    "\n",
    "df_2[\"Gene Symbol\"] = s.values"
   ]
  },
  {
   "cell_type": "code",
   "execution_count": 7,
   "metadata": {},
   "outputs": [],
   "source": [
    "# Sorting alphabetically to make mapping easier\n",
    "df = df.sort_values('UniProt ID')\n",
    "df_2 = df_2.sort_values('UniProt ID')"
   ]
  },
  {
   "cell_type": "code",
   "execution_count": 8,
   "metadata": {},
   "outputs": [],
   "source": [
    "#Algorthm to search for common IDs and add the corresponding Gene Symbol to df\n",
    "df['Gene Symbol'] = ''\n",
    "\n",
    "error_i = []\n",
    "\n",
    "for df2_i in range(len(df_2['UniProt ID'])):\n",
    "        if df_2['UniProt ID'][df2_i] in df['UniProt ID']:\n",
    "            i = df[df['UniProt ID'] == df_2['UniProt ID'][df2_i] ].index.tolist()\n",
    "            try:\n",
    "                df['Gene Symbol'][i[0]] = df_2['UniProt ID'][df2_i]\n",
    "            except:\n",
    "                error_i.append(i)\n",
    "%timeit"
   ]
  },
  {
   "cell_type": "code",
   "execution_count": 9,
   "metadata": {
    "scrolled": true
   },
   "outputs": [
    {
     "name": "stdout",
     "output_type": "stream",
     "text": [
      "[]\n",
      "[]\n"
     ]
    }
   ],
   "source": [
    "#Apparently the two Dataframes share no common IDs\n",
    "print(df[df['Gene Symbol'] != ''].index.tolist())\n",
    "print(error_i)"
   ]
  },
  {
   "cell_type": "code",
   "execution_count": 55,
   "metadata": {},
   "outputs": [
    {
     "data": {
      "text/plain": [
       "[]"
      ]
     },
     "execution_count": 55,
     "metadata": {},
     "output_type": "execute_result"
    }
   ],
   "source": []
  },
  {
   "cell_type": "code",
   "execution_count": null,
   "metadata": {
    "collapsed": true
   },
   "outputs": [],
   "source": []
  }
 ],
 "metadata": {
  "kernelspec": {
   "display_name": "Python 3",
   "language": "python",
   "name": "python3"
  },
  "language_info": {
   "codemirror_mode": {
    "name": "ipython",
    "version": 3
   },
   "file_extension": ".py",
   "mimetype": "text/x-python",
   "name": "python",
   "nbconvert_exporter": "python",
   "pygments_lexer": "ipython3",
   "version": "3.6.1"
  }
 },
 "nbformat": 4,
 "nbformat_minor": 2
}
