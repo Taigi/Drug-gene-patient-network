{
 "cells": [
  {
   "cell_type": "code",
   "execution_count": 1,
   "metadata": {},
   "outputs": [
    {
     "name": "stdout",
     "output_type": "stream",
     "text": [
      "Wall time: 0 ns\n"
     ]
    }
   ],
   "source": [
    "import numpy as np\n",
    "import pandas as pd\n",
    "import math \n",
    "\n",
    "c_times = pd.read_csv('comp-times.csv')\n",
    "funcs = c_times.iloc[:,0]\n",
    "cols0 = pd.DataFrame(columns = [c_times.columns[2:].values])\n",
    "\n",
    "\n",
    "data = pd.DataFrame(index=funcs)\n",
    "data= pd.concat([data, cols0], axis=1)\n",
    "data = data.fillna(value=0)\n",
    "\n",
    "#print(data)\n",
    "# print(cols)\n",
    "\n",
    "\n",
    "#cols1 = data.columns.tolist()\n",
    "#cols1r = cols1[2] + cols[4] + cols[-2] + cols[-4] + cols[-6] + cols[1] + cols[-3] + cols[-1] + cols[0]\n",
    "#data = data[cols1r]\n",
    "%time"
   ]
  },
  {
   "cell_type": "code",
   "execution_count": 3,
   "metadata": {},
   "outputs": [],
   "source": [
    "\n",
    "iv = 10**6\n",
    "data.iloc[-1,0:] = (1, iv, iv*60, iv*60*60, iv*60*60*24, iv*60*60*24*30, iv*60*60*24*30*12, iv*60*60*24*30*12*10)\n",
    "app_row = data.loc['unit_expressed_as_micro_s']\n",
    "data.loc['sqrt(n)'] = app_row**2\n",
    "data.loc['n^3'] = app_row**(1/3)\n",
    "#ar2_ = app_row[0]*2\n",
    "#ar2 = app_row\n",
    "#ar2[0] = ar2_\n",
    "data.loc['n^2'] = app_row**(1/2)\n",
    "data.loc['n'] = app_row\n",
    "data.loc['2^n'] = np.log2(app_row)\n",
    "data.loc['lg(n)'] = 10**app_row\n",
    "#data\n"
   ]
  },
  {
   "cell_type": "code",
   "execution_count": null,
   "metadata": {},
   "outputs": [],
   "source": [
    "fact_row = []\n",
    "nlog_row = []\n",
    "for i in app_row:\n",
    "    y = 0 \n",
    "    x = 0\n",
    "    while i > y:\n",
    "        x += 1\n",
    "        y = math.factorial(x)\n",
    "    fact_row.append(x)\n",
    "    \n",
    "for i in app_row:\n",
    "    n = 10000 \n",
    "    while (n * np.log2(n) - i ) < 0:\n",
    "        n+= 1000\n",
    "    nlog_row.append(x)\n",
    "data.loc['n!'] = fact_row\n",
    "data.loc['n log(n)'] = nlog_row\n",
    "\n",
    "%time"
   ]
  },
  {
   "cell_type": "code",
   "execution_count": null,
   "metadata": {},
   "outputs": [],
   "source": [
    "data"
   ]
  },
  {
   "cell_type": "code",
   "execution_count": null,
   "metadata": {
    "collapsed": true
   },
   "outputs": [],
   "source": []
  }
 ],
 "metadata": {
  "kernelspec": {
   "display_name": "Python 3",
   "language": "python",
   "name": "python3"
  },
  "language_info": {
   "codemirror_mode": {
    "name": "ipython",
    "version": 3
   },
   "file_extension": ".py",
   "mimetype": "text/x-python",
   "name": "python",
   "nbconvert_exporter": "python",
   "pygments_lexer": "ipython3",
   "version": "3.6.1"
  }
 },
 "nbformat": 4,
 "nbformat_minor": 2
}
