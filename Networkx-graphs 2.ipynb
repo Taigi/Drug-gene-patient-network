{
 "cells": [
  {
   "cell_type": "code",
   "execution_count": 1,
   "metadata": {
    "collapsed": true
   },
   "outputs": [],
   "source": [
    "import pandas as pd\n",
    "import networkx as nx\n",
    "import matplotlib.pyplot as plt\n",
    "import numpy as np\n",
    "from networkx.algorithms import bipartite \n",
    "import csv\n",
    "import itertools\n",
    "%matplotlib inline\n"
   ]
  },
  {
   "cell_type": "code",
   "execution_count": 2,
   "metadata": {
    "collapsed": true
   },
   "outputs": [],
   "source": [
    "db_data = pd.read_csv(\"uniprotlinks.csv\")\n",
    "unip_data = pd.read_csv(\"uniprot-all2.csv\")"
   ]
  },
  {
   "cell_type": "code",
   "execution_count": 3,
   "metadata": {
    "collapsed": true
   },
   "outputs": [],
   "source": [
    "df = db_data.rename(columns={'Name': 'Drug Name', 'UniProt Name': 'Protein Name'})\n",
    "df_2 = unip_data.rename(columns={'Entry': 'UniProt ID', 'Protein names': 'Protein Name', 'Gene names': 'Gene Symbol'})"
   ]
  },
  {
   "cell_type": "code",
   "execution_count": 4,
   "metadata": {
    "collapsed": true
   },
   "outputs": [],
   "source": [
    "##Chaning the type of column \"Gene Symbol\" to list. \n",
    "Gene_sym = df_2[\"Gene Symbol\"].tolist()\n",
    "\n",
    "##Splitting data into list of lists using space delimiter. \n",
    "what_i_want = []\n",
    "for id_ in Gene_sym:\n",
    "    temp = str(id_).split(' ')\n",
    "    what_i_want.append(temp)\n",
    "    \n",
    "#Trimming off Gene Symbol Aliases \n",
    "\n",
    "what_i_actually_want = [id_pair[0] for id_pair in what_i_want]  ##list comprehensions \n",
    "    "
   ]
  },
  {
   "cell_type": "code",
   "execution_count": 5,
   "metadata": {
    "collapsed": true
   },
   "outputs": [],
   "source": [
    "s = pd.Series(what_i_actually_want)  ##turning the list of values into a series.\n",
    "df_2['Gene Symbol'] = s.values   ##adding that series to the dataframe. "
   ]
  },
  {
   "cell_type": "code",
   "execution_count": 6,
   "metadata": {
    "collapsed": true
   },
   "outputs": [],
   "source": [
    "##Using merge to merge two dataframes and map the UniProt Id to Gene Symbol. \n",
    "\n",
    "combined_df = db_data.merge(df_2, how=\"left\")"
   ]
  },
  {
   "cell_type": "code",
   "execution_count": 7,
   "metadata": {
    "collapsed": true
   },
   "outputs": [],
   "source": [
    "##rename 'Name' column in combined_df to 'Drug Name' and 'Type' column to 'Drug Type'.\n",
    "\n",
    "combined_df2 = combined_df.rename(columns={'Name': 'Drug Name', 'Type': 'Drug Type', 'UniProt Name': 'Protein Names'})\n",
    "del combined_df2[\"Protein Name\"]"
   ]
  },
  {
   "cell_type": "code",
   "execution_count": 8,
   "metadata": {
    "collapsed": true
   },
   "outputs": [],
   "source": [
    "gene_sym = combined_df2[\"Gene Symbol\"]\n",
    "gene_sym_isnull = pd.isnull(gene_sym)\n",
    "gene_sym_nulltrue = gene_sym[gene_sym_isnull]\n",
    "gene_sym_nullfalse = gene_sym[gene_sym_isnull == False]"
   ]
  },
  {
   "cell_type": "code",
   "execution_count": 9,
   "metadata": {
    "scrolled": true
   },
   "outputs": [
    {
     "name": "stdout",
     "output_type": "stream",
     "text": [
      "4140\n"
     ]
    }
   ],
   "source": [
    "print(len(gene_sym_nulltrue))"
   ]
  },
  {
   "cell_type": "code",
   "execution_count": 10,
   "metadata": {
    "scrolled": true
   },
   "outputs": [
    {
     "data": {
      "text/plain": [
       "(12028,)"
      ]
     },
     "execution_count": 10,
     "metadata": {},
     "output_type": "execute_result"
    }
   ],
   "source": [
    "gene_sym_nullfalse.shape"
   ]
  },
  {
   "cell_type": "code",
   "execution_count": 11,
   "metadata": {
    "collapsed": true
   },
   "outputs": [],
   "source": [
    "##Dropping rows with empty columns in Gene Symbol. \n",
    "\n",
    "combined_df2.dropna(subset=['Gene Symbol'], inplace=True)\n",
    "#combined_df2.to_csv('drug_gene.csv', sep='\\t')"
   ]
  },
  {
   "cell_type": "code",
   "execution_count": 12,
   "metadata": {},
   "outputs": [
    {
     "data": {
      "text/plain": [
       "(12028, 7)"
      ]
     },
     "execution_count": 12,
     "metadata": {},
     "output_type": "execute_result"
    }
   ],
   "source": [
    "combined_df2.shape"
   ]
  },
  {
   "cell_type": "code",
   "execution_count": 13,
   "metadata": {},
   "outputs": [
    {
     "data": {
      "text/plain": [
       "'Name: \\nType: Graph\\nNumber of nodes: 7191\\nNumber of edges: 11825\\nAverage degree:   3.2888'"
      ]
     },
     "execution_count": 13,
     "metadata": {},
     "output_type": "execute_result"
    }
   ],
   "source": [
    "B = nx.Graph()\n",
    "\n",
    "B.add_nodes_from(combined_df2['Drug Name'], node_type = 'D')\n",
    "\n",
    "B.add_nodes_from(combined_df2['Gene Symbol'], node_type = 'Genes')\n",
    "\n",
    "B.add_edges_from([(row['Drug Name'], row['Gene Symbol']) for idx, row in combined_df2.iterrows()], edge_type = 'D_targ')\n",
    "\n",
    "nx.info(B)"
   ]
  },
  {
   "cell_type": "code",
   "execution_count": 14,
   "metadata": {
    "collapsed": true
   },
   "outputs": [],
   "source": [
    "#remove_edges = [('Tamoxifen','EBP'), ('Tamoxifen', 'PRKCA'), ('Tamoxifen', 'PRKCB'), ('Tamoxifen', 'PRKCD'), ('Tamoxifen', 'PRKCE'), ('Tamoxifen', 'PRKCG'), ('Tamoxifen', 'PRKCI'), ('Tamoxifen', 'PRKCQ'), ('Tamoxifen', 'PRKCZ')]"
   ]
  },
  {
   "cell_type": "code",
   "execution_count": 15,
   "metadata": {
    "collapsed": true
   },
   "outputs": [],
   "source": [
    "#B.remove_edges_from(remove_edges)"
   ]
  },
  {
   "cell_type": "code",
   "execution_count": 16,
   "metadata": {
    "collapsed": true
   },
   "outputs": [],
   "source": [
    "#separating the two sets of nodes: drugs and genes. \n",
    "\n",
    "d, g = bipartite.sets(B)\n"
   ]
  },
  {
   "cell_type": "code",
   "execution_count": 17,
   "metadata": {
    "collapsed": true
   },
   "outputs": [],
   "source": [
    "#degree distrubtion of drug nodes. \n",
    "d_degree = B.degree(d)\n",
    "\n",
    "#degree distribution of gene nodes. \n",
    "g_degree = B.degree(g)"
   ]
  },
  {
   "cell_type": "code",
   "execution_count": 18,
   "metadata": {
    "collapsed": true
   },
   "outputs": [],
   "source": [
    "string = pd.read_csv(\"HumanStringNet.txt\", delimiter=\"\\t\", header=None)"
   ]
  },
  {
   "cell_type": "code",
   "execution_count": 19,
   "metadata": {
    "collapsed": true
   },
   "outputs": [],
   "source": [
    "string_df = string.rename(columns={0: 'Gene Name', 1: 'Interacting Gene', 2: 'Interaction Weight'})"
   ]
  },
  {
   "cell_type": "code",
   "execution_count": 20,
   "metadata": {
    "collapsed": true
   },
   "outputs": [],
   "source": [
    "string_df['Gene_Gene'] = string_df[['Gene Name', 'Interacting Gene']].apply(tuple, axis=1)"
   ]
  },
  {
   "cell_type": "code",
   "execution_count": 21,
   "metadata": {},
   "outputs": [
    {
     "data": {
      "text/plain": [
       "'Name: \\nType: Graph\\nNumber of nodes: 9215\\nNumber of edges: 160249\\nAverage degree:  34.7800'"
      ]
     },
     "execution_count": 21,
     "metadata": {},
     "output_type": "execute_result"
    }
   ],
   "source": [
    "edges = string_df[\"Gene_Gene\"].tolist()\n",
    "G = nx.Graph()\n",
    "G.add_edges_from(edges, edge_type='gene_gene')\n",
    "degree = G.degree()\n",
    "\n",
    "nx.info(G)"
   ]
  },
  {
   "cell_type": "code",
   "execution_count": 22,
   "metadata": {},
   "outputs": [
    {
     "data": {
      "text/plain": [
       "1746"
      ]
     },
     "execution_count": 22,
     "metadata": {},
     "output_type": "execute_result"
    }
   ],
   "source": [
    "max(degree, key=degree.get)  \n",
    "degree['UBC']"
   ]
  },
  {
   "cell_type": "code",
   "execution_count": 23,
   "metadata": {
    "collapsed": true
   },
   "outputs": [],
   "source": [
    "\"\"\"Takes the drug as node argument to find the genes that a specific drug works on in graph B(drug-gene graph),\n",
    "   then, finding the neighboring genes of those genes in G(gene-gene graph).\n",
    "   Results: dictionary key-value pairs.\"\"\"\n",
    "\n",
    "def nbr_nodes(node):\n",
    "    graph = nx.Graph()\n",
    "    drug_to_gene_nodes = B.neighbors(node)\n",
    "    neighbors = {}\n",
    "    \n",
    "    for dg_node in drug_to_gene_nodes:\n",
    "        neighbors[dg_node] = {}\n",
    "        neighbors[dg_node] = []\n",
    "        \n",
    "        \n",
    "        if G.has_node(dg_node):\n",
    "            gg_nodes = G.neighbors(dg_node)\n",
    "            \n",
    "            for ggn in gg_nodes:\n",
    "                if G.has_node(ggn):\n",
    "                    neighbors[dg_node].append(ggn)\n",
    "                \n",
    "                    \n",
    "    return(neighbors)"
   ]
  },
  {
   "cell_type": "code",
   "execution_count": 24,
   "metadata": {
    "collapsed": true
   },
   "outputs": [],
   "source": [
    "drug_mutation = pd.read_csv(\"drug_mutation1.csv\")"
   ]
  },
  {
   "cell_type": "code",
   "execution_count": 25,
   "metadata": {},
   "outputs": [
    {
     "data": {
      "text/plain": [
       "(254881, 7)"
      ]
     },
     "execution_count": 25,
     "metadata": {},
     "output_type": "execute_result"
    }
   ],
   "source": [
    "drug_mutation.shape"
   ]
  },
  {
   "cell_type": "code",
   "execution_count": 26,
   "metadata": {
    "collapsed": true
   },
   "outputs": [],
   "source": [
    "del drug_mutation['Unnamed: 0']"
   ]
  },
  {
   "cell_type": "code",
   "execution_count": 27,
   "metadata": {
    "collapsed": true,
    "scrolled": false
   },
   "outputs": [],
   "source": [
    "drug_mutation['Drug_list'] = [x.strip().replace(' Methotrexate', 'Methoxtrexate') for x in drug_mutation['Drug_list']]\n",
    "drug_mutation['Drug_list'] = [x.strip().replace(' Fluorouracil', 'Fluorouracil') for x in drug_mutation['Drug_list']]\n",
    "drug_mutation['Drug_list'] = [x.strip().replace(' Cyclophosphamide', 'Cyclophosphamide') for x in drug_mutation['Drug_list']]\n",
    "drug_mutation['Drug_list'] = [x.strip().replace(' Bevacizumab', 'Bevacizumab') for x in drug_mutation['Drug_list']]\n",
    "drug_mutation['Drug_list'] = [x.strip().replace(' Tamoxifen', 'Tamoxifen') for x in drug_mutation['Drug_list']]\n",
    "drug_mutation['Drug_list'] = [x.strip().replace(' Aromatase Inhibitor', 'Aromatase Inhibitor') for x in drug_mutation['Drug_list']]\n",
    "drug_mutation['Drug_list'] = [x.strip().replace('Doxorubincin', 'Doxorubicin') for x in drug_mutation['Drug_list']]\n",
    "drug_mutation['Drug_list'] = [x.strip().replace('Methoxtrexate', 'Methotrexate') for x in drug_mutation['Drug_list']]\n"
   ]
  },
  {
   "cell_type": "code",
   "execution_count": 28,
   "metadata": {
    "collapsed": true
   },
   "outputs": [],
   "source": [
    "gene_affected = drug_mutation[\"Gene name\"]\n",
    "gene_affected_isnull = pd.isnull(gene_affected)\n",
    "gene_affected_nulltrue = gene_affected[gene_affected_isnull]\n",
    "gene_affected_nullfalse = gene_affected[gene_affected_isnull == False]\n",
    "drug_mutation.dropna(subset=['Gene name'], inplace=True)"
   ]
  },
  {
   "cell_type": "code",
   "execution_count": 29,
   "metadata": {
    "collapsed": true
   },
   "outputs": [],
   "source": [
    "drug_list = drug_mutation['Drug_list'].drop_duplicates()"
   ]
  },
  {
   "cell_type": "code",
   "execution_count": 30,
   "metadata": {
    "collapsed": true
   },
   "outputs": [],
   "source": [
    "def target_paths(node):\n",
    "    \n",
    "    drug_to_gene_nodes = B.neighbors(node)\n",
    "    neighbors = {}\n",
    "    for dg_node in drug_to_gene_nodes:\n",
    "        neighbors[dg_node] = {}\n",
    "        \n",
    "        if G.has_node(dg_node):\n",
    "            \n",
    "            path = nx.single_source_shortest_path(G, dg_node, 1)\n",
    "            nbr_path = (path)\n",
    "            neighbors.update(nbr_path)\n",
    "            \n",
    "    return(neighbors)"
   ]
  },
  {
   "cell_type": "code",
   "execution_count": 31,
   "metadata": {
    "collapsed": true
   },
   "outputs": [],
   "source": [
    "def target_paths2(node):\n",
    "    \n",
    "    drug_to_gene_nodes = B.neighbors(node)\n",
    "    neighbors = {}\n",
    "    for dg_node in drug_to_gene_nodes:\n",
    "        neighbors[dg_node] = {}\n",
    "        \n",
    "        if G.has_node(dg_node):\n",
    "            \n",
    "            path = nx.single_source_shortest_path(G, dg_node, 2)\n",
    "            nbr_path = (path)\n",
    "            neighbors.update(nbr_path)\n",
    "            \n",
    "    return(neighbors)"
   ]
  },
  {
   "cell_type": "code",
   "execution_count": 32,
   "metadata": {
    "collapsed": true
   },
   "outputs": [],
   "source": [
    "def tidy_split(df, column, sep='|', keep=False):\n",
    "    \"\"\"\n",
    "    Split the values of a column and expand so the new DataFrame has one split\n",
    "    value per row. Filters rows where the column is missing.\n",
    "\n",
    "    Params\n",
    "    ------\n",
    "    df : pandas.DataFrame\n",
    "        dataframe with the column to split and expand\n",
    "    column : str\n",
    "        the column to split and expand\n",
    "    sep : str\n",
    "        the string used to split the column's values\n",
    "    keep : bool\n",
    "        whether to retain the presplit value as it's own row\n",
    "\n",
    "    Returns\n",
    "    -------\n",
    "    pandas.DataFrame\n",
    "        Returns a dataframe with the same columns as `df`.\n",
    "    \"\"\"\n",
    "    indexes = list()\n",
    "    new_values = list()\n",
    "    df = df.dropna(subset=[column])\n",
    "    for i, presplit in enumerate(df[column].astype(str)):\n",
    "        values = presplit.split(sep)\n",
    "        if keep and len(values) > 1:\n",
    "            indexes.append(i)\n",
    "            new_values.append(presplit)\n",
    "        for value in values:\n",
    "            indexes.append(i)\n",
    "            new_values.append(value)\n",
    "    new_df = df.iloc[indexes, :].copy()\n",
    "    new_df[column] = new_values\n",
    "    return new_df"
   ]
  },
  {
   "cell_type": "code",
   "execution_count": 33,
   "metadata": {},
   "outputs": [
    {
     "data": {
      "text/plain": [
       "(465377, 6)"
      ]
     },
     "execution_count": 33,
     "metadata": {},
     "output_type": "execute_result"
    }
   ],
   "source": [
    "drug_mutation1 = tidy_split(drug_mutation, \"Drug_list\", sep=',' )\n",
    "drug_mutation1.shape"
   ]
  },
  {
   "cell_type": "code",
   "execution_count": 34,
   "metadata": {
    "collapsed": true
   },
   "outputs": [],
   "source": [
    "mu_pi_dtarg = pd.DataFrame()\n",
    "for pi in set(drug_mutation1[\"icgc_donor_id\"]):\n",
    "    mu_pi_dtarg[pi] = pd.Series('P')\n",
    "\n",
    "    for drug in set(drug_mutation1['Drug_list']):\n",
    "        mu_pi_dtarg[drug] = pd.Series('D')\n"
   ]
  },
  {
   "cell_type": "code",
   "execution_count": 35,
   "metadata": {
    "collapsed": true
   },
   "outputs": [],
   "source": [
    "mu_pi_dtarg = mu_pi_dtarg.T"
   ]
  },
  {
   "cell_type": "code",
   "execution_count": 36,
   "metadata": {
    "collapsed": true
   },
   "outputs": [],
   "source": [
    "mu_pi_dtarg.to_csv('pi_drug.noa', sep='\\t')"
   ]
  },
  {
   "cell_type": "code",
   "execution_count": 37,
   "metadata": {
    "collapsed": true
   },
   "outputs": [],
   "source": [
    "Anastrozole = target_paths(\"Anastrozole\")\n",
    "Fulvestrant = target_paths(\"Fulvestrant\")\n",
    "Capecitabine = target_paths(\"Capecitabine\")\n",
    "Vinorelbine  = target_paths(\"Vinorelbine\")\n",
    "Docetaxel  = target_paths(\"Docetaxel\")\n",
    "Letrozole = target_paths(\"Letrozole\")\n",
    "Methotrexate  = target_paths(\"Methotrexate\")\n",
    "Fluorouracil  = target_paths(\"Fluorouracil\")\n",
    "Dexrazoxane  = target_paths(\"Dexrazoxane\")\n",
    "Doxorubicin  = target_paths(\"Doxorubicin\")\n",
    "Tamoxifen  = target_paths(\"Tamoxifen\")\n",
    "Paclitaxel  = target_paths(\"Paclitaxel\")\n",
    "Bevacizumab = target_paths(\"Bevacizumab\")\n",
    "Trastuzumab = target_paths(\"Trastuzumab\")\n",
    "Exemestane = target_paths(\"Exemestane\")\n",
    "Epirubicin  = target_paths(\"Epirubicin\")\n",
    "Gemcitabine  = target_paths(\"Gemcitabine\")\n",
    "Alendronic_acid  = target_paths(\"Alendronic acid\")\n",
    "Buserelin = target_paths(\"Buserelin\")\n",
    "Zoledronic_acid = target_paths(\"Zoledronic acid\")"
   ]
  },
  {
   "cell_type": "code",
   "execution_count": 38,
   "metadata": {
    "collapsed": true
   },
   "outputs": [],
   "source": [
    "tam_graph = nx.from_dict_of_lists(Tamoxifen,create_using=None) "
   ]
  },
  {
   "cell_type": "code",
   "execution_count": 39,
   "metadata": {},
   "outputs": [
    {
     "data": {
      "text/plain": [
       "'Name: \\nType: Graph\\nNumber of nodes: 439\\nNumber of edges: 872\\nAverage degree:   3.9727'"
      ]
     },
     "execution_count": 39,
     "metadata": {},
     "output_type": "execute_result"
    }
   ],
   "source": [
    "nx.info(tam_graph)"
   ]
  },
  {
   "cell_type": "code",
   "execution_count": 40,
   "metadata": {
    "collapsed": true
   },
   "outputs": [],
   "source": [
    "G_tam = G.subgraph(tam_graph.nodes())"
   ]
  },
  {
   "cell_type": "code",
   "execution_count": 41,
   "metadata": {},
   "outputs": [
    {
     "data": {
      "text/plain": [
       "'Name: \\nType: Graph\\nNumber of nodes: 438\\nNumber of edges: 6259\\nAverage degree:  28.5799'"
      ]
     },
     "execution_count": 41,
     "metadata": {},
     "output_type": "execute_result"
    }
   ],
   "source": [
    "nx.info(G_tam)"
   ]
  },
  {
   "cell_type": "code",
   "execution_count": 42,
   "metadata": {
    "collapsed": true
   },
   "outputs": [],
   "source": [
    "pi_tam_mutated = drug_mutation1[drug_mutation1['Drug_list'] == 'Tamoxifen']"
   ]
  },
  {
   "cell_type": "code",
   "execution_count": 43,
   "metadata": {},
   "outputs": [
    {
     "data": {
      "text/plain": [
       "(116730, 6)"
      ]
     },
     "execution_count": 43,
     "metadata": {},
     "output_type": "execute_result"
    }
   ],
   "source": [
    "pi_tam_mutated.shape"
   ]
  },
  {
   "cell_type": "code",
   "execution_count": 44,
   "metadata": {
    "collapsed": true
   },
   "outputs": [],
   "source": [
    "G_tam = G.subgraph(tam_graph.nodes())\n",
    "\n",
    "# add edges between drug and drug target \n",
    "#for tam, there's only two targets after removing unneccesary targets (ESR1, ESR2 (both are antagonist, agonist))\n",
    "G_tam.add_edges_from([(\"Tamoxifen\", x) for x in B.neighbors(\"Tamoxifen\")], edge_type = 'tam_targ')\n",
    "\n",
    "# mutated genes in the subnetwork\n",
    "common_genes = set(G_tam.nodes()).intersection(pi_tam_mutated[\"Gene name\"])\n",
    "common_pi_tam_mutated = pi_tam_mutated[pi_tam_mutated[\"Gene name\"].isin(common_genes)]\n",
    "# add edges between patients and mutated genes \n",
    "mutated_pi = common_pi_tam_mutated[\"icgc_donor_id\"].tolist()\n",
    "mutated_gene = common_pi_tam_mutated[\"Gene name\"].tolist()\n",
    "G_tam.add_edges_from(zip(mutated_pi, mutated_gene), edge_type = 'pi_tam_mu')\n",
    "\n",
    "#nx.write_graphml(G_tam, 'Tam_pi_mu_all.graphml')"
   ]
  },
  {
   "cell_type": "code",
   "execution_count": 45,
   "metadata": {
    "scrolled": true
   },
   "outputs": [
    {
     "data": {
      "text/plain": [
       "'Name: \\nType: Graph\\nNumber of nodes: 491\\nNumber of edges: 8551\\nAverage degree:  34.8310'"
      ]
     },
     "execution_count": 45,
     "metadata": {},
     "output_type": "execute_result"
    }
   ],
   "source": [
    "nx.info(G_tam)"
   ]
  },
  {
   "cell_type": "code",
   "execution_count": 46,
   "metadata": {},
   "outputs": [
    {
     "data": {
      "text/plain": [
       "51"
      ]
     },
     "execution_count": 46,
     "metadata": {},
     "output_type": "execute_result"
    }
   ],
   "source": [
    "len(set(mutated_pi))"
   ]
  },
  {
   "cell_type": "code",
   "execution_count": 47,
   "metadata": {},
   "outputs": [
    {
     "data": {
      "text/plain": [
       "391"
      ]
     },
     "execution_count": 47,
     "metadata": {},
     "output_type": "execute_result"
    }
   ],
   "source": [
    "len(set(mutated_gene))"
   ]
  },
  {
   "cell_type": "code",
   "execution_count": 48,
   "metadata": {
    "collapsed": true
   },
   "outputs": [],
   "source": [
    "tam_mu_genes = pd.DataFrame()\n",
    "for genes in pi_tam_mutated['Gene name']:\n",
    "    tam_mu_genes[genes] = pd.Series('tam_mu_genes')\n",
    "\n",
    "tam_mu_genes = tam_mu_genes.T\n",
    "\n",
    "tam_mu_genes.to_csv(\"tam_mu_genes.noa\", sep='\\t')"
   ]
  },
  {
   "cell_type": "code",
   "execution_count": 49,
   "metadata": {
    "collapsed": true
   },
   "outputs": [],
   "source": [
    "pi_anas_mutated = drug_mutation1[drug_mutation1['Drug_list'] == 'Anastrozole']"
   ]
  },
  {
   "cell_type": "code",
   "execution_count": 50,
   "metadata": {},
   "outputs": [
    {
     "data": {
      "text/plain": [
       "14"
      ]
     },
     "execution_count": 50,
     "metadata": {},
     "output_type": "execute_result"
    }
   ],
   "source": [
    "len(set(pi_anas_mutated['icgc_donor_id']))"
   ]
  },
  {
   "cell_type": "code",
   "execution_count": 51,
   "metadata": {
    "scrolled": true
   },
   "outputs": [
    {
     "data": {
      "text/plain": [
       "'Name: \\nType: Graph\\nNumber of nodes: 43\\nNumber of edges: 308\\nAverage degree:  14.3256'"
      ]
     },
     "execution_count": 51,
     "metadata": {},
     "output_type": "execute_result"
    }
   ],
   "source": [
    "Anastrozole_g = nx.from_dict_of_lists(Anastrozole,create_using=None)\n",
    "\n",
    "G_anastrozole = G.subgraph(Anastrozole_g.nodes())\n",
    "\n",
    "# add edges between drug and drug target \n",
    "G_anastrozole.add_edges_from([(\"Anastrozole\", x) for x in B.neighbors(\"Anastrozole\")], edge_type = 'anas_targ')\n",
    "\n",
    "# mutated genes in the subnetwork\n",
    "common_genes2 = set(G_anastrozole.nodes()).intersection(pi_anas_mutated[\"Gene name\"])\n",
    "common_pi_anas_mutated = pi_anas_mutated[pi_anas_mutated[\"Gene name\"].isin(common_genes2)]\n",
    "\n",
    "# add edges between patients and mutated genes \n",
    "mutated_pi2 = common_pi_anas_mutated[\"icgc_donor_id\"].tolist()\n",
    "mutated_gene2 = common_pi_anas_mutated[\"Gene name\"].tolist()\n",
    "G_anastrozole.add_edges_from(zip(mutated_pi2, mutated_gene2), edge_type = 'pi_mutation_anas')\n",
    "\n",
    "\n",
    "nx.write_graphml(G_anastrozole, 'Anas_pi_mu_all.graphml')\n",
    "\n",
    "nx.info(G_anastrozole)"
   ]
  },
  {
   "cell_type": "code",
   "execution_count": 52,
   "metadata": {
    "collapsed": true
   },
   "outputs": [],
   "source": [
    "Anastrozole_g = nx.from_dict_of_lists(Anastrozole,create_using=None)\n",
    "\n",
    "G_anastrozole = G.subgraph(Anastrozole_g.nodes())\n",
    "\n",
    "# add edges between drug and drug target \n",
    "G_anastrozole.add_edges_from([(\"Anastrozole\", x) for x in B.neighbors(\"Anastrozole\")], edge_type = 'anas_targ')"
   ]
  },
  {
   "cell_type": "code",
   "execution_count": 53,
   "metadata": {
    "collapsed": true
   },
   "outputs": [],
   "source": [
    "df = list(pi_anas_mutated['Gene name'])"
   ]
  },
  {
   "cell_type": "code",
   "execution_count": 54,
   "metadata": {},
   "outputs": [
    {
     "data": {
      "text/plain": [
       "24"
      ]
     },
     "execution_count": 54,
     "metadata": {},
     "output_type": "execute_result"
    }
   ],
   "source": [
    "len(mutated_gene2)"
   ]
  },
  {
   "cell_type": "code",
   "execution_count": 55,
   "metadata": {
    "collapsed": true
   },
   "outputs": [],
   "source": [
    "mutated_anas = pi_anas_mutated['Gene name']"
   ]
  },
  {
   "cell_type": "code",
   "execution_count": 56,
   "metadata": {
    "collapsed": true
   },
   "outputs": [],
   "source": [
    "anas_mu_genes = pd.DataFrame()\n",
    "for genes in pi_anas_mutated['Gene name']:\n",
    "    anas_mu_genes[genes] = pd.Series('anas_mu_genes')\n",
    "\n",
    "anas_mu_genes = anas_mu_genes.T\n",
    "\n",
    "anas_mu_genes.to_csv(\"anas_mu_genes.noa\", sep='\\t')"
   ]
  },
  {
   "cell_type": "code",
   "execution_count": 57,
   "metadata": {
    "scrolled": true
   },
   "outputs": [
    {
     "data": {
      "text/plain": [
       "'Name: \\nType: Graph\\nNumber of nodes: 53\\nNumber of edges: 284\\nAverage degree:  10.7170'"
      ]
     },
     "execution_count": 57,
     "metadata": {},
     "output_type": "execute_result"
    }
   ],
   "source": [
    "pi_dex_mutated = drug_mutation1[drug_mutation1['Drug_list'] == 'Dexrazoxane']\n",
    "\n",
    "Dexrazoxane_g = nx.from_dict_of_lists(Dexrazoxane,create_using=None) \n",
    "\n",
    "G_dexrazoxane = G.subgraph(Dexrazoxane_g.nodes())\n",
    "\n",
    "# add edges between drug and drug target \n",
    "G_dexrazoxane.add_edges_from([(\"Dexrazoxane\", x) for x in B.neighbors(\"Dexrazoxane\")], edge_type = 'drug_targ')\n",
    "\n",
    "# mutated genes in the subnetwork\n",
    "common_genes3 = set(G_dexrazoxane.nodes()).intersection(pi_dex_mutated[\"Gene name\"])\n",
    "common_pi_dex_mutated = pi_dex_mutated[pi_dex_mutated[\"Gene name\"].isin(common_genes3)]\n",
    "\n",
    "# add edges between patients and mutated genes \n",
    "mutated_pi3 = common_pi_dex_mutated[\"icgc_donor_id\"].tolist()\n",
    "mutated_gene3 = common_pi_dex_mutated[\"Gene name\"].tolist()\n",
    "G_dexrazoxane.add_edges_from(zip(mutated_pi3, mutated_gene3), edge_type = 'pi_dex_mu')\n",
    "\n",
    "nx.write_graphml(G_dexrazoxane, 'Dex_pi_mu_all.graphml')\n",
    "\n",
    "nx.info(G_dexrazoxane)"
   ]
  },
  {
   "cell_type": "code",
   "execution_count": 58,
   "metadata": {
    "collapsed": true
   },
   "outputs": [],
   "source": [
    "dex_mu_genes = pd.DataFrame()\n",
    "for genes in pi_dex_mutated['Gene name']:\n",
    "    dex_mu_genes[genes] = pd.Series('dex_mu_genes')\n",
    "\n",
    "dex_mu_genes =dex_mu_genes.T\n",
    "\n",
    "dex_mu_genes.to_csv(\"dex_mu_genes.noa\", sep='\\t')"
   ]
  },
  {
   "cell_type": "code",
   "execution_count": 59,
   "metadata": {},
   "outputs": [
    {
     "data": {
      "text/plain": [
       "'Name: \\nType: Graph\\nNumber of nodes: 34\\nNumber of edges: 284\\nAverage degree:  16.7059'"
      ]
     },
     "execution_count": 59,
     "metadata": {},
     "output_type": "execute_result"
    }
   ],
   "source": [
    "pi_exem_mutated = drug_mutation1[drug_mutation1['Drug_list'] == 'Exemestane']\n",
    "\n",
    "Exemestane_g = nx.from_dict_of_lists(Exemestane,create_using=None) \n",
    "\n",
    "G_Exemestane = G.subgraph(Exemestane_g.nodes())\n",
    "\n",
    "# add edges between drug and drug target \n",
    "G_Exemestane.add_edges_from([(\"Exemestane\", x) for x in B.neighbors(\"Exemestane\")], edge_type = 'drug_targ')\n",
    "\n",
    "# mutated genes in the subnetwork\n",
    "common_genes4 = set(G_Exemestane.nodes()).intersection(pi_exem_mutated[\"Gene name\"])\n",
    "common_pi_exem_mutated = pi_exem_mutated[pi_exem_mutated[\"Gene name\"].isin(common_genes4)]\n",
    "\n",
    "# add edges between patients and mutated genes \n",
    "mutated_pi4 = common_pi_exem_mutated[\"icgc_donor_id\"].tolist()\n",
    "mutated_gene4 = common_pi_exem_mutated[\"Gene name\"].tolist()\n",
    "Exemestane_g.add_edges_from(zip(mutated_pi4, mutated_gene4), edge_type ='pi_exem_mu')\n",
    "\n",
    "nx.write_graphml(G_Exemestane, 'Exem_pi_mu_all.graphml')\n",
    "##2-hop, 346 nodes, 4108 edges \n",
    "nx.info(G_Exemestane)"
   ]
  },
  {
   "cell_type": "code",
   "execution_count": 60,
   "metadata": {
    "collapsed": true
   },
   "outputs": [],
   "source": [
    "pi_letro_mutated = drug_mutation1[drug_mutation1['Drug_list'] == 'Letrozole']"
   ]
  },
  {
   "cell_type": "code",
   "execution_count": 61,
   "metadata": {},
   "outputs": [
    {
     "data": {
      "text/plain": [
       "(14267, 6)"
      ]
     },
     "execution_count": 61,
     "metadata": {},
     "output_type": "execute_result"
    }
   ],
   "source": [
    "pi_letro_mutated.shape"
   ]
  },
  {
   "cell_type": "code",
   "execution_count": 62,
   "metadata": {
    "collapsed": true
   },
   "outputs": [],
   "source": [
    "letro = target_paths2(\"Letrozole\")"
   ]
  },
  {
   "cell_type": "code",
   "execution_count": 63,
   "metadata": {},
   "outputs": [
    {
     "data": {
      "text/plain": [
       "'Name: \\nType: Graph\\nNumber of nodes: 350\\nNumber of edges: 4313\\nAverage degree:  24.6457'"
      ]
     },
     "execution_count": 63,
     "metadata": {},
     "output_type": "execute_result"
    }
   ],
   "source": [
    "Letrozole_g = nx.from_dict_of_lists(letro,create_using=None) \n",
    "\n",
    "G_Letrozole = G.subgraph(Letrozole_g.nodes())\n",
    "\n",
    "# add edges between drug and drug target \n",
    "G_Letrozole.add_edges_from([(\"Letrozole\", x) for x in B.neighbors(\"Letrozole\")], edge_type = 'drug_targ')\n",
    "\n",
    "# mutated genes in the subnetwork\n",
    "common_genes5 = set(G_Letrozole.nodes()).intersection(pi_letro_mutated[\"Gene name\"])\n",
    "common_pi_letro_mutated = pi_letro_mutated[pi_letro_mutated[\"Gene name\"].isin(common_genes5)]\n",
    "\n",
    "# add edges between patients and mutated genes \n",
    "mutated_pi5 = common_pi_letro_mutated[\"icgc_donor_id\"].tolist()\n",
    "mutated_gene5 = common_pi_letro_mutated[\"Gene name\"].tolist()\n",
    "G_Letrozole.add_edges_from(zip(mutated_pi5, mutated_gene5), edge_type = 'pi_letro_mu')\n",
    "\n",
    "nx.write_graphml(G_Letrozole, 'Letro_pi_mu_all.graphml')\n",
    "\n",
    "nx.info(G_Letrozole)"
   ]
  },
  {
   "cell_type": "code",
   "execution_count": 64,
   "metadata": {
    "collapsed": true
   },
   "outputs": [],
   "source": [
    "letro_mu_genes = pd.DataFrame()\n",
    "for genes in pi_letro_mutated['Gene name']:\n",
    "    letro_mu_genes[genes] = pd.Series('letro_mu_genes')\n",
    "\n",
    "letro_mu_genes =letro_mu_genes.T\n",
    "letro_mu_genes.to_csv(\"letro_mu_genes.noa\", sep='\\t')"
   ]
  },
  {
   "cell_type": "code",
   "execution_count": 65,
   "metadata": {},
   "outputs": [
    {
     "data": {
      "text/plain": [
       "'Name: \\nType: Graph\\nNumber of nodes: 75\\nNumber of edges: 288\\nAverage degree:   7.6800'"
      ]
     },
     "execution_count": 65,
     "metadata": {},
     "output_type": "execute_result"
    }
   ],
   "source": [
    "pi_doce_mutated = drug_mutation1[drug_mutation1['Drug_list'] == 'Docetaxel']\n",
    "\n",
    "Docetaxel_g = nx.from_dict_of_lists(Docetaxel,create_using=None)\n",
    "\n",
    "G_Docetaxel = G.subgraph(Docetaxel_g.nodes())\n",
    "\n",
    "# add edges between drug and drug target \n",
    "G_Docetaxel.add_edges_from([(\"Docetaxel\", x) for x in B.neighbors(\"Docetaxel\")], edge_type ='drug_targ')\n",
    "\n",
    "# mutated genes in the subnetwork\n",
    "common_genes6 = set(G_Docetaxel.nodes()).intersection(pi_doce_mutated[\"Gene name\"])\n",
    "common_pi_doce_mutated = pi_doce_mutated[pi_doce_mutated[\"Gene name\"].isin(common_genes6)]\n",
    "\n",
    "# add edges between patients and mutated genes \n",
    "\n",
    "mutated_pi6 = common_pi_doce_mutated[\"icgc_donor_id\"].tolist()\n",
    "mutated_gene6 = common_pi_doce_mutated[\"Gene name\"].tolist()\n",
    "G_Docetaxel.add_edges_from(zip(mutated_pi6, mutated_gene6), edge_type = 'pi_doce_mu')\n",
    "\n",
    "nx.write_graphml(G_Docetaxel, 'Doce_pi_mu_all.graphml')\n",
    "\n",
    "nx.info(G_Docetaxel)"
   ]
  },
  {
   "cell_type": "code",
   "execution_count": 66,
   "metadata": {
    "collapsed": true
   },
   "outputs": [],
   "source": [
    "doce_mu_genes = pd.DataFrame()\n",
    "for genes in pi_doce_mutated['Gene name']:\n",
    "    doce_mu_genes[genes] = pd.Series('doce_mu_genes')\n",
    "\n",
    "doce_mu_genes =doce_mu_genes.T\n",
    "doce_mu_genes.to_csv(\"doce_mu_genes.noa\", sep='\\t')"
   ]
  },
  {
   "cell_type": "code",
   "execution_count": 67,
   "metadata": {},
   "outputs": [
    {
     "data": {
      "text/plain": [
       "'Name: \\nType: Graph\\nNumber of nodes: 197\\nNumber of edges: 2149\\nAverage degree:  21.8173'"
      ]
     },
     "execution_count": 67,
     "metadata": {},
     "output_type": "execute_result"
    }
   ],
   "source": [
    "pi_fulv_mutated = drug_mutation1[drug_mutation1['Drug_list'] == 'Fulvestrant']\n",
    "\n",
    "Fulvestrant_g = nx.from_dict_of_lists(Fulvestrant,create_using=None)\n",
    "\n",
    "G_Fulvestrant = G.subgraph(Fulvestrant_g.nodes())\n",
    "\n",
    "# add edges between drug and drug target \n",
    "G_Fulvestrant.add_edges_from([(\"Fulvestrant\", x) for x in B.neighbors(\"Fulvestrant\")], edge_type = 'drug_targ')\n",
    "\n",
    "# mutated genes in the subnetwork\n",
    "common_genes7 = set(G_Fulvestrant.nodes()).intersection(pi_fulv_mutated[\"Gene name\"])\n",
    "common_pi_fulv_mutated = pi_fulv_mutated[pi_fulv_mutated[\"Gene name\"].isin(common_genes7)]\n",
    "\n",
    "# add edges between patients and mutated genes \n",
    "\n",
    "mutated_pi7 = common_pi_fulv_mutated[\"icgc_donor_id\"].tolist()\n",
    "mutated_gene7 = common_pi_fulv_mutated[\"Gene name\"].tolist()\n",
    "G_Fulvestrant.add_edges_from(zip(mutated_pi7, mutated_gene7), edge_type = 'pi_fulv_mu')\n",
    "\n",
    "nx.write_graphml(G_Fulvestrant, 'Fulv_pi_mu_all.graphml')\n",
    "\n",
    "nx.info(G_Fulvestrant)"
   ]
  },
  {
   "cell_type": "code",
   "execution_count": 68,
   "metadata": {
    "collapsed": true
   },
   "outputs": [],
   "source": [
    "fulv_mu_genes = pd.DataFrame()\n",
    "for genes in pi_fulv_mutated['Gene name']:\n",
    "    fulv_mu_genes[genes] = pd.Series('fulv_mu_genes')\n",
    "\n",
    "fulv_mu_genes =fulv_mu_genes.T\n",
    "fulv_mu_genes.to_csv(\"fulv_mu_genes.noa\", sep='\\t')"
   ]
  },
  {
   "cell_type": "code",
   "execution_count": 69,
   "metadata": {},
   "outputs": [
    {
     "data": {
      "text/plain": [
       "'Name: \\nType: Graph\\nNumber of nodes: 41\\nNumber of edges: 194\\nAverage degree:   9.4634'"
      ]
     },
     "execution_count": 69,
     "metadata": {},
     "output_type": "execute_result"
    }
   ],
   "source": [
    "pi_capec_mutated = drug_mutation1[drug_mutation1['Drug_list'] == 'Capecitabine']\n",
    "\n",
    "Capecitabine_g = nx.from_dict_of_lists(Capecitabine,create_using=None)\n",
    "\n",
    "G_Capecitabine = G.subgraph(Capecitabine_g.nodes())\n",
    "\n",
    "# add edges between drug and drug target \n",
    "G_Capecitabine.add_edges_from([(\"Capecitabine\", x) for x in B.neighbors(\"Capecitabine\")], edge_type = 'drug_targ')\n",
    "\n",
    "# mutated genes in the subnetwork\n",
    "common_genes8 = set(G_Capecitabine.nodes()).intersection(pi_capec_mutated[\"Gene name\"])\n",
    "common_pi_capec_mutated = pi_capec_mutated[pi_capec_mutated[\"Gene name\"].isin(common_genes8)]\n",
    "\n",
    "# add edges between patients and mutated genes \n",
    "\n",
    "mutated_pi8 = common_pi_capec_mutated[\"icgc_donor_id\"].tolist()\n",
    "mutated_gene8 = common_pi_capec_mutated[\"Gene name\"].tolist()\n",
    "G_Capecitabine.add_edges_from(zip(mutated_pi8, mutated_gene8), edge_type = 'pi_capec_mu')\n",
    "\n",
    "nx.write_graphml(G_Capecitabine, 'Capec_pi_mu_all.graphml')\n",
    "\n",
    "nx.info(G_Capecitabine)"
   ]
  },
  {
   "cell_type": "code",
   "execution_count": 70,
   "metadata": {
    "collapsed": true
   },
   "outputs": [],
   "source": [
    "capec_mu_genes = pd.DataFrame()\n",
    "for genes in pi_capec_mutated['Gene name']:\n",
    "    capec_mu_genes[genes] = pd.Series('capec_mu_genes')\n",
    "\n",
    "capec_mu_genes =capec_mu_genes.T\n",
    "capec_mu_genes.to_csv(\"capec_mu_genes.noa\", sep='\\t')"
   ]
  },
  {
   "cell_type": "code",
   "execution_count": 71,
   "metadata": {},
   "outputs": [
    {
     "data": {
      "text/plain": [
       "'Name: \\nType: Graph\\nNumber of nodes: 2\\nNumber of edges: 1\\nAverage degree:   1.0000'"
      ]
     },
     "execution_count": 71,
     "metadata": {},
     "output_type": "execute_result"
    }
   ],
   "source": [
    "pi_vinor_mutated = drug_mutation1[drug_mutation1['Drug_list'] == 'Vinorelbine']\n",
    "\n",
    "Vinorelbine_g = nx.from_dict_of_lists(Vinorelbine,create_using=None)\n",
    "\n",
    "G_Vinorelbine = G.subgraph(Vinorelbine_g.nodes())\n",
    "\n",
    "# add edges between drug and drug target \n",
    "G_Vinorelbine.add_edges_from([(\"Vinorelbine\", x) for x in B.neighbors(\"Vinorelbine\")], edge_type = 'drug_targ')\n",
    "\n",
    "# mutated genes in the subnetwork\n",
    "common_genes9 = set(G_Vinorelbine.nodes()).intersection(pi_vinor_mutated[\"Gene name\"])\n",
    "common_pi_vinor_mutated = pi_vinor_mutated[pi_vinor_mutated[\"Gene name\"].isin(common_genes9)]\n",
    "\n",
    "# add edges between patients and mutated genes \n",
    "\n",
    "mutated_pi9 = common_pi_vinor_mutated[\"icgc_donor_id\"].tolist()\n",
    "mutated_gene9 = common_pi_vinor_mutated[\"Gene name\"].tolist()\n",
    "G_Vinorelbine.add_edges_from(zip(mutated_pi9, mutated_gene9), edge_type = 'pi_vinor_mu')\n",
    "\n",
    "nx.write_graphml(G_Vinorelbine, 'Vinor_pi_mu_all.graphml')\n",
    "\n",
    "nx.info(G_Vinorelbine)"
   ]
  },
  {
   "cell_type": "code",
   "execution_count": 72,
   "metadata": {},
   "outputs": [
    {
     "data": {
      "text/plain": [
       "['TUBB']"
      ]
     },
     "execution_count": 72,
     "metadata": {},
     "output_type": "execute_result"
    }
   ],
   "source": [
    "B.neighbors(\"Vinorelbine\")     #not in string network"
   ]
  },
  {
   "cell_type": "code",
   "execution_count": 73,
   "metadata": {},
   "outputs": [
    {
     "data": {
      "text/plain": [
       "'Name: \\nType: Graph\\nNumber of nodes: 3\\nNumber of edges: 2\\nAverage degree:   1.3333'"
      ]
     },
     "execution_count": 73,
     "metadata": {},
     "output_type": "execute_result"
    }
   ],
   "source": [
    "pi_metho_mutated = drug_mutation1[drug_mutation1['Drug_list'] == 'Methotrexate']\n",
    "\n",
    "Methotrexate_g = nx.from_dict_of_lists(Methotrexate,create_using=None)\n",
    "\n",
    "G_Methotrexate = G.subgraph(Methotrexate_g.nodes())\n",
    "\n",
    "# add edges between drug and drug target \n",
    "G_Methotrexate.add_edges_from([(\"Methotrexate\", x) for x in B.neighbors(\"Methotrexate\")], edge_type= 'drug_targ')\n",
    "\n",
    "# mutated genes in the subnetwork\n",
    "common_genes10 = set(G_Methotrexate.nodes()).intersection(pi_metho_mutated[\"Gene name\"])\n",
    "common_pi_metho_mutated = pi_metho_mutated[pi_metho_mutated[\"Gene name\"].isin(common_genes10)]\n",
    "\n",
    "# add edges between patients and mutated genes \n",
    "\n",
    "mutated_pi10 = common_pi_metho_mutated[\"icgc_donor_id\"].tolist()\n",
    "mutated_gene10 = common_pi_metho_mutated[\"Gene name\"].tolist()\n",
    "G_Methotrexate.add_edges_from(zip(mutated_pi10, mutated_gene10), edge_type='pi_metho_mu')\n",
    "\n",
    "nx.write_graphml(G_Methotrexate, 'Metho_pi_mu_all.graphml')\n",
    "\n",
    "nx.info(G_Methotrexate)"
   ]
  },
  {
   "cell_type": "code",
   "execution_count": 74,
   "metadata": {},
   "outputs": [
    {
     "data": {
      "text/plain": [
       "['DHFR']"
      ]
     },
     "execution_count": 74,
     "metadata": {},
     "output_type": "execute_result"
    }
   ],
   "source": [
    "B.neighbors('Methotrexate')       #not in string network"
   ]
  },
  {
   "cell_type": "code",
   "execution_count": 75,
   "metadata": {},
   "outputs": [
    {
     "data": {
      "text/plain": [
       "'Name: \\nType: Graph\\nNumber of nodes: 53\\nNumber of edges: 226\\nAverage degree:   8.5283'"
      ]
     },
     "execution_count": 75,
     "metadata": {},
     "output_type": "execute_result"
    }
   ],
   "source": [
    "pi_fluo_mutated = drug_mutation1[drug_mutation1['Drug_list'] == 'Fluorouracil']\n",
    "\n",
    "Fluorouracil_g = nx.from_dict_of_lists(Fluorouracil,create_using=None)\n",
    "\n",
    "G_Fluorouracil = G.subgraph(Fluorouracil_g.nodes())\n",
    "\n",
    "# add edges between drug and drug target \n",
    "G_Fluorouracil.add_edges_from([(\"Fluorouracil\", x) for x in B.neighbors(\"Fluorouracil\")], edge_type ='drug_targ')\n",
    "\n",
    "# mutated genes in the subnetwork\n",
    "common_genes11 = set(G_Fluorouracil.nodes()).intersection(pi_fluo_mutated[\"Gene name\"])\n",
    "common_pi_fluo_mutated = pi_fluo_mutated[pi_fluo_mutated[\"Gene name\"].isin(common_genes11)]\n",
    "\n",
    "# add edges between patients and mutated genes \n",
    "\n",
    "mutated_pi11 = common_pi_fluo_mutated[\"icgc_donor_id\"].tolist()\n",
    "mutated_gene11 = common_pi_fluo_mutated[\"Gene name\"].tolist()\n",
    "G_Fluorouracil.add_edges_from(zip(mutated_pi11, mutated_gene11), edge_type = 'pi_fluo_mu')\n",
    "\n",
    "nx.write_graphml(G_Fluorouracil, 'Fluo_pi_mu_all.graphml')\n",
    "\n",
    "nx.info(G_Fluorouracil)"
   ]
  },
  {
   "cell_type": "code",
   "execution_count": 76,
   "metadata": {
    "collapsed": true
   },
   "outputs": [],
   "source": [
    "fluo_mu_genes = pd.DataFrame()\n",
    "for genes in pi_fluo_mutated['Gene name']:\n",
    "    fluo_mu_genes[genes] = pd.Series('fluo_mu_genes')\n",
    "\n",
    "fluo_mu_genes =fluo_mu_genes.T\n",
    "fluo_mu_genes.to_csv(\"fluo_mu_genes.noa\", sep='\\t')"
   ]
  },
  {
   "cell_type": "code",
   "execution_count": 77,
   "metadata": {},
   "outputs": [
    {
     "data": {
      "text/plain": [
       "'Name: \\nType: Graph\\nNumber of nodes: 65\\nNumber of edges: 213\\nAverage degree:   6.5538'"
      ]
     },
     "execution_count": 77,
     "metadata": {},
     "output_type": "execute_result"
    }
   ],
   "source": [
    "pi_doxo_mutated = drug_mutation1[drug_mutation1['Drug_list'] == 'Doxorubicin']\n",
    "\n",
    "Doxorubicin_g = nx.from_dict_of_lists(Doxorubicin,create_using=None)\n",
    "\n",
    "G_Doxorubicin = G.subgraph(Doxorubicin_g.nodes())\n",
    "\n",
    "# add edges between drug and drug target \n",
    "G_Doxorubicin.add_edges_from([(\"Doxorubicin\", x) for x in B.neighbors(\"Doxorubicin\")], edge_type = 'drug_targ')\n",
    "\n",
    "# mutated genes in the subnetwork\n",
    "common_genes12 = set(G_Doxorubicin.nodes()).intersection(pi_doxo_mutated[\"Gene name\"])\n",
    "common_pi_doxo_mutated = pi_doxo_mutated[pi_doxo_mutated[\"Gene name\"].isin(common_genes12)]\n",
    "\n",
    "# add edges between patients and mutated genes \n",
    "\n",
    "mutated_pi12 = common_pi_fluo_mutated[\"icgc_donor_id\"].tolist()\n",
    "mutated_gene12 = common_pi_fluo_mutated[\"Gene name\"].tolist()\n",
    "G_Doxorubicin.add_edges_from(zip(mutated_pi12, mutated_gene12), edge_type = 'pi_doxo_mu')\n",
    "\n",
    "nx.write_graphml(G_Doxorubicin, 'Doxo_pi_mu_all.graphml')\n",
    "\n",
    "nx.info(G_Doxorubicin)"
   ]
  },
  {
   "cell_type": "code",
   "execution_count": 78,
   "metadata": {
    "collapsed": true
   },
   "outputs": [],
   "source": [
    "doxo_mu_genes = pd.DataFrame()\n",
    "for genes in pi_doxo_mutated['Gene name']:\n",
    "    fulv_mu_genes[genes] = pd.Series('doxo_mu_genes')\n",
    "\n",
    "doxo_mu_genes =doxo_mu_genes.T\n",
    "doxo_mu_genes.to_csv(\"doxo_mu_genes.noa\", sep='\\t')"
   ]
  },
  {
   "cell_type": "code",
   "execution_count": 79,
   "metadata": {},
   "outputs": [
    {
     "data": {
      "text/plain": [
       "'Name: \\nType: Graph\\nNumber of nodes: 70\\nNumber of edges: 206\\nAverage degree:   5.8857'"
      ]
     },
     "execution_count": 79,
     "metadata": {},
     "output_type": "execute_result"
    }
   ],
   "source": [
    "pi_taxel_mutated = drug_mutation1[drug_mutation1['Drug_list'] == 'Paclitaxel']\n",
    "\n",
    "Paclitaxel_g = nx.from_dict_of_lists(Paclitaxel,create_using=None)\n",
    "\n",
    "G_Paclitaxel = G.subgraph(Paclitaxel_g.nodes())\n",
    "\n",
    "# add edges between drug and drug target \n",
    "G_Paclitaxel.add_edges_from([(\"Paclitaxel\", x) for x in B.neighbors(\"Paclitaxel\")], edge_type = 'drug_targ')\n",
    "\n",
    "# mutated genes in the subnetwork\n",
    "common_genes13 = set(G_Paclitaxel.nodes()).intersection(pi_taxel_mutated[\"Gene name\"])\n",
    "common_pi_taxel_mutated = pi_taxel_mutated[pi_taxel_mutated[\"Gene name\"].isin(common_genes13)]\n",
    "\n",
    "# add edges between patients and mutated genes \n",
    "\n",
    "mutated_pi13 = common_pi_taxel_mutated[\"icgc_donor_id\"].tolist()\n",
    "mutated_gene13 = common_pi_taxel_mutated[\"Gene name\"].tolist()\n",
    "G_Paclitaxel.add_edges_from(zip(mutated_pi13, mutated_gene13), edge_type = 'pi_taxel_mu')\n",
    "\n",
    "nx.write_graphml(G_Paclitaxel, 'Taxel_pi_mu_all.graphml')\n",
    "\n",
    "nx.info(G_Paclitaxel)"
   ]
  },
  {
   "cell_type": "code",
   "execution_count": 80,
   "metadata": {
    "collapsed": true
   },
   "outputs": [],
   "source": [
    "taxel_mu_genes = pd.DataFrame()\n",
    "for genes in pi_taxel_mutated['Gene name']:\n",
    "    taxel_mu_genes[genes] = pd.Series('taxel_mu_genes')\n",
    "\n",
    "taxel_mu_genes =taxel_mu_genes.T\n",
    "taxel_mu_genes.to_csv(\"taxel_mu_genes.noa\", sep='\\t')"
   ]
  },
  {
   "cell_type": "code",
   "execution_count": 81,
   "metadata": {},
   "outputs": [
    {
     "data": {
      "text/plain": [
       "'Name: \\nType: Graph\\nNumber of nodes: 193\\nNumber of edges: 2806\\nAverage degree:  29.0777'"
      ]
     },
     "execution_count": 81,
     "metadata": {},
     "output_type": "execute_result"
    }
   ],
   "source": [
    "pi_bevac_mutated = drug_mutation1[drug_mutation1['Drug_list'] == 'Bevacizumab']\n",
    "\n",
    "Bevacizumab_g = nx.from_dict_of_lists(Bevacizumab,create_using=None)\n",
    "\n",
    "G_Bevacizumab = G.subgraph(Bevacizumab_g.nodes())\n",
    "\n",
    "# add edges between drug and drug target \n",
    "G_Bevacizumab.add_edges_from([(\"Bevacizumab\", x) for x in B.neighbors(\"Bevacizumab\")], edge_type = 'drug_targ')\n",
    "\n",
    "# mutated genes in the subnetwork\n",
    "common_genes14 = set(G_Bevacizumab.nodes()).intersection(pi_bevac_mutated[\"Gene name\"])\n",
    "common_pi_bevac_mutated = pi_bevac_mutated[pi_bevac_mutated[\"Gene name\"].isin(common_genes14)]\n",
    "\n",
    "# add edges between patients and mutated genes \n",
    "\n",
    "mutated_pi14 = common_pi_bevac_mutated[\"icgc_donor_id\"].tolist()\n",
    "mutated_gene14 = common_pi_bevac_mutated[\"Gene name\"].tolist()\n",
    "G_Bevacizumab.add_edges_from(zip(mutated_pi14, mutated_gene14), edge_type ='pi_bevac_mu')\n",
    "\n",
    "nx.write_graphml(G_Bevacizumab, 'Bevac_pi_mu_all.graphml')\n",
    "\n",
    "nx.info(G_Bevacizumab)"
   ]
  },
  {
   "cell_type": "code",
   "execution_count": 82,
   "metadata": {
    "collapsed": true
   },
   "outputs": [],
   "source": [
    "bevac_mu_genes = pd.DataFrame()\n",
    "for genes in pi_bevac_mutated['Gene name']:\n",
    "    bevac_mu_genes[genes] = pd.Series('bevac_mu_genes')\n",
    "\n",
    "bevac_mu_genes =bevac_mu_genes.T\n",
    "bevac_mu_genes.to_csv(\"bevac_mu_genes.noa\", sep='\\t')"
   ]
  },
  {
   "cell_type": "code",
   "execution_count": 83,
   "metadata": {},
   "outputs": [
    {
     "data": {
      "text/plain": [
       "'Name: \\nType: Graph\\nNumber of nodes: 313\\nNumber of edges: 4028\\nAverage degree:  25.7380'"
      ]
     },
     "execution_count": 83,
     "metadata": {},
     "output_type": "execute_result"
    }
   ],
   "source": [
    "pi_tras_mutated = drug_mutation1[drug_mutation1['Drug_list'] == 'Trastuzumab']\n",
    "\n",
    "Trastuzumab_g = nx.from_dict_of_lists(Trastuzumab,create_using=None)\n",
    "\n",
    "G_Trastuzumab = G.subgraph(Trastuzumab_g.nodes())\n",
    "\n",
    "# add edges between drug and drug target \n",
    "G_Trastuzumab.add_edges_from([(\"Trastuzumab\", x) for x in B.neighbors(\"Trastuzumab\")], edge_type = 'drug_targ')\n",
    "\n",
    "# mutated genes in the subnetwork\n",
    "common_genes15 = set(G_Trastuzumab.nodes()).intersection(pi_tras_mutated[\"Gene name\"])\n",
    "common_pi_tras_mutated = pi_tras_mutated[pi_tras_mutated[\"Gene name\"].isin(common_genes15)]\n",
    "\n",
    "# add edges between patients and mutated genes \n",
    "\n",
    "mutated_pi15 = common_pi_tras_mutated[\"icgc_donor_id\"].tolist()\n",
    "mutated_gene15 = common_pi_tras_mutated[\"Gene name\"].tolist()\n",
    "G_Trastuzumab.add_edges_from(zip(mutated_pi15, mutated_gene15), edge_type = 'pi_tras_mu')\n",
    "\n",
    "nx.write_graphml(G_Trastuzumab, 'Tras_pi_mu_all.graphml')\n",
    "\n",
    "nx.info(G_Trastuzumab)"
   ]
  },
  {
   "cell_type": "code",
   "execution_count": 84,
   "metadata": {
    "collapsed": true
   },
   "outputs": [],
   "source": [
    "tras_mu_genes = pd.DataFrame()\n",
    "for genes in pi_tras_mutated['Gene name']:\n",
    "    tras_mu_genes[genes] = pd.Series('tras_mu_genes')\n",
    "\n",
    "tras_mu_genes =tras_mu_genes.T\n",
    "tras_mu_genes.to_csv(\"tras_mu_genes.noa\", sep='\\t')"
   ]
  },
  {
   "cell_type": "code",
   "execution_count": 85,
   "metadata": {},
   "outputs": [
    {
     "data": {
      "text/plain": [
       "'Name: \\nType: Graph\\nNumber of nodes: 50\\nNumber of edges: 224\\nAverage degree:   8.9600'"
      ]
     },
     "execution_count": 85,
     "metadata": {},
     "output_type": "execute_result"
    }
   ],
   "source": [
    "pi_epi_mutated = drug_mutation1[drug_mutation1['Drug_list'] == 'Epirubicin']\n",
    "\n",
    "Epirubicin_g = nx.from_dict_of_lists(Epirubicin,create_using=None)\n",
    "\n",
    "G_Epirubicin = G.subgraph(Epirubicin_g.nodes())\n",
    "\n",
    "# add edges between drug and drug target \n",
    "G_Epirubicin.add_edges_from([(\"Epirubicin\", x) for x in B.neighbors(\"Epirubicin\")], edge_type = 'drug_targ')\n",
    "\n",
    "# mutated genes in the subnetwork\n",
    "common_genes16 = set(G_Epirubicin.nodes()).intersection(pi_epi_mutated[\"Gene name\"])\n",
    "common_pi_epi_mutated = pi_epi_mutated[pi_epi_mutated[\"Gene name\"].isin(common_genes16)]\n",
    "\n",
    "# add edges between patients and mutated genes \n",
    "\n",
    "mutated_pi16 = common_pi_epi_mutated[\"icgc_donor_id\"].tolist()\n",
    "mutated_gene16 = common_pi_epi_mutated[\"Gene name\"].tolist()\n",
    "G_Epirubicin.add_edges_from(zip(mutated_pi16, mutated_gene16), edge_type= 'pi_epi_mu')\n",
    "\n",
    "nx.write_graphml(G_Epirubicin, 'Epi_pi_mu_all.graphml')\n",
    "\n",
    "nx.info(G_Epirubicin)"
   ]
  },
  {
   "cell_type": "code",
   "execution_count": 86,
   "metadata": {
    "collapsed": true
   },
   "outputs": [],
   "source": [
    "epi_mu_genes = pd.DataFrame()\n",
    "for genes in pi_epi_mutated['Gene name']:\n",
    "    epi_mu_genes[genes] = pd.Series('epi_mu_genes')\n",
    "\n",
    "epi_mu_genes =epi_mu_genes.T\n",
    "epi_mu_genes.to_csv(\"epi_mu_genes.noa\", sep='\\t')"
   ]
  },
  {
   "cell_type": "code",
   "execution_count": 87,
   "metadata": {},
   "outputs": [
    {
     "data": {
      "text/plain": [
       "'Name: \\nType: Graph\\nNumber of nodes: 78\\nNumber of edges: 596\\nAverage degree:  15.2821'"
      ]
     },
     "execution_count": 87,
     "metadata": {},
     "output_type": "execute_result"
    }
   ],
   "source": [
    "pi_gem_mutated = drug_mutation1[drug_mutation1['Drug_list'] == 'Gemcitabine']\n",
    "\n",
    "Gemcitabine_g = nx.from_dict_of_lists(Gemcitabine,create_using=None)\n",
    "\n",
    "G_Gemcitabine = G.subgraph(Gemcitabine_g.nodes())\n",
    "\n",
    "# add edges between drug and drug target \n",
    "G_Gemcitabine.add_edges_from([(\"Gemcitabine\", x) for x in B.neighbors(\"Gemcitabine\")], edge_type = 'drug_targ')\n",
    "\n",
    "# mutated genes in the subnetwork\n",
    "common_genes17 = set(G_Gemcitabine.nodes()).intersection(pi_gem_mutated[\"Gene name\"])\n",
    "common_pi_gem_mutated = pi_gem_mutated[pi_gem_mutated[\"Gene name\"].isin(common_genes17)]\n",
    "\n",
    "# add edges between patients and mutated genes \n",
    "\n",
    "mutated_pi17 = common_pi_gem_mutated[\"icgc_donor_id\"].tolist()\n",
    "mutated_gene17 = common_pi_gem_mutated[\"Gene name\"].tolist()\n",
    "G_Gemcitabine.add_edges_from(zip(mutated_pi17, mutated_gene17), edge_type = 'pi_gem_mu')\n",
    "\n",
    "nx.write_graphml(G_Gemcitabine, 'Gem_pi_mu_all.graphml')\n",
    "\n",
    "nx.info(G_Gemcitabine)"
   ]
  },
  {
   "cell_type": "code",
   "execution_count": 88,
   "metadata": {
    "collapsed": true
   },
   "outputs": [],
   "source": [
    "gem_mu_genes = pd.DataFrame()\n",
    "for genes in pi_gem_mutated['Gene name']:\n",
    "    gem_mu_genes[genes] = pd.Series('gem_mu_genes')\n",
    "\n",
    "gem_mu_genes =gem_mu_genes.T\n",
    "gem_mu_genes.to_csv(\"gem_mu_genes.noa\", sep='\\t')"
   ]
  },
  {
   "cell_type": "code",
   "execution_count": 89,
   "metadata": {},
   "outputs": [
    {
     "data": {
      "text/plain": [
       "'Name: \\nType: Graph\\nNumber of nodes: 52\\nNumber of edges: 345\\nAverage degree:  13.2692'"
      ]
     },
     "execution_count": 89,
     "metadata": {},
     "output_type": "execute_result"
    }
   ],
   "source": [
    "pi_alen_mutated = drug_mutation1[drug_mutation1['Drug_list'] == 'Alendronic acid']\n",
    "\n",
    "Alendronic_acid_g = nx.from_dict_of_lists(Alendronic_acid,create_using=None)\n",
    "\n",
    "G_Alendronic_acid = G.subgraph(Alendronic_acid_g.nodes())\n",
    "\n",
    "# add edges between drug and drug target \n",
    "G_Alendronic_acid.add_edges_from([(\"Alendronic acid\", x) for x in B.neighbors(\"Alendronic acid\")],edge_type = 'drug_targ')\n",
    "\n",
    "# mutated genes in the subnetwork\n",
    "common_genes18 = set(G_Alendronic_acid.nodes()).intersection(pi_alen_mutated[\"Gene name\"])\n",
    "common_pi_alen_mutated = pi_alen_mutated[pi_alen_mutated[\"Gene name\"].isin(common_genes18)]\n",
    "\n",
    "# add edges between patients and mutated genes \n",
    "\n",
    "mutated_pi18 = common_pi_alen_mutated[\"icgc_donor_id\"].tolist()\n",
    "mutated_gene18 = common_pi_alen_mutated[\"Gene name\"].tolist()\n",
    "G_Alendronic_acid.add_edges_from(zip(mutated_pi18, mutated_gene18), edge_type = 'pi_alen_mu')\n",
    "\n",
    "nx.write_graphml(G_Alendronic_acid, 'Alen_pi_mu_all.graphml')\n",
    "\n",
    "nx.info(G_Alendronic_acid)"
   ]
  },
  {
   "cell_type": "code",
   "execution_count": 90,
   "metadata": {
    "collapsed": true
   },
   "outputs": [],
   "source": [
    "alen_mu_genes = pd.DataFrame()\n",
    "for genes in pi_alen_mutated['Gene name']:\n",
    "    alen_mu_genes[genes] = pd.Series('alen_mu_genes')\n",
    "\n",
    "alen_mu_genes =alen_mu_genes.T\n",
    "alen_mu_genes.to_csv(\"alen_mu_genes.noa\", sep='\\t')"
   ]
  },
  {
   "cell_type": "code",
   "execution_count": 91,
   "metadata": {},
   "outputs": [
    {
     "data": {
      "text/plain": [
       "'Name: \\nType: Graph\\nNumber of nodes: 68\\nNumber of edges: 1791\\nAverage degree:  52.6765'"
      ]
     },
     "execution_count": 91,
     "metadata": {},
     "output_type": "execute_result"
    }
   ],
   "source": [
    "pi_bus_mutated = drug_mutation1[drug_mutation1['Drug_list'] == 'Buserelin']\n",
    "\n",
    "Buserelin_g = nx.from_dict_of_lists(Buserelin,create_using=None)\n",
    "\n",
    "G_Buserelin = G.subgraph(Buserelin_g.nodes())\n",
    "\n",
    "# add edges between drug and drug target \n",
    "G_Buserelin.add_edges_from([(\"Buserelin\", x) for x in B.neighbors(\"Buserelin\")], edge_type='drug_targ')\n",
    "\n",
    "# mutated genes in the subnetwork\n",
    "common_genes19 = set(G_Buserelin.nodes()).intersection(pi_bus_mutated[\"Gene name\"])\n",
    "common_pi_bus_mutated = pi_bus_mutated[pi_bus_mutated[\"Gene name\"].isin(common_genes19)]\n",
    "\n",
    "# add edges between patients and mutated genes \n",
    "\n",
    "mutated_pi19 = common_pi_bus_mutated[\"icgc_donor_id\"].tolist()\n",
    "mutated_gene19 = common_pi_bus_mutated[\"Gene name\"].tolist()\n",
    "G_Buserelin.add_edges_from(zip(mutated_pi19, mutated_gene19), edge_type ='pi_mutation')\n",
    "\n",
    "nx.write_graphml(G_Buserelin, 'Bus_pi_mu_all.graphml')\n",
    "\n",
    "nx.info(G_Buserelin)"
   ]
  },
  {
   "cell_type": "code",
   "execution_count": 92,
   "metadata": {
    "collapsed": true
   },
   "outputs": [],
   "source": [
    "bus_mu_genes = pd.DataFrame()\n",
    "for genes in pi_bus_mutated['Gene name']:\n",
    "    bus_mu_genes[genes] = pd.Series('bus_mu_genes')\n",
    "\n",
    "bus_mu_genes =bus_mu_genes.T\n",
    "bus_mu_genes.to_csv(\"bus_mu_genes.noa\", sep='\\t')"
   ]
  },
  {
   "cell_type": "code",
   "execution_count": 95,
   "metadata": {
    "collapsed": true
   },
   "outputs": [],
   "source": [
    "zole = target_paths(\"Zoledronic acid\")"
   ]
  },
  {
   "cell_type": "code",
   "execution_count": 96,
   "metadata": {},
   "outputs": [],
   "source": [
    "zole = target_paths2(\"Zoledronic acid\")"
   ]
  },
  {
   "cell_type": "code",
   "execution_count": 97,
   "metadata": {},
   "outputs": [
    {
     "data": {
      "text/plain": [
       "'Name: \\nType: Graph\\nNumber of nodes: 1867\\nNumber of edges: 23055\\nAverage degree:  24.6974'"
      ]
     },
     "execution_count": 97,
     "metadata": {},
     "output_type": "execute_result"
    }
   ],
   "source": [
    "pi_zole_mutated = drug_mutation1[drug_mutation1['Drug_list'] == 'Zoledronic acid']\n",
    "\n",
    "Zoledronic_acid_g = nx.from_dict_of_lists(zole,create_using=None)\n",
    "\n",
    "G_Zoledronic_acid = G.subgraph(Zoledronic_acid_g.nodes())\n",
    "\n",
    "# add edges between drug and drug target \n",
    "G_Zoledronic_acid.add_edges_from([(\"Zoledronic acid\", x) for x in B.neighbors(\"Zoledronic acid\")], edge_type='drug_target')\n",
    "\n",
    "# mutated genes in the subnetwork\n",
    "common_genes20 = set(G_Zoledronic_acid.nodes()).intersection(pi_zole_mutated[\"Gene name\"])\n",
    "common_pi_zole_mutated = pi_zole_mutated[pi_zole_mutated[\"Gene name\"].isin(common_genes20)]\n",
    "\n",
    "# add edges between patients and mutated genes \n",
    "\n",
    "mutated_pi20 = common_pi_zole_mutated[\"icgc_donor_id\"].tolist()\n",
    "mutated_gene20 = common_pi_zole_mutated[\"Gene name\"].tolist()\n",
    "G_Zoledronic_acid.add_edges_from(zip(mutated_pi20, mutated_gene20), edge_type ='pi_mutation')\n",
    "\n",
    "nx.write_graphml(G_Zoledronic_acid, 'Zole_pi_mu_all.graphml')\n",
    "\n",
    "#no common genes between the G_zolendronic_acid and mutated genes \n",
    "#given together with Tamoxifen\n",
    "#if the nbr is increased to even 2nd hop, there's over 1800 nodes and 25000 edges.  \n",
    "\n",
    "nx.info(G_Zoledronic_acid)"
   ]
  },
  {
   "cell_type": "code",
   "execution_count": 97,
   "metadata": {
    "scrolled": true
   },
   "outputs": [
    {
     "data": {
      "text/plain": [
       "['FDPS', 'GGPS1']"
      ]
     },
     "execution_count": 97,
     "metadata": {},
     "output_type": "execute_result"
    }
   ],
   "source": [
    "B.neighbors(\"Zoledronic acid\")"
   ]
  },
  {
   "cell_type": "code",
   "execution_count": 98,
   "metadata": {
    "collapsed": true
   },
   "outputs": [],
   "source": [
    "C = nx.Graph()               #patients and their mutation graph\n",
    "\n",
    "C.add_nodes_from(drug_mutation1['icgc_donor_id'], node_type = 'P')\n",
    "\n",
    "C.add_nodes_from(drug_mutation1['Gene name'], node_type = 'mutated genes')\n",
    "\n",
    "C.add_edges_from([(row['icgc_donor_id'], row['Gene name']) for idx, row in drug_mutation1.iterrows()], edge_type = 'D_targ')"
   ]
  },
  {
   "cell_type": "code",
   "execution_count": 99,
   "metadata": {},
   "outputs": [
    {
     "data": {
      "text/plain": [
       "'Name: \\nType: Graph\\nNumber of nodes: 44392\\nNumber of edges: 244251\\nAverage degree:  11.0043'"
      ]
     },
     "execution_count": 99,
     "metadata": {},
     "output_type": "execute_result"
    }
   ],
   "source": [
    "nx.info(C)"
   ]
  },
  {
   "cell_type": "code",
   "execution_count": null,
   "metadata": {
    "collapsed": true
   },
   "outputs": [],
   "source": [
    "pi, m = bipartite.sets(C)"
   ]
  },
  {
   "cell_type": "code",
   "execution_count": null,
   "metadata": {
    "collapsed": true
   },
   "outputs": [],
   "source": [
    "pi_degree = C.degree(pi)"
   ]
  },
  {
   "cell_type": "code",
   "execution_count": null,
   "metadata": {
    "collapsed": true
   },
   "outputs": [],
   "source": [
    "m_degree = C.degree(m)"
   ]
  },
  {
   "cell_type": "code",
   "execution_count": null,
   "metadata": {},
   "outputs": [],
   "source": [
    "E = nx.Graph()              #patients and the drugs they take graph\n",
    "\n",
    "E.add_nodes_from(drug_mutation1['icgc_donor_id'], node_type = 'P')\n",
    "\n",
    "E.add_nodes_from(drug_mutation1['Drug_list'], node_type = 'D')\n",
    "\n",
    "E.add_edges_from([(row['icgc_donor_id'], row['Drug_list']) for idx, row in drug_mutation1.iterrows()], edge_type = 'pi_drug')\n",
    "\n",
    "nx.info(E)"
   ]
  },
  {
   "cell_type": "code",
   "execution_count": 100,
   "metadata": {},
   "outputs": [
    {
     "data": {
      "text/plain": [
       "1761"
      ]
     },
     "execution_count": 100,
     "metadata": {},
     "output_type": "execute_result"
    }
   ],
   "source": [
    "len(C.neighbors('DO217786'))       #stable"
   ]
  },
  {
   "cell_type": "code",
   "execution_count": null,
   "metadata": {},
   "outputs": [],
   "source": [
    "len(C.neighbors('DO218168'))         #prog"
   ]
  },
  {
   "cell_type": "code",
   "execution_count": 197,
   "metadata": {
    "scrolled": true
   },
   "outputs": [
    {
     "data": {
      "text/plain": [
       "1367"
      ]
     },
     "execution_count": 197,
     "metadata": {},
     "output_type": "execute_result"
    }
   ],
   "source": [
    "len(C.neighbors('DO224996'))         #disease progression"
   ]
  },
  {
   "cell_type": "code",
   "execution_count": 130,
   "metadata": {
    "collapsed": true
   },
   "outputs": [],
   "source": [
    "drug_list = pd.read_csv(\"sorted_druglist1.csv\")"
   ]
  },
  {
   "cell_type": "code",
   "execution_count": 131,
   "metadata": {},
   "outputs": [],
   "source": [
    "prog_anas = drug_list[drug_list['Drug_list'] == 'Anastrozole'] "
   ]
  },
  {
   "cell_type": "code",
   "execution_count": 243,
   "metadata": {
    "collapsed": true
   },
   "outputs": [],
   "source": [
    "\n",
    "anas_res = prog_anas.loc[prog_anas['second_therapy_response'].isin(['stable disease','disease progression'])]"
   ]
  },
  {
   "cell_type": "code",
   "execution_count": 246,
   "metadata": {
    "collapsed": true
   },
   "outputs": [],
   "source": [
    "anas_mu_res = anas_res.merge(drug_mutation1, how=\"left\")"
   ]
  },
  {
   "cell_type": "code",
   "execution_count": 132,
   "metadata": {},
   "outputs": [],
   "source": [
    "anas_stable = prog_anas.loc[prog_anas['second_therapy_response'].isin(['stable disease'])]"
   ]
  },
  {
   "cell_type": "code",
   "execution_count": 135,
   "metadata": {},
   "outputs": [],
   "source": [
    "anas_mu_stbl = anas_stable.merge(drug_mutation1, how=\"left\")"
   ]
  },
  {
   "cell_type": "code",
   "execution_count": 248,
   "metadata": {},
   "outputs": [
    {
     "data": {
      "text/plain": [
       "3"
      ]
     },
     "execution_count": 248,
     "metadata": {},
     "output_type": "execute_result"
    }
   ],
   "source": [
    "len(set(anas_mu_res['icgc_donor_id']))"
   ]
  },
  {
   "cell_type": "code",
   "execution_count": 258,
   "metadata": {
    "collapsed": true
   },
   "outputs": [],
   "source": [
    "def target_paths3(node):\n",
    "    \n",
    "    drug_to_gene_nodes = B.neighbors(node)\n",
    "    neighbors = {}\n",
    "    for dg_node in drug_to_gene_nodes:\n",
    "        neighbors[dg_node] = {}\n",
    "        \n",
    "        if G.has_node(dg_node):\n",
    "            \n",
    "            path = nx.single_source_shortest_path(G, dg_node, 3)\n",
    "            nbr_path = (path)\n",
    "            neighbors.update(nbr_path)\n",
    "            \n",
    "    return(neighbors)"
   ]
  },
  {
   "cell_type": "code",
   "execution_count": 137,
   "metadata": {},
   "outputs": [
    {
     "data": {
      "text/plain": [
       "'Name: \\nType: Graph\\nNumber of nodes: 347\\nNumber of edges: 4132\\nAverage degree:  23.8156'"
      ]
     },
     "execution_count": 137,
     "metadata": {},
     "output_type": "execute_result"
    }
   ],
   "source": [
    "anastrozole = target_paths2(\"Anastrozole\")\n",
    "anas_res = nx.from_dict_of_lists(anastrozole,create_using=None)\n",
    "\n",
    "Anas_stable = G.subgraph(anas_res.nodes())\n",
    "\n",
    "# add edges between drug and drug target \n",
    "Anas_stable.add_edges_from([(\"Anastrozole\", x) for x in B.neighbors(\"Anastrozole\")], edge_type = 'drug_targ')\n",
    "\n",
    "# mutated genes in the subnetwork\n",
    "common_g1 = set(Anas_stable.nodes()).intersection(anas_mu_stbl[\"Gene name\"])\n",
    "common_pi_anas_mu1 = anas_mu_stbl[anas_mu_stbl[\"Gene name\"].isin(common_g1)]\n",
    "\n",
    "# add edges between patients and mutated genes \n",
    "mu_pi1 = common_pi_anas_mu1[\"icgc_donor_id\"].tolist()\n",
    "mutated_g1 = common_pi_anas_mu1[\"Gene name\"].tolist()\n",
    "Anas_stable.add_edges_from(zip(mu_pi1, mutated_g1), edge_type = 'anas_stab')\n",
    "\n",
    "\n",
    "nx.write_graphml(Anas_stable, 'Anas_pi_stable.graphml')\n",
    "\n",
    "nx.info(Anas_stable)"
   ]
  },
  {
   "cell_type": "code",
   "execution_count": 138,
   "metadata": {
    "scrolled": true
   },
   "outputs": [
    {
     "data": {
      "text/plain": [
       "24"
      ]
     },
     "execution_count": 138,
     "metadata": {},
     "output_type": "execute_result"
    }
   ],
   "source": [
    "len(mutated_g1)"
   ]
  },
  {
   "cell_type": "code",
   "execution_count": 264,
   "metadata": {
    "collapsed": true
   },
   "outputs": [],
   "source": [
    "anas_mu_g = pd.DataFrame()\n",
    "for genes in anas_mu_res['Gene name']:\n",
    "    anas_mu_g[genes] = pd.Series('anas_res')\n",
    "\n",
    "anas_mu_g =anas_mu_g.T\n",
    "\n",
    "anas_mu_g.to_csv(\"anas_res.noa\", sep='\\t')"
   ]
  },
  {
   "cell_type": "code",
   "execution_count": null,
   "metadata": {
    "collapsed": true
   },
   "outputs": [],
   "source": []
  }
 ],
 "metadata": {
  "kernelspec": {
   "display_name": "Python 3",
   "language": "python",
   "name": "python3"
  },
  "language_info": {
   "codemirror_mode": {
    "name": "ipython",
    "version": 3
   },
   "file_extension": ".py",
   "mimetype": "text/x-python",
   "name": "python",
   "nbconvert_exporter": "python",
   "pygments_lexer": "ipython3",
   "version": "3.6.1"
  }
 },
 "nbformat": 4,
 "nbformat_minor": 2
}
