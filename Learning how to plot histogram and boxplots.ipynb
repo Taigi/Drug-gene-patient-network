{
 "cells": [
  {
   "cell_type": "code",
   "execution_count": null,
   "metadata": {
    "collapsed": true
   },
   "outputs": [],
   "source": [
    "##We can use Series.value_counts() to return the frequency distribution as Series object \n",
    "#sorted by frequency in descending order\n",
    "\n",
    "##freq_counts = df['Fandango_Ratingvalue'].value_counts()\n",
    "\n",
    "##use Series.sort_index() to sort the frequency distribution in ascending order by the values in the column"
   ]
  },
  {
   "cell_type": "code",
   "execution_count": null,
   "metadata": {
    "collapsed": true
   },
   "outputs": [],
   "source": [
    "##Use the idea of binning"
   ]
  },
  {
   "cell_type": "code",
   "execution_count": null,
   "metadata": {
    "collapsed": true
   },
   "outputs": [],
   "source": [
    "## Axes.hist()\n",
    "\n",
    "#calculate the minimum and maximum value from the sequence of values we passed in\n",
    "#create 10 bins of equal length that span the range from the minimum to the maximum value\n",
    "#group unique values into the bins\n",
    "#sum up the associated unique values\n",
    "#generate a bar for the frequency sum for each bin\n"
   ]
  },
  {
   "cell_type": "code",
   "execution_count": null,
   "metadata": {
    "collapsed": true
   },
   "outputs": [],
   "source": [
    "#Histograms help us visualize continuous values using bins while bar plots help us visualize discrete values."
   ]
  },
  {
   "cell_type": "code",
   "execution_count": null,
   "metadata": {
    "collapsed": true
   },
   "outputs": [],
   "source": [
    "##use the range parameter to specify the range we want matplotlib to use as a tuple\n",
    "\n",
    "#ax.hist(norm_reviews['Fandango_Ratingvalue'], range=(0, 5))"
   ]
  },
  {
   "cell_type": "code",
   "execution_count": null,
   "metadata": {
    "collapsed": true
   },
   "outputs": [],
   "source": [
    "##To ensure that the scales for the y-axis are the same for all histograms, using Axes.set_ylim()"
   ]
  },
  {
   "cell_type": "code",
   "execution_count": null,
   "metadata": {
    "collapsed": true
   },
   "outputs": [],
   "source": [
    "#visualize quartiles, we need to use a box plot"
   ]
  }
 ],
 "metadata": {
  "kernelspec": {
   "display_name": "Python 3",
   "language": "python",
   "name": "python3"
  },
  "language_info": {
   "codemirror_mode": {
    "name": "ipython",
    "version": 3
   },
   "file_extension": ".py",
   "mimetype": "text/x-python",
   "name": "python",
   "nbconvert_exporter": "python",
   "pygments_lexer": "ipython3",
   "version": "3.6.1"
  }
 },
 "nbformat": 4,
 "nbformat_minor": 2
}
