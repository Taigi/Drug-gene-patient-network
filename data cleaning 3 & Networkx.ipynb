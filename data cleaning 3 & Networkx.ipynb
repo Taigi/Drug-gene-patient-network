{
 "cells": [
  {
   "cell_type": "code",
   "execution_count": 1,
   "metadata": {
    "collapsed": true
   },
   "outputs": [],
   "source": [
    "import pandas as pd"
   ]
  },
  {
   "cell_type": "code",
   "execution_count": 2,
   "metadata": {
    "collapsed": true
   },
   "outputs": [],
   "source": [
    "db_data = pd.read_csv(\"uniprotlinks.csv\")"
   ]
  },
  {
   "cell_type": "code",
   "execution_count": 3,
   "metadata": {
    "collapsed": true
   },
   "outputs": [],
   "source": [
    "unip_data = pd.read_csv(\"uniprot-all2.csv\")"
   ]
  },
  {
   "cell_type": "code",
   "execution_count": 4,
   "metadata": {
    "collapsed": true
   },
   "outputs": [],
   "source": [
    "df = db_data.rename(columns={'Name': 'Drug Name', 'UniProt Name': 'Protein Name'})"
   ]
  },
  {
   "cell_type": "code",
   "execution_count": 5,
   "metadata": {
    "collapsed": true
   },
   "outputs": [],
   "source": [
    "df_2 = unip_data.rename(columns={'Entry': 'UniProt ID', 'Protein names': 'Protein Name', 'Gene names': 'Gene Symbol'})"
   ]
  },
  {
   "cell_type": "code",
   "execution_count": 6,
   "metadata": {},
   "outputs": [
    {
     "data": {
      "text/plain": [
       "(16168, 5)"
      ]
     },
     "execution_count": 6,
     "metadata": {},
     "output_type": "execute_result"
    }
   ],
   "source": [
    "df.shape"
   ]
  },
  {
   "cell_type": "code",
   "execution_count": 7,
   "metadata": {},
   "outputs": [
    {
     "data": {
      "text/plain": [
       "(159552, 4)"
      ]
     },
     "execution_count": 7,
     "metadata": {},
     "output_type": "execute_result"
    }
   ],
   "source": [
    "df_2.shape"
   ]
  },
  {
   "cell_type": "code",
   "execution_count": 8,
   "metadata": {
    "collapsed": true
   },
   "outputs": [],
   "source": [
    "##Chaning the type of column \"Gene Symbol\" to list. \n",
    "\n",
    "Gene_sym = df_2[\"Gene Symbol\"].tolist()"
   ]
  },
  {
   "cell_type": "code",
   "execution_count": 9,
   "metadata": {
    "collapsed": true
   },
   "outputs": [],
   "source": [
    "what_i_want = []"
   ]
  },
  {
   "cell_type": "code",
   "execution_count": 10,
   "metadata": {
    "collapsed": true
   },
   "outputs": [],
   "source": [
    "##Splitting data into list of lists using space delimiter. \n",
    "\n",
    "for id_ in Gene_sym:\n",
    "    temp = str(id_).split(' ')\n",
    "    what_i_want.append(temp)\n",
    "    "
   ]
  },
  {
   "cell_type": "code",
   "execution_count": 11,
   "metadata": {
    "collapsed": true
   },
   "outputs": [],
   "source": [
    "#Trimming off Gene Symbol Aliases \n",
    "\n",
    "what_i_actually_want = [id_pair[0] for id_pair in what_i_want]  ##list comprehensions "
   ]
  },
  {
   "cell_type": "code",
   "execution_count": 12,
   "metadata": {},
   "outputs": [
    {
     "name": "stdout",
     "output_type": "stream",
     "text": [
      "<class 'list'>\n"
     ]
    }
   ],
   "source": [
    "print(type(what_i_actually_want))"
   ]
  },
  {
   "cell_type": "code",
   "execution_count": 13,
   "metadata": {
    "collapsed": true
   },
   "outputs": [],
   "source": [
    "s = pd.Series(what_i_actually_want)  ##turning the list of values into a series."
   ]
  },
  {
   "cell_type": "code",
   "execution_count": 14,
   "metadata": {
    "collapsed": true
   },
   "outputs": [],
   "source": [
    "df_2['Gene Symbol'] = s.values   ##adding that series to the dataframe. "
   ]
  },
  {
   "cell_type": "code",
   "execution_count": 15,
   "metadata": {},
   "outputs": [
    {
     "name": "stdout",
     "output_type": "stream",
     "text": [
      "  UniProt ID Gene Symbol  Length  \\\n",
      "0     Q13542    EIF4EBP2     120   \n",
      "1     Q5TYW2   ANKRD20A1     823   \n",
      "2     A0PJZ0  ANKRD20A5P     165   \n",
      "3     A7E2S9   ANKRD30BL     258   \n",
      "4     P29275     ADORA2B     332   \n",
      "\n",
      "                                        Protein Name  \n",
      "0  Eukaryotic translation initiation factor 4E-bi...  \n",
      "1      Ankyrin repeat domain-containing protein 20A1  \n",
      "2  Putative ankyrin repeat domain-containing prot...  \n",
      "3  Putative ankyrin repeat domain-containing prot...  \n",
      "4                             Adenosine receptor A2b  \n"
     ]
    }
   ],
   "source": [
    "print(df_2.head())"
   ]
  },
  {
   "cell_type": "code",
   "execution_count": 16,
   "metadata": {
    "collapsed": true
   },
   "outputs": [],
   "source": [
    "##Using merge to merge two dataframes and map the UniProt Id to Gene Symbol. \n",
    "\n",
    "combined_df = db_data.merge(df_2, how=\"left\")"
   ]
  },
  {
   "cell_type": "code",
   "execution_count": 17,
   "metadata": {
    "collapsed": true
   },
   "outputs": [],
   "source": [
    "##rename 'Name' column in combined_df to 'Drug Name' and 'Type' column to 'Drug Type'.\n",
    "\n",
    "combined_df2 = combined_df.rename(columns={'Name': 'Drug Name', 'Type': 'Drug Type', 'UniProt Name': 'Protein Names'})"
   ]
  },
  {
   "cell_type": "code",
   "execution_count": 18,
   "metadata": {
    "collapsed": true
   },
   "outputs": [],
   "source": [
    "##deleting 'Protein Name' column because it's the same as 'Protein Names' column. \n",
    "\n",
    "del combined_df2[\"Protein Name\"]"
   ]
  },
  {
   "cell_type": "code",
   "execution_count": 19,
   "metadata": {},
   "outputs": [
    {
     "data": {
      "text/plain": [
       "\"combined_df2.to_csv('drug_gene.csv')\""
      ]
     },
     "execution_count": 19,
     "metadata": {},
     "output_type": "execute_result"
    }
   ],
   "source": [
    "#exporting the dataframe to csv file. \n",
    "\n",
    "\"\"\"combined_df2.to_csv('drug_gene.csv')\"\"\""
   ]
  },
  {
   "cell_type": "code",
   "execution_count": 20,
   "metadata": {
    "collapsed": true
   },
   "outputs": [],
   "source": [
    "#selecting only the columns you want and combining them into a new column as a tuple in combined_df2.\n",
    "\n",
    "combined_df2['drug_gene'] = list(zip(combined_df2['Drug Name'], combined_df2['Gene Symbol']))"
   ]
  },
  {
   "cell_type": "code",
   "execution_count": 21,
   "metadata": {
    "collapsed": true
   },
   "outputs": [],
   "source": [
    "drug_gene_col = combined_df2[\"drug_gene\"]"
   ]
  },
  {
   "cell_type": "code",
   "execution_count": 22,
   "metadata": {},
   "outputs": [
    {
     "name": "stdout",
     "output_type": "stream",
     "text": [
      "0        (Lepirudin, F2)\n",
      "1      (Cetuximab, EGFR)\n",
      "2    (Cetuximab, FCGR3B)\n",
      "3       (Cetuximab, C1R)\n",
      "4      (Cetuximab, C1QA)\n",
      "Name: drug_gene, dtype: object\n"
     ]
    }
   ],
   "source": [
    "print(drug_gene_col.head())"
   ]
  },
  {
   "cell_type": "code",
   "execution_count": 23,
   "metadata": {
    "collapsed": true
   },
   "outputs": [],
   "source": [
    "import networkx as nx"
   ]
  },
  {
   "cell_type": "code",
   "execution_count": 24,
   "metadata": {
    "collapsed": true
   },
   "outputs": [],
   "source": [
    "import matplotlib.pyplot as plt"
   ]
  },
  {
   "cell_type": "code",
   "execution_count": 25,
   "metadata": {
    "collapsed": true
   },
   "outputs": [],
   "source": [
    "import numpy as np"
   ]
  },
  {
   "cell_type": "code",
   "execution_count": 26,
   "metadata": {
    "collapsed": true
   },
   "outputs": [],
   "source": [
    "from networkx.algorithms import bipartite "
   ]
  },
  {
   "cell_type": "code",
   "execution_count": 27,
   "metadata": {
    "collapsed": true
   },
   "outputs": [],
   "source": [
    "##G=nx.read_edgelist(drug_gene_col, delimiter=',', nodetype=str)  ##'tuple' object has no attribute 'decode' error"
   ]
  },
  {
   "cell_type": "code",
   "execution_count": 28,
   "metadata": {
    "collapsed": true
   },
   "outputs": [],
   "source": [
    "##Use this script to avoid error message by networkx. \n",
    "\n",
    "##nx.draw_networkx(G)      "
   ]
  },
  {
   "cell_type": "code",
   "execution_count": 29,
   "metadata": {},
   "outputs": [
    {
     "data": {
      "text/plain": [
       "('Pyridoxal Phosphate', 'AGXT2')"
      ]
     },
     "execution_count": 29,
     "metadata": {},
     "output_type": "execute_result"
    }
   ],
   "source": [
    "drug_gene_col[455]"
   ]
  },
  {
   "cell_type": "code",
   "execution_count": 30,
   "metadata": {
    "collapsed": true
   },
   "outputs": [],
   "source": [
    "##Turning the tuple list column named 'drug_gene' into a dictionary quick and easy way! \n",
    "##Turns out I don't need to do this. \n",
    "\n",
    "#dict_ = dict(combined_df2['drug_gene'])"
   ]
  },
  {
   "cell_type": "code",
   "execution_count": 31,
   "metadata": {
    "collapsed": true
   },
   "outputs": [],
   "source": [
    "gene_sym = combined_df2[\"Gene Symbol\"]"
   ]
  },
  {
   "cell_type": "code",
   "execution_count": 32,
   "metadata": {
    "collapsed": true
   },
   "outputs": [],
   "source": [
    "gene_sym_isnull = pd.isnull(gene_sym)"
   ]
  },
  {
   "cell_type": "code",
   "execution_count": 33,
   "metadata": {
    "collapsed": true
   },
   "outputs": [],
   "source": [
    "gene_sym_nulltrue = gene_sym[gene_sym_isnull]"
   ]
  },
  {
   "cell_type": "code",
   "execution_count": 34,
   "metadata": {},
   "outputs": [
    {
     "name": "stdout",
     "output_type": "stream",
     "text": [
      "4140\n"
     ]
    }
   ],
   "source": [
    "print(len(gene_sym_nulltrue))"
   ]
  },
  {
   "cell_type": "code",
   "execution_count": 35,
   "metadata": {
    "collapsed": true
   },
   "outputs": [],
   "source": [
    "gene_sym_nullfalse = gene_sym[gene_sym_isnull == False]"
   ]
  },
  {
   "cell_type": "code",
   "execution_count": 36,
   "metadata": {},
   "outputs": [
    {
     "data": {
      "text/plain": [
       "(12028,)"
      ]
     },
     "execution_count": 36,
     "metadata": {},
     "output_type": "execute_result"
    }
   ],
   "source": [
    "gene_sym_nullfalse.shape"
   ]
  },
  {
   "cell_type": "code",
   "execution_count": 37,
   "metadata": {
    "collapsed": true
   },
   "outputs": [],
   "source": [
    "##Dropping rows with empty columns in Gene Symbol. \n",
    "\n",
    "combined_df2.dropna(subset=['Gene Symbol'], inplace=True)"
   ]
  },
  {
   "cell_type": "code",
   "execution_count": 38,
   "metadata": {},
   "outputs": [
    {
     "data": {
      "text/plain": [
       "(12028, 8)"
      ]
     },
     "execution_count": 38,
     "metadata": {},
     "output_type": "execute_result"
    }
   ],
   "source": [
    "combined_df2.shape"
   ]
  },
  {
   "cell_type": "code",
   "execution_count": 39,
   "metadata": {
    "collapsed": true
   },
   "outputs": [],
   "source": [
    "G = nx.Graph()"
   ]
  },
  {
   "cell_type": "code",
   "execution_count": 40,
   "metadata": {
    "collapsed": true
   },
   "outputs": [],
   "source": [
    "##Turning the tuples column 'drug_gene' to lists. \n",
    "\n",
    "edges = combined_df2[\"drug_gene\"].tolist()"
   ]
  },
  {
   "cell_type": "code",
   "execution_count": 41,
   "metadata": {
    "collapsed": true
   },
   "outputs": [],
   "source": [
    "G.add_edges_from(edges)"
   ]
  },
  {
   "cell_type": "code",
   "execution_count": 42,
   "metadata": {},
   "outputs": [
    {
     "data": {
      "text/plain": [
       "[('Lepirudin', 'F2'),\n",
       " ('F2', 'Bivalirudin'),\n",
       " ('F2', 'Drotrecogin alfa'),\n",
       " ('F2', 'Coagulation Factor IX (Recombinant)'),\n",
       " ('F2', 'Menadione'),\n",
       " ('F2', 'Argatroban'),\n",
       " ('F2', 'Proflavine'),\n",
       " ('F2', 'Beta-(2-Naphthyl)-Alanine'),\n",
       " ('F2', 'Hemi-Babim'),\n",
       " ('F2', '2-(2-Hydroxy-Phenyl)-1h-Benzoimidazole-5-Carboxamidine'),\n",
       " ('F2',\n",
       "  '4-Oxo-2-Phenylmethanesulfonyl-Octahydro-Pyrrolo[1,2-a]Pyrazine-6-Carboxylic Acid [1-(N-Hydroxycarbamimidoyl)-Piperidin-4-Ylmethyl]-Amide'),\n",
       " ('F2', '4-Iodobenzo[B]Thiophene-2-Carboxamidine'),\n",
       " ('F2', 'CRA_8696'),\n",
       " ('F2', 'Gamma-Carboxy-Glutamic Acid'),\n",
       " ('F2', '6-Chloro-2-(2-Hydroxy-Biphenyl-3-Yl)-1h-Indole-5-Carboxamidine'),\n",
       " ('F2', 'Lysophosphotidylserine'),\n",
       " ('F2',\n",
       "  'N-{2,2-DIFLUORO-2-[(2R)-PIPERIDIN-2-YL]ETHYL}-2-[2-(1H-1,2,4-TRIAZOL-1-YL)BENZYL][1,3]OXAZOLO[4,5-C]PYRIDIN-4-AMINE'),\n",
       " ('F2',\n",
       "  'TRANS-4-(GUANIDINOMETHYL)-CYCLOHEXANE-L-YL-D-3-CYCLOHEXYLALANYL-L-AZETIDINE-2-YL-D-TYROSINYL-L-HOMOARGININAMIDE'),\n",
       " ('F2',\n",
       "  '2-(3-CHLORO-6-{[2,2-DIFLUORO-2-(1-OXIDOPYRIDIN-2-YL)ETHYL]AMINO}-1-OXIDOPYRIDIN-2-YL)-N-[1-(3-CHLOROPHENYL)ETHYL]ACETAMIDE'),\n",
       " ('F2', '1-GUANIDINO-4-(N-NITRO-BENZOYLAMINO-L-LEUCYL-L-PROLYLAMINO)BUTANE'),\n",
       " ('F2',\n",
       "  '1-GUANIDINO-4-(N-PHENYLMETHANESULFONYL-L-LEUCYL-L-PROLYLAMINO)BUTANE'),\n",
       " ('F2', 'Suramin'),\n",
       " ('F2', 'Ximelagatran'),\n",
       " ('F2', 'Thrombomodulin Alfa'),\n",
       " ('F2', 'C1 Esterase Inhibitor (Human)'),\n",
       " ('F2', 'Dabigatran etexilate'),\n",
       " ('F2', 'methyl L-phenylalaninate'),\n",
       " ('F2',\n",
       "  'D-phenylalanyl-N-[(1S)-4-{[amino(iminio)methyl]amino}-1-(chloroacetyl)butyl]-L-prolinamide'),\n",
       " ('F2',\n",
       "  '(S)-N-(4-carbamimidoylbenzyl)-1-(2-(cyclopentylamino)ethanoyl)pyrrolidine-2-carboxamide'),\n",
       " ('F2',\n",
       "  '(S)-N-(4-carbamimidoylbenzyl)-1-(2-(cyclohexylamino)ethanoyl)pyrrolidine-2-carboxamide'),\n",
       " ('F2', 'N-cycloheptylglycyl-N-(4-carbamimidoylbenzyl)-L-prolinamide'),\n",
       " ('F2', '2-(2-HYDROXY-BIPHENYL)-1H-BENZOIMIDAZOLE-5-CARBOXAMIDINE'),\n",
       " ('F2', 'N-cyclooctylglycyl-N-(4-carbamimidoylbenzyl)-L-prolinamide'),\n",
       " ('F2', 'N-ALLYL-5-AMIDINOAMINOOXY-PROPYLOXY-3-CHLORO-N-CYCLOPENTYLBENZAMIDE'),\n",
       " ('F2', '6-(2-HYDROXY-CYCLOPENTYL)-7-OXO-HEPTANAMIDINE'),\n",
       " ('F2',\n",
       "  '6-CARBAMIMIDOYL-2-[2-HYDROXY-6-(4-HYDROXY-PHENYL)-INDAN-1-YL]-HEXANOIC ACID'),\n",
       " ('F2',\n",
       "  '6-CARBAMIMIDOYL-2-[2-HYDROXY-5-(3-METHOXY-PHENYL)-INDAN-1-YL]-HEXANOIC ACID'),\n",
       " ('F2', 'N-(3-chlorobenzyl)-1-(4-methylpentanoyl)-L-prolinamide'),\n",
       " ('F2',\n",
       "  '1-[2-AMINO-2-CYCLOHEXYL-ACETYL]-PYRROLIDINE-3-CARBOXYLIC ACID 5-CHLORO-2-(2-ETHYLCARBAMOYL-ETHOXY)-BENZYLAMIDE'),\n",
       " ('F2', '1-[(2R)-2-aminobutanoyl]-N-(3-chlorobenzyl)-L-prolinamide'),\n",
       " ('F2', 'D-leucyl-N-(3-chlorobenzyl)-L-prolinamide'),\n",
       " ('F2', 'D-phenylalanyl-N-(3-chlorobenzyl)-L-prolinamide'),\n",
       " ('F2', '1-butanoyl-N-(4-carbamimidoylbenzyl)-L-prolinamide'),\n",
       " ('F2', 'N-(4-carbamimidoylbenzyl)-1-(4-methylpentanoyl)-L-prolinamide'),\n",
       " ('F2', 'N-(4-carbamimidoylbenzyl)-1-(3-phenylpropanoyl)-L-prolinamide'),\n",
       " ('F2', '1-[(2R)-2-aminobutanoyl]-N-(4-carbamimidoylbenzyl)-L-prolinamide'),\n",
       " ('F2', 'D-leucyl-N-(4-carbamimidoylbenzyl)-L-prolinamide'),\n",
       " ('F2', 'D-phenylalanyl-N-{4-[amino(iminio)methyl]benzyl}-L-prolinamide'),\n",
       " ('F2', '(3R)-8-(dioxidosulfanyl)-3-methyl-1,2,3,4-tetrahydroquinoline'),\n",
       " ('F2', 'D-phenylalanyl-N-(3-fluorobenzyl)-L-prolinamide'),\n",
       " ('F2', 'beta-phenyl-D-phenylalanyl-N-propyl-L-prolinamide'),\n",
       " ('F2',\n",
       "  '(S)-N-(4-carbamimidoylbenzyl)-1-(2-(cyclopentyloxy)ethanoyl)pyrrolidine-2-carboxamide'),\n",
       " ('F2',\n",
       "  '(S)-N-(4-carbamimidoylbenzyl)-1-(2-(cyclohexyloxy)ethanoyl)pyrrolidine-2-carboxamide'),\n",
       " ('F2',\n",
       "  '(S)-N-(4-carbamimidoylbenzyl)-1-(3-cyclopentylpropanoyl)pyrrolidine-2-carboxamide'),\n",
       " ('F2',\n",
       "  '2-[2-(4-CHLORO-PHENYLSULFANYL)-ACETYLAMINO]-3-(4-GUANIDINO-PHENYL)-PROPIONAMIDE'),\n",
       " ('F2', 'N4-(N,N-DIPHENYLCARBAMOYL)-AMINOGUANIDINE'),\n",
       " ('F2',\n",
       "  'N7-BUTYL-N2-(5-CHLORO-2-METHYLPHENYL)-5-METHYL[1,2,4]TRIAZOLO[1,5-A]PYRIMIDINE-2,7-DIAMINE'),\n",
       " ('F2',\n",
       "  '(S)-N-(4-carbamimidoylbenzyl)-1-(3-cyclohexylpropanoyl)pyrrolidine-2-carboxamide'),\n",
       " ('F2', 'D-phenylalanyl-N-(3-methylbenzyl)-L-prolinamide'),\n",
       " ('F2', 'D-phenylalanyl-N-benzyl-L-prolinamide'),\n",
       " ('F2',\n",
       "  'N-(5-CHLORO-BENZO[B]THIOPHEN-3-YLMETHYL)-2-[6-CHLORO-OXO-3-(2-PYRIDIN-2-YL-ETHYLAMINO)-2H-PYRAZIN-1-YL]-ACETAMIDE'),\n",
       " ('F2', '3-cyclohexyl-D-alanyl-N-(3-chlorobenzyl)-L-prolinamide'),\n",
       " ('F2',\n",
       "  '(2R)-2-(5-CHLORO-2-THIENYL)-N-{(3S)-1-[(1S)-1-METHYL-2-MORPHOLIN-4-YL-2-OXOETHYL]-2-OXOPYRROLIDIN-3-YL}PROPENE-1-SULFONAMIDE'),\n",
       " ('F2',\n",
       "  '2-(5-CHLORO-2-THIENYL)-N-{(3S)-1-[(1S)-1-METHYL-2-MORPHOLIN-4-YL-2-OXOETHYL]-2-OXOPYRROLIDIN-3-YL}ETHANESULFONAMIDE'),\n",
       " ('F2',\n",
       "  '2-(5-CHLORO-2-THIENYL)-N-{(3S)-1-[(1S)-1-METHYL-2-MORPHOLIN-4-YL-2-OXOETHYL]-2-OXOPYRROLIDIN-3-YL}ETHENESULFONAMIDE'),\n",
       " ('F2',\n",
       "  'N-ETHYL-N-ISOPROPYL-3-METHYL-5-{[(2S)-2-(PYRIDIN-4-YLAMINO)PROPYL]OXY}BENZAMIDE'),\n",
       " ('F2', '4-(2,5-DIAMINO-5-HYDROXY-PENTYL)-PHENOL'),\n",
       " ('F2',\n",
       "  \"2-[N'-(4-AMINO-BUTYL)-HYDRAZINOCARBONYL]-PYRROLIDINE-1-CARBOXYLIC ACID BENZYL ESTER\"),\n",
       " ('F2', '5-(DIMETHYLAMINO)-1-NAPHTHALENESULFONIC ACID(DANSYL ACID)'),\n",
       " ('F2', '1-ETHOXYCARBONYL-D-PHE-PRO-2(4-AMINOBUTYL)HYDRAZINE'),\n",
       " ('F2', '4-TERT-BUTYLBENZENESULFONIC ACID'),\n",
       " ('F2', '3-AMINO-3-BENZYL-9-CARBOXAMIDE[4.3.0]BICYCLO-1,6-DIAZANONAN-2-ONE'),\n",
       " ('F2',\n",
       "  '4-(5-BENZENESULFONYLAMINO-1-METHYL-1H-BENZOIMIDAZOL-2-YLMETHYL)-BENZAMIDINE'),\n",
       " ('F2',\n",
       "  '1-(2-{[(6-AMINO-2-METHYLPYRIDIN-3-YL)METHYL]AMINO}ETHYL)-6-CHLORO-3-[(2,2-DIFLUORO-2-PYRIDIN-2-YLETHYL)AMINO]-1,4-DIHYDROPYRAZIN-2-OL'),\n",
       " ('F2',\n",
       "  '6-CHLORO-1-(2-{[(5-CHLORO-1-BENZOTHIEN-3-YL)METHYL]AMINO}ETHYL)-3-[(2-PYRIDIN-2-YLETHYL)AMINO]-1,4-DIHYDROPYRAZIN-2-OL'),\n",
       " ('F2',\n",
       "  'N-[(2R,3S)-3-AMINO-2-HYDROXY-4-PHENYLBUTYL]NAPHTHALENE-2-SULFONAMIDE'),\n",
       " ('F2',\n",
       "  'N-[(2R,3S)-3-AMINO-2-HYDROXY-4-PHENYLBUTYL]-4-METHOXY-2,3,6-TRIMETHYLBENZENESULFONAMIDE'),\n",
       " ('F2',\n",
       "  '2-(6-CHLORO-3-{[2,2-DIFLUORO-2-(2-PYRIDINYL)ETHYL]AMINO}-2-OXO-1(2H)-PYRAZINYL)-N-[(2-FLUORO-6-PYRIDINYL)METHYL]ACETAMIDE'),\n",
       " ('F2',\n",
       "  '2-(6-CHLORO-3-{[2,2-DIFLUORO-2-(2-PYRIDINYL)ETHYL]AMINO}-2-OXO-1(2H)-PYRAZINYL)-N-[(2-FLUORO-3-METHYL-6-PYRIDINYL)METHYL]ACETAMIDE'),\n",
       " ('F2',\n",
       "  '2-(6-CHLORO-3-{[2,2-DIFLUORO-2-(1-OXIDO-2-PYRIDINYL)ETHYL]AMINO}-2-OXO-1(2H)-PYRAZINYL)-N-[(2-FLUOROPHENYL)METHYL]ACETAMIDE'),\n",
       " ('F2', '3-(7-DIAMINOMETHYL-NAPHTHALEN-2-YL)-PROPIONIC ACID ETHYL ESTER'),\n",
       " ('F2', 'AC-(D)PHE-PRO-BOROLYS-OH'),\n",
       " ('F2', 'AC-(D)PHE-PRO-BOROHOMOLYS-OH'),\n",
       " ('F2', 'AC-(D)PHE-PRO-BOROHOMOORNITHINE-OH'),\n",
       " ('F2',\n",
       "  'N-[2-(carbamimidamidooxy)ethyl]-2-{6-cyano-3-[(2,2-difluoro-2-pyridin-2-ylethyl)amino]-2-fluorophenyl}acetamide'),\n",
       " ('F2', '3-(4-HYDROXY-PHENYL)PYRUVIC ACID'),\n",
       " ('F2',\n",
       "  '4-(1R,3AS,4R,8AS,8BR)-[1-DIFLUOROMETHYL-2-(4-FLUOROBENZYL)-3-OXODECAHYDROPYRROLO[3,4-A]PYRROLIZIN-4-YL]BENZAMIDINE'),\n",
       " ('F2',\n",
       "  '(3ASR,4RS,8ASR,8BRS)-4-(2-(4-FLUOROBENZYL)-1,3-DIOXODEACAHYDROPYRROLO[3,4-A] PYRROLIZIN-4-YL)BENZAMIDINE'),\n",
       " ('F2',\n",
       "  '4-({[4-(3-METHYLBENZOYL)PYRIDIN-2-YL]AMINO}METHYL)BENZENECARBOXIMIDAMIDE'),\n",
       " ('F2', '1-(HYDROXYMETHYLENEAMINO)-8-HYDROXY-OCTANE'),\n",
       " ('F2',\n",
       "  '[[CYCLOHEXANESULFONYL-GLYCYL]-3[PYRIDIN-4-YL-AMINOMETHYL]ALANYL]PIPERIDINE'),\n",
       " ('F2',\n",
       "  'N-{3-METHYL-5-[2-(PYRIDIN-4-YLAMINO)-ETHOXY]-PHENYL}-BENZENESULFONAMIDE'),\n",
       " ('F2',\n",
       "  'N-[2-({[amino(imino)methyl]amino}oxy)ethyl]-2-{6-chloro-3-[(2,2-difluoro-2-phenylethyl)amino]-2-fluorophenyl}acetamide'),\n",
       " ('F2', '4-[3-(4-CHLOROPHENYL)-1H-PYRAZOL-5-YL]PIPERIDINE'),\n",
       " ('F2', '3-(4-CHLOROPHENYL)-5-(METHYLTHIO)-4H-1,2,4-TRIAZOLE'),\n",
       " ('F2',\n",
       "  '{(2S)-1-[N-(tert-butoxycarbonyl)glycyl]pyrrolidin-2-yl}methyl (3-chlorophenyl)acetate'),\n",
       " ('F2', 'METHYL-PHE-PRO-AMINO-CYCLOHEXYLGLYCINE'),\n",
       " ('F2', '2-NAPHTHALENESULFONIC ACID'),\n",
       " ('F2', '[PHENYLALANINYL-PROLINYL]-[2-(PYRIDIN-4-YLAMINO)-ETHYL]-AMINE'),\n",
       " ('F2',\n",
       "  '4-[(3AS,4R,7R,8AS,8BR)-2-(1,3-BENZODIOXOL-5-YLMETHYL)-7-HYDROXY-1,3-DIOXODECAHYDROPYRROLO[3,4-A]PYRROLIZIN-4-YL]BENZENECARBOXIMIDAMIDE'),\n",
       " ('F2', 'BENZOTHIAZOLE'),\n",
       " ('F2', 'C1 Esterase Inhibitor (Recombinant)'),\n",
       " ('Cetuximab', 'EGFR'),\n",
       " ('Cetuximab', 'FCGR3B'),\n",
       " ('Cetuximab', 'C1R'),\n",
       " ('Cetuximab', 'C1QA'),\n",
       " ('Cetuximab', 'C1QB'),\n",
       " ('Cetuximab', 'C1QC'),\n",
       " ('Cetuximab', 'FCGR3A'),\n",
       " ('Cetuximab', 'C1S'),\n",
       " ('Cetuximab', 'FCGR1A'),\n",
       " ('Cetuximab', 'FCGR2A'),\n",
       " ('Cetuximab', 'FCGR2B'),\n",
       " ('Cetuximab', 'FCGR2C'),\n",
       " ('EGFR', 'Trastuzumab'),\n",
       " ('EGFR', 'Lidocaine'),\n",
       " ('EGFR', 'Gefitinib'),\n",
       " ('EGFR', 'Erlotinib'),\n",
       " ('EGFR', 'Lapatinib'),\n",
       " ('EGFR', 'Panitumumab'),\n",
       " ('EGFR', 'Flavopiridol'),\n",
       " ('EGFR', 'IGN311'),\n",
       " ('EGFR', 'Matuzumab'),\n",
       " ('EGFR', 'Vandetanib'),\n",
       " ('EGFR', 'HuMax-EGFr'),\n",
       " ('EGFR', 'Rindopepimut'),\n",
       " ('EGFR', 'CI-1033'),\n",
       " ('EGFR', 'IMC-11F8'),\n",
       " ('EGFR', 'INSM-18'),\n",
       " ('EGFR', 'S-{3-[(4-ANILINOQUINAZOLIN-6-YL)AMINO]-3-OXOPROPYL}-L-CYSTEINE'),\n",
       " ('EGFR', 'N-[4-(3-BROMO-PHENYLAMINO)-QUINAZOLIN-6-YL]-ACRYLAMIDE'),\n",
       " ('EGFR', 'Afatinib'),\n",
       " ('EGFR', 'Osimertinib'),\n",
       " ('EGFR', 'Necitumumab'),\n",
       " ('EGFR', 'Icotinib'),\n",
       " ('EGFR', 'Olmutinib'),\n",
       " ('FCGR3B', 'Etanercept'),\n",
       " ('FCGR3B', 'Immune Globulin Human'),\n",
       " ('FCGR3B', 'Adalimumab'),\n",
       " ('FCGR3B', 'Abciximab'),\n",
       " ('FCGR3B', 'Gemtuzumab ozogamicin'),\n",
       " ('FCGR3B', 'Trastuzumab'),\n",
       " ('FCGR3B', 'Rituximab'),\n",
       " ('FCGR3B', 'Basiliximab'),\n",
       " ('FCGR3B', 'Muromonab'),\n",
       " ('FCGR3B', 'Ibritumomab tiuxetan'),\n",
       " ('FCGR3B', 'Tositumomab'),\n",
       " ('FCGR3B', 'Alemtuzumab'),\n",
       " ('FCGR3B', 'Alefacept'),\n",
       " ('FCGR3B', 'Efalizumab'),\n",
       " ('FCGR3B', 'Natalizumab'),\n",
       " ('FCGR3B', 'Palivizumab'),\n",
       " ('FCGR3B', 'Daclizumab'),\n",
       " ('FCGR3B', 'Bevacizumab'),\n",
       " ('C1R', 'Etanercept'),\n",
       " ('C1R', 'Adalimumab'),\n",
       " ('C1R', 'Abciximab'),\n",
       " ('C1R', 'Gemtuzumab ozogamicin'),\n",
       " ('C1R', 'Trastuzumab'),\n",
       " ('C1R', 'Rituximab'),\n",
       " ('C1R', 'Basiliximab'),\n",
       " ('C1R', 'Muromonab'),\n",
       " ('C1R', 'Ibritumomab tiuxetan'),\n",
       " ('C1R', 'Tositumomab'),\n",
       " ('C1R', 'Alemtuzumab'),\n",
       " ('C1R', 'Alefacept'),\n",
       " ('C1R', 'Efalizumab'),\n",
       " ('C1R', 'Natalizumab'),\n",
       " ('C1R', 'Palivizumab'),\n",
       " ('C1R', 'Daclizumab'),\n",
       " ('C1R', 'Bevacizumab'),\n",
       " ('C1R', 'C1 Esterase Inhibitor (Human)'),\n",
       " ('C1R', 'C1 Esterase Inhibitor (Recombinant)'),\n",
       " ('C1QA', 'Etanercept'),\n",
       " ('C1QA', 'Adalimumab'),\n",
       " ('C1QA', 'Abciximab'),\n",
       " ('C1QA', 'Gemtuzumab ozogamicin'),\n",
       " ('C1QA', 'Trastuzumab'),\n",
       " ('C1QA', 'Rituximab'),\n",
       " ('C1QA', 'Basiliximab'),\n",
       " ('C1QA', 'Muromonab'),\n",
       " ('C1QA', 'Ibritumomab tiuxetan'),\n",
       " ('C1QA', 'Tositumomab'),\n",
       " ('C1QA', 'Alemtuzumab'),\n",
       " ('C1QA', 'Alefacept'),\n",
       " ('C1QA', 'Efalizumab'),\n",
       " ('C1QA', 'Natalizumab'),\n",
       " ('C1QA', 'Palivizumab'),\n",
       " ('C1QA', 'Daclizumab'),\n",
       " ('C1QA', 'Bevacizumab'),\n",
       " ('C1QB', 'Etanercept'),\n",
       " ('C1QB', 'Adalimumab'),\n",
       " ('C1QB', 'Abciximab'),\n",
       " ('C1QB', 'Gemtuzumab ozogamicin'),\n",
       " ('C1QB', 'Trastuzumab'),\n",
       " ('C1QB', 'Rituximab'),\n",
       " ('C1QB', 'Basiliximab'),\n",
       " ('C1QB', 'Muromonab'),\n",
       " ('C1QB', 'Ibritumomab tiuxetan'),\n",
       " ('C1QB', 'Tositumomab'),\n",
       " ('C1QB', 'Alemtuzumab'),\n",
       " ('C1QB', 'Alefacept'),\n",
       " ('C1QB', 'Efalizumab'),\n",
       " ('C1QB', 'Natalizumab'),\n",
       " ('C1QB', 'Palivizumab'),\n",
       " ('C1QB', 'Daclizumab'),\n",
       " ('C1QB', 'Bevacizumab'),\n",
       " ('C1QC', 'Etanercept'),\n",
       " ('C1QC', 'Adalimumab'),\n",
       " ('C1QC', 'Abciximab'),\n",
       " ('C1QC', 'Gemtuzumab ozogamicin'),\n",
       " ('C1QC', 'Trastuzumab'),\n",
       " ('C1QC', 'Rituximab'),\n",
       " ('C1QC', 'Basiliximab'),\n",
       " ('C1QC', 'Muromonab'),\n",
       " ('C1QC', 'Ibritumomab tiuxetan'),\n",
       " ('C1QC', 'Tositumomab'),\n",
       " ('C1QC', 'Alemtuzumab'),\n",
       " ('C1QC', 'Alefacept'),\n",
       " ('C1QC', 'Efalizumab'),\n",
       " ('C1QC', 'Natalizumab'),\n",
       " ('C1QC', 'Palivizumab'),\n",
       " ('C1QC', 'Daclizumab'),\n",
       " ('C1QC', 'Bevacizumab'),\n",
       " ('FCGR3A', 'Etanercept'),\n",
       " ('FCGR3A', 'Immune Globulin Human'),\n",
       " ('FCGR3A', 'Adalimumab'),\n",
       " ('FCGR3A', 'Abciximab'),\n",
       " ('FCGR3A', 'Gemtuzumab ozogamicin'),\n",
       " ('FCGR3A', 'Trastuzumab'),\n",
       " ('FCGR3A', 'Rituximab'),\n",
       " ('FCGR3A', 'Basiliximab'),\n",
       " ('FCGR3A', 'Muromonab'),\n",
       " ('FCGR3A', 'Ibritumomab tiuxetan'),\n",
       " ('FCGR3A', 'Tositumomab'),\n",
       " ('FCGR3A', 'Alemtuzumab'),\n",
       " ('FCGR3A', 'Alefacept'),\n",
       " ('FCGR3A', 'Efalizumab'),\n",
       " ('FCGR3A', 'Natalizumab'),\n",
       " ('FCGR3A', 'Palivizumab'),\n",
       " ('FCGR3A', 'Daclizumab'),\n",
       " ('FCGR3A', 'Bevacizumab'),\n",
       " ('C1S', 'Etanercept'),\n",
       " ('C1S', 'Adalimumab'),\n",
       " ('C1S', 'Abciximab'),\n",
       " ('C1S', 'Gemtuzumab ozogamicin'),\n",
       " ('C1S', 'Trastuzumab'),\n",
       " ('C1S', 'Rituximab'),\n",
       " ('C1S', 'Basiliximab'),\n",
       " ('C1S', 'Muromonab'),\n",
       " ('C1S', 'Ibritumomab tiuxetan'),\n",
       " ('C1S', '2-(2-Hydroxy-1,1-Dihydroxymethyl-Ethylamino)-Ethanesulfonic Acid'),\n",
       " ('C1S', 'C1 Esterase Inhibitor (Human)'),\n",
       " ('C1S', 'C1 Esterase Inhibitor (Recombinant)'),\n",
       " ('FCGR1A', 'Etanercept'),\n",
       " ('FCGR1A', 'Immune Globulin Human'),\n",
       " ('FCGR1A', 'Adalimumab'),\n",
       " ('FCGR1A', 'Abciximab'),\n",
       " ('FCGR1A', 'Gemtuzumab ozogamicin'),\n",
       " ('FCGR1A', 'Trastuzumab'),\n",
       " ('FCGR1A', 'Rituximab'),\n",
       " ('FCGR1A', 'Basiliximab'),\n",
       " ('FCGR1A', 'Muromonab'),\n",
       " ('FCGR1A', 'Ibritumomab tiuxetan'),\n",
       " ('FCGR1A', 'Tositumomab'),\n",
       " ('FCGR1A', 'Alemtuzumab'),\n",
       " ('FCGR1A', 'Alefacept'),\n",
       " ('FCGR1A', 'Efalizumab'),\n",
       " ('FCGR1A', 'Natalizumab'),\n",
       " ('FCGR1A', 'Palivizumab'),\n",
       " ('FCGR1A', 'Daclizumab'),\n",
       " ('FCGR1A', 'Bevacizumab'),\n",
       " ('FCGR1A', 'Porfimer'),\n",
       " ('FCGR1A', 'Methyl aminolevulinate'),\n",
       " ('FCGR2A', 'Etanercept'),\n",
       " ('FCGR2A', 'Immune Globulin Human'),\n",
       " ('FCGR2A', 'Adalimumab'),\n",
       " ('FCGR2A', 'Abciximab'),\n",
       " ('FCGR2A', 'Gemtuzumab ozogamicin'),\n",
       " ('FCGR2A', 'Trastuzumab'),\n",
       " ('FCGR2A', 'Rituximab'),\n",
       " ('FCGR2A', 'Basiliximab'),\n",
       " ('FCGR2A', 'Muromonab'),\n",
       " ('FCGR2A', 'Ibritumomab tiuxetan'),\n",
       " ('FCGR2A', 'Tositumomab'),\n",
       " ('FCGR2A', 'Alemtuzumab'),\n",
       " ('FCGR2A', 'Alefacept'),\n",
       " ('FCGR2A', 'Efalizumab'),\n",
       " ('FCGR2A', 'Natalizumab'),\n",
       " ('FCGR2A', 'Palivizumab'),\n",
       " ('FCGR2A', 'Daclizumab'),\n",
       " ('FCGR2A', 'Bevacizumab'),\n",
       " ('FCGR2B', 'Etanercept'),\n",
       " ('FCGR2B', 'Immune Globulin Human'),\n",
       " ('FCGR2B', 'Adalimumab'),\n",
       " ('FCGR2B', 'Abciximab'),\n",
       " ('FCGR2B', 'Gemtuzumab ozogamicin'),\n",
       " ('FCGR2B', 'Trastuzumab'),\n",
       " ('FCGR2B', 'Rituximab'),\n",
       " ('FCGR2B', 'Basiliximab'),\n",
       " ('FCGR2B', 'Muromonab'),\n",
       " ('FCGR2B', 'Ibritumomab tiuxetan'),\n",
       " ('FCGR2B', 'Tositumomab'),\n",
       " ('FCGR2B', 'Alemtuzumab'),\n",
       " ('FCGR2B', 'Alefacept'),\n",
       " ('FCGR2B', 'Efalizumab'),\n",
       " ('FCGR2B', 'Anti-thymocyte Globulin (Rabbit)'),\n",
       " ('FCGR2B', 'Natalizumab'),\n",
       " ('FCGR2B', 'Palivizumab'),\n",
       " ('FCGR2B', 'Daclizumab'),\n",
       " ('FCGR2B', 'Bevacizumab'),\n",
       " ('FCGR2C', 'Etanercept'),\n",
       " ('FCGR2C', 'Immune Globulin Human'),\n",
       " ('FCGR2C', 'Adalimumab'),\n",
       " ('FCGR2C', 'Abciximab'),\n",
       " ('FCGR2C', 'Gemtuzumab ozogamicin'),\n",
       " ('FCGR2C', 'Trastuzumab'),\n",
       " ('FCGR2C', 'Rituximab'),\n",
       " ('FCGR2C', 'Basiliximab'),\n",
       " ('FCGR2C', 'Muromonab'),\n",
       " ('FCGR2C', 'Ibritumomab tiuxetan'),\n",
       " ('FCGR2C', 'Tositumomab'),\n",
       " ('FCGR2C', 'Alemtuzumab'),\n",
       " ('FCGR2C', 'Alefacept'),\n",
       " ('FCGR2C', 'Efalizumab'),\n",
       " ('FCGR2C', 'Natalizumab'),\n",
       " ('FCGR2C', 'Palivizumab'),\n",
       " ('FCGR2C', 'Daclizumab'),\n",
       " ('FCGR2C', 'Bevacizumab'),\n",
       " ('Denileukin diftitox', 'IL2RA'),\n",
       " ('Denileukin diftitox', 'IL2RB'),\n",
       " ('Denileukin diftitox', 'IL2RG'),\n",
       " ('IL2RA', 'Aldesleukin'),\n",
       " ('IL2RA', 'Basiliximab'),\n",
       " ('IL2RA', 'Daclizumab'),\n",
       " ('IL2RB', 'Aldesleukin'),\n",
       " ('IL2RB', 'Basiliximab'),\n",
       " ('IL2RB', 'Daclizumab'),\n",
       " ('IL2RG', 'Aldesleukin'),\n",
       " ('Etanercept', 'TNF'),\n",
       " ('Etanercept', 'TNFRSF1B'),\n",
       " ('Etanercept', 'LTA'),\n",
       " ('TNF', 'Adalimumab'),\n",
       " ('TNF', 'Infliximab'),\n",
       " ('TNF', 'Chloroquine'),\n",
       " ('TNF', 'Epinephrine'),\n",
       " ('TNF', 'Pseudoephedrine'),\n",
       " ('TNF', 'Thalidomide'),\n",
       " ('TNF', 'Glucosamine'),\n",
       " ('TNF', 'Clenbuterol'),\n",
       " ('TNF', 'Pranlukast'),\n",
       " ('TNF', 'Amrinone'),\n",
       " ('TNF', 'Isopropyl Alcohol'),\n",
       " ('TNF', 'Afelimomab'),\n",
       " ('TNF', 'YSIL6'),\n",
       " ('TNF', 'AV411'),\n",
       " ('TNF', 'SD118'),\n",
       " ('TNF', 'PN0621'),\n",
       " ('TNF', '681323'),\n",
       " ('TNF', 'OMS-103HP'),\n",
       " ('TNF', 'SCIO-469'),\n",
       " ('TNF', 'VX-702'),\n",
       " ('TNF', 'Apremilast'),\n",
       " ('TNF', 'CRx-139'),\n",
       " ('TNF', 'CYT007-TNFQb'),\n",
       " ('TNF', 'HMPL-004'),\n",
       " ('TNF', 'CTI-01'),\n",
       " ('TNF', 'AME-527'),\n",
       " ('TNF', 'Golimumab'),\n",
       " ('TNF', 'Certolizumab pegol'),\n",
       " ('TNF', 'Pomalidomide'),\n",
       " ('Leuprolide', 'GNRHR'),\n",
       " ('GNRHR', 'Goserelin'),\n",
       " ('GNRHR', 'Cetrorelix'),\n",
       " ('GNRHR', 'Abarelix'),\n",
       " ('GNRHR', 'Gonadorelin'),\n",
       " ('GNRHR', 'Nafarelin'),\n",
       " ('GNRHR', 'Danazol'),\n",
       " ('GNRHR', 'NBI-56418'),\n",
       " ('GNRHR', 'Degarelix'),\n",
       " ('GNRHR', 'Buserelin'),\n",
       " ('GNRHR', 'Ganirelix'),\n",
       " ('GNRHR', 'Histrelin'),\n",
       " ('GNRHR', 'Triptorelin'),\n",
       " ('Peginterferon alfa-2a', 'IFNAR2'),\n",
       " ('Peginterferon alfa-2a', 'IFNAR1'),\n",
       " ('IFNAR2', 'Interferon alfa-n1'),\n",
       " ('IFNAR2', 'Interferon alfa-n3'),\n",
       " ('IFNAR2', 'Peginterferon alfa-2b'),\n",
       " ('IFNAR2', 'Interferon Alfa-2a, Recombinant'),\n",
       " ('IFNAR2', 'Interferon beta-1a'),\n",
       " ('IFNAR2', 'Interferon beta-1b'),\n",
       " ('IFNAR2', 'Interferon alfacon-1'),\n",
       " ('IFNAR2', 'Interferon Alfa-2b, Recombinant'),\n",
       " ('IFNAR2', 'omega interferon'),\n",
       " ('IFNAR1', 'Interferon alfa-n1'),\n",
       " ('IFNAR1', 'Interferon alfa-n3'),\n",
       " ('IFNAR1', 'Peginterferon alfa-2b'),\n",
       " ('IFNAR1', 'Interferon Alfa-2a, Recombinant'),\n",
       " ('IFNAR1', 'Interferon beta-1a'),\n",
       " ('IFNAR1', 'Interferon beta-1b'),\n",
       " ('IFNAR1', 'Interferon alfacon-1'),\n",
       " ('IFNAR1', 'Interferon Alfa-2b, Recombinant'),\n",
       " ('IFNAR1', 'Natural alpha interferon'),\n",
       " ('IFNAR1', 'omega interferon'),\n",
       " ('Alteplase', 'PLG'),\n",
       " ('Alteplase', 'FGA'),\n",
       " ('Alteplase', 'PLAUR'),\n",
       " ('Alteplase', 'SERPINE1'),\n",
       " ('PLG', 'Urokinase'),\n",
       " ('PLG', 'Reteplase'),\n",
       " ('PLG', 'Anistreplase'),\n",
       " ('PLG', 'Tenecteplase'),\n",
       " ('PLG', 'Streptokinase'),\n",
       " ('PLG', 'Tranexamic Acid'),\n",
       " ('PLG', 'Aminocaproic Acid'),\n",
       " ('PLG', 'Bicine'),\n",
       " ('PLG', 'Desmoteplase'),\n",
       " ('PLG', 'Aprotinin'),\n",
       " ('FGA', 'Reteplase'),\n",
       " ('FGA', 'Anistreplase'),\n",
       " ('FGA', 'Tenecteplase'),\n",
       " ('FGA', 'Sucralfate'),\n",
       " ('FGA', 'Alfimeprase'),\n",
       " ('FGA', 'Ancrod'),\n",
       " ('FGA', 'EP-2104R'),\n",
       " ('PLAUR', 'Urokinase'),\n",
       " ('PLAUR', 'Reteplase'),\n",
       " ('PLAUR', 'Anistreplase'),\n",
       " ('PLAUR', 'Tenecteplase'),\n",
       " ('PLAUR', 'WX-UK1'),\n",
       " ('SERPINE1', 'Urokinase'),\n",
       " ('SERPINE1', 'Reteplase'),\n",
       " ('SERPINE1', 'Anistreplase'),\n",
       " ('SERPINE1', 'Tenecteplase'),\n",
       " ('SERPINE1', 'Drotrecogin alfa'),\n",
       " ('SERPINE1', 'Troglitazone'),\n",
       " ('SERPINE1', 'Plasmin'),\n",
       " ('Sermorelin', 'GHRHR'),\n",
       " ('GHRHR', 'Tesamorelin'),\n",
       " ('Darbepoetin alfa', 'EPOR'),\n",
       " ('EPOR', 'Erythropoietin'),\n",
       " ('EPOR', '3,5 DIBROMOTYROSINE'),\n",
       " ('EPOR', 'Peginesatide'),\n",
       " ('EPOR', 'Epoetin Zeta'),\n",
       " ('EPOR', 'Methoxy polyethylene glycol-epoetin beta'),\n",
       " ('Urokinase', 'PLAU'),\n",
       " ('Urokinase', 'PLAT'),\n",
       " ('Urokinase', 'SERPINB2'),\n",
       " ('Urokinase', 'SERPINA5'),\n",
       " ('Urokinase', 'LRP2'),\n",
       " ('Urokinase', 'ST14'),\n",
       " ('Urokinase', 'NID1'),\n",
       " ('PLAU', 'Amiloride'),\n",
       " ('PLAU', '2-(2-Hydroxy-5-Methoxy-Phenyl)-1h-Benzoimidazole-5-Carboxamidine'),\n",
       " ('PLAU', '6-(N-Phenylcarbamyl)-2-Naphthalenecarboxamidine'),\n",
       " ('PLAU', '2-(2-Hydroxy-Phenyl)-1h-Benzoimidazole-5-Carboxamidine'),\n",
       " ('PLAU', '6-[N-(4-(Aminomethyl)Phenyl)Carbamyl]-2-Naphthalenecarboxamidine'),\n",
       " ('PLAU',\n",
       "  '6-[N-(1-Isopropyl-3,4-Dihydro-7-Isoquinolinyl)Carbamyl]-2-Naphthalenecarboxamidine'),\n",
       " ('PLAU', 'CRA_10655'),\n",
       " ('PLAU',\n",
       "  '6-[N-(4-Ethyl-1,2,3,4-Tetrahydro-6-Isoquinolinyl)Carbamyl]-2-Naphthalenecarboxamidine'),\n",
       " ('PLAU',\n",
       "  '6-[N-(1-Isopropyl-1,2,3,4-Tetrahydro-7-Isoquinolinyl)Carbamyl]-2-Naphthalenecarboxamidine'),\n",
       " ('PLAU',\n",
       "  '7-Methoxy-8-[1-(Methylsulfonyl)-1h-Pyrazol-4-Yl]Naphthalene-2-Carboximidamide'),\n",
       " ('PLAU',\n",
       "  '6-[(Z)-Amino(Imino)Methyl]-N-[4-(Aminomethyl)Phenyl]-4-(Pyrimidin-2-Ylamino)-2-Naphthamide'),\n",
       " ('PLAU', 'Benzamidine'),\n",
       " ('PLAU', '4-Iodobenzo[B]Thiophene-2-Carboxamidine'),\n",
       " ('PLAU', 'CRA_8696'),\n",
       " ('PLAU', 'Trans-6-(2-Phenylcyclopropyl)-Naphthalene-2-Carboxamidine'),\n",
       " ('PLAU', '2-Amino-5-Hydroxy-Benzimidazole'),\n",
       " ('PLAU', \"N-(1-Adamantyl)-N'-(4-Guanidinobenzyl)Urea\"),\n",
       " ('PLAU', '6-Chloro-2-(2-Hydroxy-Biphenyl-3-Yl)-1h-Indole-5-Carboxamidine'),\n",
       " ('PLAU', 'Thieno[2,3-B]Pyridine-2-Carboxamidine'),\n",
       " ('PLAU', '8-(Pyrimidin-2-Ylamino)Naphthalene-2-Carboximidamide'),\n",
       " ('PLAU',\n",
       "  \"[2,4,6-Triisopropyl-Phenylsulfonyl-L-[3-Amidino-Phenylalanine]]-Piperazine-N'-Beta-Alanine\"),\n",
       " ('PLAU', 'Plasmin'),\n",
       " ('PLAU', '2-(2-HYDROXY-BIPHENYL)-1H-BENZOIMIDAZOLE-5-CARBOXAMIDINE'),\n",
       " ('PLAU',\n",
       "  '6-FLUORO-2-(2-HYDROXY-3-ISOBUTOXY-PHENYL)-1H-BENZOIMIDAZOLE-5-CARBOXAMIDINE'),\n",
       " ('PLAU',\n",
       "  '6-FLUORO-2-[2-HYDROXY-3-(2-METHYL-CYCLOHEXYLOXY)-PHENYL]-1H-INDOLE-5-CARBOXAMIDINE'),\n",
       " ('PLAU',\n",
       "  'N-(4-CARBAMIMIDOYL-3-CHORO-PHENYL)-2-HYDROXY-3-IODO-5-METHYL-BENZAMIDE'),\n",
       " ('PLAU',\n",
       "  '6-[(Z)-AMINO(IMINO)METHYL]-N-[3-(CYCLOPENTYLOXY)PHENYL]-2-NAPHTHAMIDE'),\n",
       " ('PLAU', '1-[4-(2-oxo-2-phenylethyl)phenyl]guanidine'),\n",
       " ('PLAU', '(2R)-1-(2,6-dimethylphenoxy)propan-2-amine'),\n",
       " ('PLAU', '4-(2-aminoethoxy)-N-(2,5-diethoxyphenyl)-3,5-dimethylbenzamide'),\n",
       " ('PLAU',\n",
       "  '4-(2-aminoethoxy)-N-(3-chloro-2-ethoxy-5-piperidin-1-ylphenyl)-3,5-dimethylbenzamide'),\n",
       " ('PLAU',\n",
       "  '4-(2-AMINOETHOXY)-3,5-DICHLORO-N-[3-(1-METHYLETHOXY)PHENYL]BENZAMIDE'),\n",
       " ('PLAU',\n",
       "  '4-(2-aminoethoxy)-N-(3-chloro-5-piperidin-1-ylphenyl)-3,5-dimethylbenzamide'),\n",
       " ('PLAT', 'Aminocaproic Acid'),\n",
       " ('PLAT', 'Ibuprofen'),\n",
       " ('PLAT', 'Iloprost'),\n",
       " ('PLAT', 'C1 Esterase Inhibitor (Human)'),\n",
       " ('PLAT', '5-(DIMETHYLAMINO)-2-NAPHTHALENESULFONIC ACID'),\n",
       " ('PLAT', 'C1 Esterase Inhibitor (Recombinant)'),\n",
       " ('SERPINB2', 'Tenecteplase'),\n",
       " ('SERPINA5', 'Drotrecogin alfa'),\n",
       " ('SERPINA5', 'T-1249'),\n",
       " ('LRP2', 'Insulin Human'),\n",
       " ('LRP2', 'Insulin Pork'),\n",
       " ('LRP2', 'Gentamicin'),\n",
       " ('ST14', 'Benzamidine'),\n",
       " ('Goserelin', 'LHCGR'),\n",
       " ('LHCGR', 'Menotropins'),\n",
       " ('LHCGR', 'Lutropin alfa'),\n",
       " ('LHCGR', 'Cetrorelix'),\n",
       " ('LHCGR', 'Chorionic Gonadotropin (Recombinant)'),\n",
       " ('LHCGR', 'Buserelin'),\n",
       " ('LHCGR', 'Chorionic Gonadotropin (Human)'),\n",
       " ('Salmon Calcitonin', 'CALCR'),\n",
       " ('CALCR', 'Pramlintide'),\n",
       " ('Pegfilgrastim', 'CSF3R'),\n",
       " ('Pegfilgrastim', 'ELANE'),\n",
       " ('CSF3R', 'Filgrastim'),\n",
       " ('CSF3R', 'FavId'),\n",
       " ('CSF3R', 'Filgrastim-sndz'),\n",
       " ('CSF3R', 'Lenograstim'),\n",
       " ('ELANE', 'Alpha-1-proteinase inhibitor'),\n",
       " ('ELANE', 'Filgrastim'),\n",
       " ('ELANE', 'Mdl 101,146'),\n",
       " ('ELANE', 'ONO-6818'),\n",
       " ('ELANE', 'Elafin'),\n",
       " ('Sargramostim', 'CSF2RA'),\n",
       " ('Sargramostim', 'IL3RA'),\n",
       " ('Sargramostim', 'CSF2RB'),\n",
       " ('Sargramostim', 'SDC2'),\n",
       " ('Sargramostim', 'PRG2'),\n",
       " ('CSF2RA', 'KB002'),\n",
       " ('CSF2RA', 'recombinant human GM-CSF'),\n",
       " ('CSF2RB', 'NPI 32101'),\n",
       " ('Secretin', 'SCTR'),\n",
       " ('Thyrotropin Alfa', 'TSHR'),\n",
       " ('Antihemophilic Factor (Recombinant)', 'F10'),\n",
       " ('Antihemophilic Factor (Recombinant)', 'F9'),\n",
       " ('Antihemophilic Factor (Recombinant)', 'VWF'),\n",
       " ('Antihemophilic Factor (Recombinant)', 'PHYH'),\n",
       " ('Antihemophilic Factor (Recombinant)', 'ASGR2'),\n",
       " ('Antihemophilic Factor (Recombinant)', 'HSPA5'),\n",
       " ('Antihemophilic Factor (Recombinant)', 'CALR'),\n",
       " ('Antihemophilic Factor (Recombinant)', 'CANX'),\n",
       " ('Antihemophilic Factor (Recombinant)', 'LMAN1'),\n",
       " ('Antihemophilic Factor (Recombinant)', 'LRP1'),\n",
       " ('Antihemophilic Factor (Recombinant)', 'MCFD2'),\n",
       " ('F10', 'Coagulation factor VIIa Recombinant Human'),\n",
       " ('F10', 'Coagulation Factor IX (Recombinant)'),\n",
       " ('F10', 'Menadione'),\n",
       " ('F10', 'Fondaparinux sodium'),\n",
       " ('F10', 'Heparin'),\n",
       " ('F10', 'Enoxaparin'),\n",
       " ('F10', 'Gamma-Carboxy-Glutamic Acid'),\n",
       " ('F10',\n",
       "  '4-[(5-CHLOROINDOL-2-YL)SULFONYL]-2-(2-METHYLPROPYL)-1-[[5-(PYRIDIN-4-YL)PYRIMIDIN-2-YL]CARBONYL]PIPERAZINE'),\n",
       " ('F10', 'SSR-126517E'),\n",
       " ('F10', 'LY-517717'),\n",
       " ('F10', 'Rivaroxaban'),\n",
       " ('F10', 'Apixaban'),\n",
       " ('F10',\n",
       "  '(2R,4R)-N~1~-(4-CHLOROPHENYL)-N~2~-[2-FLUORO-4-(2-OXOPYRIDIN-1(2H)-YL)PHENYL]-4-METHOXYPYRROLIDINE-1,2-DICARBOXAMIDE'),\n",
       " ('F10',\n",
       "  '(2R)-2-(5-CHLORO-2-THIENYL)-N-{(3S)-1-[(1S)-1-METHYL-2-MORPHOLIN-4-YL-2-OXOETHYL]-2-OXOPYRROLIDIN-3-YL}PROPENE-1-SULFONAMIDE'),\n",
       " ('F10',\n",
       "  'THIENO[3,2-B]PYRIDINE-2-SULFONIC ACID [1-(1-AMINO-ISOQUINOLIN-7-YLMETHYL)-2-OXO-PYRROLDIN-3-YL]-AMIDE'),\n",
       " ('F10',\n",
       "  '2-(5-CHLORO-2-THIENYL)-N-{(3S)-1-[(1S)-1-METHYL-2-MORPHOLIN-4-YL-2-OXOETHYL]-2-OXOPYRROLIDIN-3-YL}ETHANESULFONAMIDE'),\n",
       " ('F10',\n",
       "  '2-(5-CHLORO-2-THIENYL)-N-{(3S)-1-[(1S)-1-METHYL-2-MORPHOLIN-4-YL-2-OXOETHYL]-2-OXOPYRROLIDIN-3-YL}ETHENESULFONAMIDE'),\n",
       " ('F10',\n",
       "  '2-({4-[(5-CHLORO-1H-INDOL-2-YL)SULFONYL]PIPERAZIN-1-YL}CARBONYL)THIENO[3,2-B]PYRIDINE 4-OXIDE'),\n",
       " ('F10',\n",
       "  'N-((1R,2S)-2-(5-CHLORO-1H-INDOLE-2-CARBOXAMIDO)CYCLOHEXYL)-5-METHYL-4,5,6,7-TETRAHYDROTHIAZOLO[5,4-C]PYRIDINE-2-CARBOXAMIDE'),\n",
       " ('F10',\n",
       "  'N-((1R,2R)-2-(5-CHLORO-1H-INDOLE-2-CARBOXAMIDO)CYCLOHEXYL)-5-METHYL-4,5,6,7-TETRAHYDROTHIAZOLO[5,4-C]PYRIDINE-2-CARBOXAMIDE'),\n",
       " ('F10',\n",
       "  'N-(2-(((5-CHLORO-2-PYRIDINYL)AMINO)SULFONYL)PHENYL)-4-(2-OXO-1(2H)-PYRIDINYL)BENZAMIDE'),\n",
       " ('F10',\n",
       "  '5-(5-CHLORO-2-THIENYL)-N-{(3S)-1-[(1S)-1-METHYL-2-MORPHOLIN-4-YL-2-OXOETHYL]-2-OXOPYRROLIDIN-3-YL}-1H-1,2,4-TRIAZOLE-3-SULFONAMIDE'),\n",
       " ('F10',\n",
       "  '5-CHLORO-N-{(3S)-1-[(1S)-1-METHYL-2-MORPHOLIN-4-YL-2-OXOETHYL]-2-OXOPYRROLIDIN-3-YL}-1-BENZOTHIOPHENE-2-SULFONAMIDE'),\n",
       " ('F10',\n",
       "  '6-CHLORO-N-{(3S)-1-[(1S)-1-METHYL-2-MORPHOLIN-4-YL-2-OXOETHYL]-2-OXOPYRROLIDIN-3-YL}-1-BENZOTHIOPHENE-2-SULFONAMIDE'),\n",
       " ('F10',\n",
       "  '6-CHLORO-N-{(3S)-1-[(1S)-1-METHYL-2-(4-MORPHOLINYL)-2-OXO ETHYL]-2-OXO-3-PYRROLIDINYL}-2-NAPHTHALENESULFONAMIDE'),\n",
       " ('F10',\n",
       "  '5-CHLORO-N-{(3S)-1-[(1S)-1-METHYL-2-MORPHOLIN-4-YL-2-5-CHLORO-N-{(3S)-1-[(1S)-1-METHYL-2-MORPHOLIN-4-YL-2-SULFONAMIDE'),\n",
       " ('F10',\n",
       "  '5-chloro-N-[(3R)-1-(2-{[2-fluoro-4-(2-oxopyridin-1(2H)-yl)phenyl]amino}-2-oxoethyl)pyrrolidin-3-yl]thiophene-2-carboxamide'),\n",
       " ('F10',\n",
       "  '5-Chloro-thiophene-2-carboxylic acid ((3S,4S)-1-{[2-fluoro-4-(2-oxo-2H-pyridin-1-yl)-phenylcarbamoyl]-methyl}-4-hydroxy-pyrrolidin-3-yl)-amide'),\n",
       " ('F10',\n",
       "  'N-(1-ISOPROPYLPIPERIDIN-4-YL)-1-(3-METHOXYBENZYL)-1H-INDOLE-2-CARBOXAMIDE'),\n",
       " ('F10',\n",
       "  '1-{2-[(4-CHLOROPHENYL)AMINO]-2-OXOETHYL}-N-(1-ISOPROPYLPIPERIDIN-4-YL)-1H-INDOLE-2-CARBOXAMIDE'),\n",
       " ('F10',\n",
       "  '5-CHLORO-THIOPHENE-2-CARBOXYLIC ACID ((3S,4S)-4-FLUORO- 1-{[2-FLUORO-4-(2-OXO-2H-PYRIDIN-1-YL)-PHENYLCARBAMOYL]-METHYL}-PYRROLIDIN-3-YL)-AMIDE'),\n",
       " ('F10',\n",
       "  '5-CHLORO-N-(2-(4-(2-OXOPYRIDIN-1(2H)-YL)BENZAMIDO)ETHYL)THIOPHENE-2-CARBOXAMIDE'),\n",
       " ('F10',\n",
       "  '5-CHLORO-N-((1R,2S)-2-(4-(2-OXOPYRIDIN-1(2H)-YL)BENZAMIDO) CYCLOPENTYL)THIOPHENE-2-CARBOXAMIDE'),\n",
       " ('F10',\n",
       "  'THIENO[3,2-B]PYRIDINE-2-SULFONIC ACID [2-OXO-1-(1H-PYRROLO[2,3-C]PYRIDIN-2-YLMETHYL)-PYRROLIDIN-3-YL]-AMIDE'),\n",
       " ('F10',\n",
       "  '5-chloro-N-({(5S)-2-oxo-3-[4-(3-oxomorpholin-4-yl)phenyl]-1,3-oxazolidin-5-yl}methyl)thiophene-2-carboxamide'),\n",
       " ('F10',\n",
       "  '3-({4-[(6-CHLORO-1-BENZOTHIEN-2-YL)SULFONYL]-2-OXOPIPERAZIN-1-YL}METHYL)BENZENECARBOXIMIDAMIDE'),\n",
       " ('F10',\n",
       "  '4-{[(E)-2-(5-CHLOROTHIEN-2-YL)VINYL]SULFONYL}-1-(1H-PYRROLO[3,2-C]PYRIDIN-2-YLMETHYL)PIPERAZIN-2-ONE'),\n",
       " ('F10',\n",
       "  '4-({4-[(6-CHLORO-1-BENZOTHIEN-2-YL)SULFONYL]-2-OXOPIPERAZIN-1-YL}METHYL)BENZENECARBOXIMIDAMIDE'),\n",
       " ('F10',\n",
       "  '4-[[(1E)-2-(4-CHLOROPHENYL)ETHENYL]SULFONYL]-1-[[1-(4-PYRIDINYL)-4-PIPERIDINYL]METHYL]PIPERAZINONE'),\n",
       " ('F10',\n",
       "  '1-[[(1E)-2-(4-CHLOROPHENYL)ETHENYL]SULFONYL]-4-[[1-(4-PYRIDINYL)-4-PIPERIDINYL]METHYL]PIPERAZINE'),\n",
       " ('F10', 'Edoxaban'),\n",
       " ('F10', 'Coagulation factor VII human'),\n",
       " ('F9', 'Menadione'),\n",
       " ('F9', 'TTP889'),\n",
       " ('F9', 'Coagulation factor VII human'),\n",
       " ('VWF', 'ARC1779'),\n",
       " ('PHYH', 'Vitamin C'),\n",
       " ('HSPA5', 'Acetylsalicylic acid'),\n",
       " ('CALR', 'Tenecteplase'),\n",
       " ('CALR', 'Melatonin'),\n",
       " ('CANX', 'Tenecteplase'),\n",
       " ('LRP1', 'Tenecteplase'),\n",
       " ('LRP1', 'Coagulation Factor IX (Recombinant)'),\n",
       " ('Anakinra', 'IL1R1'),\n",
       " ('IL1R1', 'SD118'),\n",
       " ('IL1R1', 'OMS-103HP'),\n",
       " ('Immune Globulin Human', 'FCGR1B'),\n",
       " ('Immune Globulin Human', 'C3'),\n",
       " ('Immune Globulin Human', 'C4A'),\n",
       " ('Immune Globulin Human', 'C4B'),\n",
       " ('Immune Globulin Human', 'C5'),\n",
       " ('C3', 'S-Hydroxycysteine'),\n",
       " ('C5', 'Eculizumab'),\n",
       " ('Insulin Human', 'INSR'),\n",
       " ('Insulin Human', 'IGF1R'),\n",
       " ('Insulin Human', 'RB1'),\n",
       " ('Insulin Human', 'CTSD'),\n",
       " ('Insulin Human', 'IDE'),\n",
       " ('Insulin Human', 'PCSK2'),\n",
       " ('Insulin Human', 'CPE'),\n",
       " ('Insulin Human', 'PCSK1'),\n",
       " ('Insulin Human', 'NOV'),\n",
       " ('Insulin Human', 'IGFBP7'),\n",
       " ('Insulin Human', 'SYTL4'),\n",
       " ('INSR', 'Insulin Lispro'),\n",
       " ('INSR', 'Insulin Glargine'),\n",
       " ('INSR', 'Insulin Pork'),\n",
       " ('INSR', 'Mecasermin'),\n",
       " ('INSR', 'Insulin Aspart'),\n",
       " ('INSR', 'Insulin Detemir'),\n",
       " ('INSR', 'Insulin Glulisine'),\n",
       " ('INSR', \"Adenosine-5'-[Beta, Gamma-Methylene]Triphosphate\"),\n",
       " ('INSR', 'NN344'),\n",
       " ('INSR', 'AT1391'),\n",
       " ('INSR',\n",
       "  '[4-({5-(AMINOCARBONYL)-4-[(3-METHYLPHENYL)AMINO]PYRIMIDIN-2-YL}AMINO)PHENYL]ACETIC ACID'),\n",
       " ('INSR', 'Chromic chloride'),\n",
       " ('INSR', 'Insulin Degludec'),\n",
       " ('IGF1R', 'Insulin Lispro'),\n",
       " ('IGF1R', 'Insulin Glargine'),\n",
       " ('IGF1R', 'Insulin Pork'),\n",
       " ('IGF1R', 'Mecasermin'),\n",
       " ('IGF1R', 'Phosphoaminophosphonic Acid-Adenylate Ester'),\n",
       " ('IGF1R', 'ATL1101'),\n",
       " ('IGF1R', 'XL228'),\n",
       " ('IGF1R', 'IMC-A12'),\n",
       " ('IGF1R', 'rhIGFBP-3'),\n",
       " ('IGF1R', 'INSM-18'),\n",
       " ('IGF1R',\n",
       "  '(4Z)-6-bromo-4-({[4-(pyrrolidin-1-ylmethyl)phenyl]amino}methylidene)isoquinoline-1,3(2H,4H)-dione'),\n",
       " ('IGF1R',\n",
       "  '3-[5-(1H-IMIDAZOL-1-YL)-7-METHYL-1H-BENZIMIDAZOL-2-YL]-4-[(PYRIDIN-2-YLMETHYL)AMINO]PYRIDIN-2(1H)-ONE'),\n",
       " ('RB1', 'Insulin Pork'),\n",
       " ('CTSD', 'Insulin Pork'),\n",
       " ('CTSD', 'S-Methylcysteine'),\n",
       " ('CTSD', '1h-Benoximidazole-2-Carboxylic Acid'),\n",
       " ('CTSD', 'N-Aminoethylmorpholine'),\n",
       " ('CTSD', '5-AMINO-6-CYCLOHEXYL-4-HYDROXY-2-ISOBUTYL-HEXANOIC ACID'),\n",
       " ('CTSD', 'CYCLOHEXYLMETHYL-2,3-DIHYDROXY-5-METHYL-HEXYLAMIDE'),\n",
       " ('IDE', 'Insulin Pork'),\n",
       " ('IDE', 'Bacitracin'),\n",
       " ('PCSK2', 'Insulin Pork'),\n",
       " ('CPE', 'Insulin Pork'),\n",
       " ('PCSK1', 'Insulin Pork'),\n",
       " ('NOV', 'Insulin Pork'),\n",
       " ('IGFBP7', 'Insulin Pork'),\n",
       " ('SYTL4', 'Insulin Pork'),\n",
       " ('Tenecteplase', 'CLEC3B'),\n",
       " ('Tenecteplase', 'KRT8'),\n",
       " ('Tenecteplase', 'ANXA2'),\n",
       " ('Menotropins', 'FSHR'),\n",
       " ('FSHR', 'Follitropin beta'),\n",
       " ('FSHR', 'Urofollitropin'),\n",
       " ('FSHR', 'Chorionic Gonadotropin (Recombinant)'),\n",
       " ('FSHR', 'Suramin'),\n",
       " ('Interferon gamma-1b', 'IFNGR1'),\n",
       " ('Interferon gamma-1b', 'IFNGR2'),\n",
       " ('Desmopressin', 'AVPR2'),\n",
       " ('Desmopressin', 'AVPR1A'),\n",
       " ('Desmopressin', 'AVPR1B'),\n",
       " ('AVPR2', 'Vasopressin'),\n",
       " ('AVPR2', 'Conivaptan'),\n",
       " ('AVPR2', 'Terlipressin'),\n",
       " ('AVPR2', 'M0002'),\n",
       " ('AVPR2', 'OPC-51803'),\n",
       " ('AVPR2', 'Tolvaptan'),\n",
       " ('AVPR1A', 'Vasopressin'),\n",
       " ('AVPR1A', 'Felypressin'),\n",
       " ('AVPR1A', 'Conivaptan'),\n",
       " ('AVPR1A', 'Terlipressin'),\n",
       " ('AVPR1A', 'PH-284'),\n",
       " ('AVPR1A', 'Tolvaptan'),\n",
       " ('AVPR1B', 'Vasopressin'),\n",
       " ('AVPR1B', 'Terlipressin'),\n",
       " ('AVPR1B', 'PH-284'),\n",
       " ('AVPR1B', 'SR 121463'),\n",
       " ('Coagulation factor VIIa Recombinant Human', 'HPN'),\n",
       " ('Coagulation factor VIIa Recombinant Human', 'TFPI'),\n",
       " ('Coagulation factor VIIa Recombinant Human', 'GGCX'),\n",
       " ('Coagulation factor VIIa Recombinant Human', 'F7'),\n",
       " ('Coagulation factor VIIa Recombinant Human', 'F3'),\n",
       " ('HPN', 'Bentiromide'),\n",
       " ('HPN', 'Benzylsulfinic Acid'),\n",
       " ('HPN', 'CRA_1144'),\n",
       " ('HPN', '6-Chloro-2-(2-Hydroxy-Biphenyl-3-Yl)-1h-Indole-5-Carboxamidine'),\n",
       " ('TFPI', 'Dalteparin'),\n",
       " ('GGCX', 'Drotrecogin alfa'),\n",
       " ('GGCX', 'Coagulation Factor IX (Recombinant)'),\n",
       " ('GGCX', 'L-Glutamic Acid'),\n",
       " ('GGCX', 'Menadione'),\n",
       " ('GGCX', 'Phylloquinone'),\n",
       " ('GGCX', 'Anisindione'),\n",
       " ('F7', 'Coagulation Factor IX (Recombinant)'),\n",
       " ('F7', 'Menadione'),\n",
       " ('F7',\n",
       "  '(2R)-({4-[AMINO(IMINO)METHYL]PHENYL}AMINO){5-ETHOXY-2-FLUORO-3-[(3R)-TETRAHYDROFURAN-3-YLOXY]PHENYL}ACETICACID'),\n",
       " ('F7',\n",
       "  '3-({1-[3-CARBAMIMIDOYL-1-(4-CARBAMIMIDOYL-BENZYLCARBAMOYL)-PROPYLCARBAMOYL]-2-METHYL-BUTYLSULFAMOYL}-METHYL)-BENZOIC ACID'),\n",
       " ('F7',\n",
       "  '2-[2-ETHANESULFONYLAMINO-3-(5-PROPOXY-1H-INDOL-3-YL)-PROPIONYLAMINO]-PENTANEDIOIC ACID 5-AMIDE 1-(4-CARBAMIMIDOYL-BENZYLAMIDE)'),\n",
       " ('F7',\n",
       "  '2-[2-ETHANESULFONYLAMINO-3-(1H-INDOL-3-YL)-PROPIONYLAMINO]-PENTANEDIOIC ACID 5-AMIDE 1-(4-CARBAMIM IDOYL-BENZYLAMIDE)'),\n",
       " ('F7',\n",
       "  'N-[1-(4-CARBAMIMIDOYL-BENZYLCARBAMOYL)-3-METHYLSULFANYL-PROPYL]-3-HYDROXY-2-PROPOXYAMINO-BUTYRAMID'),\n",
       " ('F7',\n",
       "  '2-(4-HYDROXY-5-PHENYL-1H-PYRAZOL-3-YL)-1H-BENZOIMIDAZOLE-5-CARBOXAMIDINE'),\n",
       " ('F7',\n",
       "  \"[2'-HYDROXY-3'-(1H-PYRROLO[3,2-C]PYRIDIN-2-YL)-BIPHENYL-3-YLMETHYL]-UREA\"),\n",
       " ('F7', '5-(DIMETHYLAMINO)-1-NAPHTHALENESULFONIC ACID(DANSYL ACID)'),\n",
       " ('F7',\n",
       "  \"{5-(5-AMINO-1H-PYRROLO[3,2-B]PYRIDIN-2-YL)-6-HYDROXY-3'-NITRO-BIPHENYL-3-YL]-ACETIC ACID\"),\n",
       " ('F3',\n",
       "  '2-(4-HYDROXY-5-PHENYL-1H-PYRAZOL-3-YL)-1H-BENZOIMIDAZOLE-5-CARBOXAMIDINE'),\n",
       " ('F3',\n",
       "  \"[2'-HYDROXY-3'-(1H-PYRROLO[3,2-C]PYRIDIN-2-YL)-BIPHENYL-3-YLMETHYL]-UREA\"),\n",
       " ('F3',\n",
       "  \"{5-(5-AMINO-1H-PYRROLO[3,2-B]PYRIDIN-2-YL)-6-HYDROXY-3'-NITRO-BIPHENYL-3-YL]-ACETIC ACID\"),\n",
       " ('F3', 'Coagulation factor VII human'),\n",
       " ('Oprelvekin', 'IL11RA'),\n",
       " ('Palifermin', 'FGFR2'),\n",
       " ('Palifermin', 'NRP1'),\n",
       " ('Palifermin', 'FGFR1'),\n",
       " ('Palifermin', 'FGFR4'),\n",
       " ('Palifermin', 'FGFR3'),\n",
       " ('Palifermin', 'HSPG2'),\n",
       " ('FGFR2', 'Thalidomide'),\n",
       " ('FGFR2', 'SU4984'),\n",
       " ('FGFR2',\n",
       "  '4-[4-(1-Amino-1-Methylethyl)Phenyl]-5-Chloro-N-[4-(2-Morpholin-4-Ylethyl)Phenyl]Pyrimidin-2-Amine'),\n",
       " ('FGFR2', 'Regorafenib'),\n",
       " ('FGFR2', 'Ponatinib'),\n",
       " ('FGFR2', 'Lenvatinib'),\n",
       " ('FGFR2', 'Nintedanib'),\n",
       " ('NRP1', 'Pegaptanib'),\n",
       " ('FGFR1', 'Sorafenib'),\n",
       " ('FGFR1', 'SU4984'),\n",
       " ('FGFR1', 'XL999'),\n",
       " ('FGFR1', '3-(3-methoxybenzyl)-1H-pyrrolo[2,3-b]pyridine'),\n",
       " ('FGFR1',\n",
       "  '(E)-[4-(3,5-difluorophenyl)-3H-pyrrolo[2,3-b]pyridin-3-ylidene](3-methoxyphenyl)methanol'),\n",
       " ('FGFR1',\n",
       "  '3-[(3-(2-CARBOXYETHYL)-4-METHYLPYRROL-2-YL)METHYLENE]-2-INDOLINONE'),\n",
       " ('FGFR1', 'Regorafenib'),\n",
       " ('FGFR1', 'Ponatinib'),\n",
       " ('FGFR1', 'Lenvatinib'),\n",
       " ('FGFR1', 'Nintedanib'),\n",
       " ('FGFR4', 'Ponatinib'),\n",
       " ('FGFR4', 'Lenvatinib'),\n",
       " ('FGFR3', 'XL999'),\n",
       " ('FGFR3', 'Pazopanib'),\n",
       " ('FGFR3', 'Ponatinib'),\n",
       " ('FGFR3', 'Lenvatinib'),\n",
       " ('FGFR3', 'Nintedanib'),\n",
       " ('Glucagon recombinant', 'GCGR'),\n",
       " ('Glucagon recombinant', 'GLP2R'),\n",
       " ('Glucagon recombinant', 'GLP1R'),\n",
       " ('GLP2R', 'Teduglutide'),\n",
       " ('GLP1R', 'Exenatide'),\n",
       " ('GLP1R', 'GSK716155'),\n",
       " ('GLP1R', 'Liraglutide'),\n",
       " ('GLP1R', 'Albiglutide'),\n",
       " ('GLP1R', 'Dulaglutide'),\n",
       " ('Botulinum Toxin Type B', 'VAMP2'),\n",
       " ('Botulinum Toxin Type B', 'VAMP1'),\n",
       " ('Botulinum Toxin Type B', 'SYT2'),\n",
       " ('Omalizumab', 'FCER1A'),\n",
       " ('Omalizumab', 'MS4A2'),\n",
       " ('FCER1A', 'Benzylpenicilloyl Polylysine'),\n",
       " ('FCER1A', 'TNX-901'),\n",
       " ('OspA lipoprotein', 'TLR2'),\n",
       " ('TLR2', 'S-(Dimethylarsenic)Cysteine'),\n",
       " ('TLR2', 'SCV-07'),\n",
       " ('Collagenase clostridium histolyticum', 'COL1A1'),\n",
       " ('Collagenase clostridium histolyticum', 'COL2A1'),\n",
       " ('Collagenase clostridium histolyticum', 'COL3A1'),\n",
       " ('Collagenase clostridium histolyticum', 'COL1A2'),\n",
       " ('COL1A1', 'Halofuginone'),\n",
       " ('Somatropin recombinant', 'GHR'),\n",
       " ('Somatropin recombinant', 'PRLR'),\n",
       " ('GHR', 'Pegvisomant'),\n",
       " ('PRLR', 'Fluoxymesterone'),\n",
       " ('Abciximab', 'ITGB3'),\n",
       " ('Abciximab', 'ITGA2B'),\n",
       " ('Abciximab', 'VTN'),\n",
       " ('ITGB3', 'Eptifibatide'),\n",
       " ('ITGB3', 'Anti-thymocyte Globulin (Rabbit)'),\n",
       " ('ITGB3', 'Tirofiban'),\n",
       " ('ITGB3', 'Lefradafiban'),\n",
       " ('ITGB3', 'LM-609'),\n",
       " ('ITGA2B', 'Tirofiban'),\n",
       " ('ITGA2B', 'Lefradafiban'),\n",
       " ('Drotrecogin alfa', 'F8'),\n",
       " ('Drotrecogin alfa', 'F5'),\n",
       " ('Drotrecogin alfa', 'THBD'),\n",
       " ('Drotrecogin alfa', 'PROS1'),\n",
       " ('Drotrecogin alfa', 'CP'),\n",
       " ('Drotrecogin alfa', 'PF4'),\n",
       " ('Drotrecogin alfa', 'SERPINB6'),\n",
       " ('Drotrecogin alfa', 'PROCR'),\n",
       " ('F8', 'Coagulation Factor IX (Recombinant)'),\n",
       " ('F5', 'Thrombomodulin Alfa'),\n",
       " ('THBD', 'Ibuprofen'),\n",
       " ('PROS1', 'Menadione'),\n",
       " ('PROS1', 'Sodium Tetradecyl Sulfate'),\n",
       " ('PROCR', 'Phosphatidylethanolamine'),\n",
       " ('Gemtuzumab ozogamicin', 'CD33'),\n",
       " ('Pegademase bovine', 'GRB2'),\n",
       " ('GRB2',\n",
       "  '4-[(10s,14s,18s)-18-(2-Amino-2-Oxoethyl)-14-(1-Naphthylmethyl)-8,17,20-Trioxo-7,16,19-Triazaspiro[5.14]Icos-11-En-10-Yl]Benzylphosphonic Acid'),\n",
       " ('Human Serum Albumin', 'APOE'),\n",
       " ('Human Serum Albumin', 'SAA1'),\n",
       " ('Human Serum Albumin', 'AMBP'),\n",
       " ('APOE', 'Serum albumin iodonated'),\n",
       " ('SAA1', 'Serum albumin iodonated'),\n",
       " ('AMBP', 'Serum albumin iodonated'),\n",
       " ('Hyaluronidase', 'TGFB1'),\n",
       " ('TGFB1', 'Hyaluronidase (Human Recombinant)'),\n",
       " ('Insulin Pork', 'HLA-DQA2'),\n",
       " ('Insulin Pork', 'HLA-DQB1'),\n",
       " ('Trastuzumab', 'ERBB2'),\n",
       " ('ERBB2', 'Lapatinib'),\n",
       " ('ERBB2', 'IGN311'),\n",
       " ('ERBB2', 'XL647'),\n",
       " ('ERBB2', 'Trastuzumab emtansine'),\n",
       " ('ERBB2', 'Pertuzumab'),\n",
       " ('ERBB2', 'Afatinib'),\n",
       " ('Rituximab', 'MS4A1'),\n",
       " ('MS4A1', 'Ibritumomab tiuxetan'),\n",
       " ('MS4A1', 'Tositumomab'),\n",
       " ('MS4A1', 'Ofatumumab'),\n",
       " ('MS4A1', 'Obinutuzumab'),\n",
       " ('Muromonab', 'CD3D'),\n",
       " ('Muromonab', 'CD3E'),\n",
       " ('Muromonab', 'CD3G'),\n",
       " ('Muromonab', 'CD247'),\n",
       " ('CD3D', 'Blinatumomab'),\n",
       " ('Botulinum Toxin Type A', 'SNAP25'),\n",
       " ('Botulinum Toxin Type A', 'RHOB'),\n",
       " ('Streptokinase', 'F2R'),\n",
       " ('F2R', 'SR-123781A'),\n",
       " ('F2R', 'SCH-530348'),\n",
       " ('F2R', 'Vorapaxar'),\n",
       " ('Alemtuzumab', 'CD52'),\n",
       " ('Capromab', 'FOLH1'),\n",
       " ('FOLH1', 'L-Glutamic Acid'),\n",
       " ('FOLH1',\n",
       "  '(2S)-2-{[HYDROXY(4-IODOBENZYL)PHOSPHORYL]METHYL}PENTANEDIOIC ACID'),\n",
       " ('FOLH1',\n",
       "  'N-({(1R)-1-carboxy-2-[(4-fluorobenzyl)sulfanyl]ethyl}carbamoyl)-L-glutamic acid'),\n",
       " ('Cyclosporine', 'CAMLG'),\n",
       " ('Cyclosporine', 'PPP3R2'),\n",
       " ('Cyclosporine', 'PPIA'),\n",
       " ('Cyclosporine', 'PPIF'),\n",
       " ('PPP3R2', 'ISA247'),\n",
       " ('PPIA', 'L-Proline'),\n",
       " ('PPIA', '(3r)-1-Acetyl-3-Methylpiperidine'),\n",
       " ('PPIA', 'Ethyl Oxo(Piperidin-1-Yl)Acetate'),\n",
       " ('PPIA',\n",
       "  '(3s,6s,9r,10r,11s,12s,13e,15e,18s,21s)-18-{(1e,3e,7s,8s)-9-[(2s,3r,4s,5s,6r,9s,11s)-9-Ethyl-4-Hydroxy-3,5,11-Trimethyl-8-Oxo-1-Oxa-7-Azaspiro[5.5]Undec-2-Yl]-8-Hydroxy-1,7-Dimethylnona-1,3-Dienyl}-10,12-Dihydroxy-3-(3-Hydroxybenzyl)-6-Isopropyl-11-Methyl-'),\n",
       " ('PPIF', 'L-Proline'),\n",
       " ('PPIF', '1-Methoxy-2-[2-(2-Methoxy-Ethoxy]-Ethane'),\n",
       " ('PPIF', '7-AMINO-4-METHYL-CHROMEN-2-ONE'),\n",
       " ('Alefacept', 'CD2'),\n",
       " ('Efalizumab', 'ITGAL'),\n",
       " ('ITGAL', 'Anti-thymocyte Globulin (Rabbit)'),\n",
       " ('ITGAL', 'Lovastatin'),\n",
       " ('ITGAL',\n",
       "  '1-Acetyl-4-(4-{4-[(2-Ethoxyphenyl)Thio]-3-Nitrophenyl}Pyridin-2-Yl)Piperazine'),\n",
       " ('ITGAL', 'LFA703'),\n",
       " ('ITGAL',\n",
       "  '(S)-2-((S)-3-ISOBUTYL-2,5-DIOXO-4-QUINOLIN-3-YLMETHYL-[1,4]DIAZEPAN-1YL)-N-METHYL-3-NAPHTALEN-2-YL-PROPIONAMIDE'),\n",
       " ('ITGAL',\n",
       "  '7A-[(4-cyanophenyl)methyl]-6-(3,5-dichlorophenyl)-5-oxo-2,3,5,7A-tetrahydro-1H-pyrrolo[1,2-A]pyrrole-7-carbonitrile'),\n",
       " ('ITGAL',\n",
       "  '3-({4-[(1E)-3-morpholin-4-yl-3-oxoprop-1-en-1-yl]-2,3-bis(trifluoromethyl)phenyl}sulfanyl)aniline'),\n",
       " ('ITGAL', 'Lifitegrast'),\n",
       " ('Anti-thymocyte Globulin (Rabbit)', 'CD1A'),\n",
       " ('Anti-thymocyte Globulin (Rabbit)', 'MR1'),\n",
       " ('Anti-thymocyte Globulin (Rabbit)', 'CD86'),\n",
       " ('Anti-thymocyte Globulin (Rabbit)', 'CD4'),\n",
       " ('Anti-thymocyte Globulin (Rabbit)', 'ITGB1'),\n",
       " ('Anti-thymocyte Globulin (Rabbit)', 'ITGAV'),\n",
       " ('CD86', 'Abatacept'),\n",
       " ('CD86', 'Belatacept'),\n",
       " ('Coagulation Factor IX (Recombinant)', 'F11'),\n",
       " ('F11', 'C1 Esterase Inhibitor (Human)'),\n",
       " ('F11',\n",
       "  '3-HYDROXYPROPYL 3-[({7-[AMINO(IMINO)METHYL]-1-NAPHTHYL}AMINO)CARBONYL]BENZENESULFONATE'),\n",
       " ('F11',\n",
       "  '(1R)-2-{[AMINO(IMINO)METHYL]AMINO}-1-{4-[(4R)-4-(HYDROXYMETHYL)-1,3,2-DIOXABOROLAN-2-YL]PHENYL}ETHYL NICOTINATE'),\n",
       " ('F11',\n",
       "  '(R)-1-(4-(4-(HYDROXYMETHYL)-1,3,2-DIOXABOROLAN-2-YL)PHENETHYL)GUANIDINE'),\n",
       " ('F11',\n",
       "  '6-CARBAMIMIDOYL-4-(3-HYDROXY-2-METHYL-BENZOYLAMINO)-NAPHTHALENE-2-CARBOXYLIC ACID METHYL ESTER'),\n",
       " ('F11',\n",
       "  '(R)-1-(4-(4-(HYDROXYMETHYL)-1,3,2-DIOXABOROLAN-2-YL)PHENYL)GUANIDINE'),\n",
       " ('F11', 'N-(7-CARBAMIMIDOYL-NAPHTHALEN-1-YL)-3-HYDROXY-2-METHYL-BENZAMIDE'),\n",
       " ('F11',\n",
       "  '4-METHYL-PENTANOIC ACID {1-[4-GUANIDINO-1-(THIAZOLE-2-CARBONYL)-BUTYLCARBAMOYL]-2-METHYL-PROPYL}-AMIDE'),\n",
       " ('F11',\n",
       "  '(R)-1-(4-(4-(HYDROXYMETHYL)-1,3,2-DIOXABOROLAN-2-YL)BENZYL)GUANIDINE'),\n",
       " ('F11', 'C1 Esterase Inhibitor (Recombinant)'),\n",
       " ('Becaplermin', 'PDGFRB'),\n",
       " ('Becaplermin', 'PDGFRA'),\n",
       " ('Becaplermin', 'A2M'),\n",
       " ('PDGFRB', 'Sorafenib'),\n",
       " ('PDGFRB', 'Imatinib'),\n",
       " ('PDGFRB', 'Dasatinib'),\n",
       " ('PDGFRB', 'Sunitinib'),\n",
       " ('PDGFRB', 'XL999'),\n",
       " ('PDGFRB', 'XL820'),\n",
       " ('PDGFRB', 'Pazopanib'),\n",
       " ('PDGFRB', 'Regorafenib'),\n",
       " ('PDGFRA', 'Imatinib'),\n",
       " ('PDGFRA', 'Sunitinib'),\n",
       " ('PDGFRA', 'XL820'),\n",
       " ('PDGFRA', 'MP470'),\n",
       " ('PDGFRA', 'Olaratumab'),\n",
       " ('PDGFRA', 'Pazopanib'),\n",
       " ('PDGFRA', 'Regorafenib'),\n",
       " ('PDGFRA', 'Ponatinib'),\n",
       " ('A2M', 'Bacitracin'),\n",
       " ('A2M', 'Ocriplasmin'),\n",
       " ('Octreotide', 'SSTR1'),\n",
       " ('Octreotide', 'SSTR5'),\n",
       " ('Octreotide', 'SSTR2'),\n",
       " ('SSTR1', 'Pasireotide'),\n",
       " ('SSTR5', 'Vapreotide'),\n",
       " ('SSTR5', 'Pasireotide'),\n",
       " ('SSTR5', 'Lanreotide'),\n",
       " ('SSTR2', 'Vapreotide'),\n",
       " ('SSTR2', 'Pasireotide'),\n",
       " ('SSTR2', 'Lanreotide'),\n",
       " ('Oxytocin', 'OXTR'),\n",
       " ('Oxytocin', 'OXT'),\n",
       " ('OXTR', 'Carbetocin'),\n",
       " ('Natalizumab', 'ITGA4'),\n",
       " ('Natalizumab', 'ICAM1'),\n",
       " ('ITGA4', 'ATL1102'),\n",
       " ('ITGA4', 'CDP323'),\n",
       " ('ITGA4', 'R1295'),\n",
       " ('ITGA4', 'R411'),\n",
       " ('ITGA4', 'MLN-02'),\n",
       " ('ITGA4', 'Tinzaparin'),\n",
       " ('ITGA4', 'Vedolizumab'),\n",
       " ('ICAM1', 'Hyaluronic acid'),\n",
       " ('Bevacizumab', 'VEGFA'),\n",
       " ('VEGFA', 'Minocycline'),\n",
       " ('VEGFA', 'Gliclazide'),\n",
       " ('VEGFA', 'Carvedilol'),\n",
       " ('VEGFA', 'Ranibizumab'),\n",
       " ('VEGFA', 'Pyroglutamic Acid'),\n",
       " ('VEGFA', 'Tris'),\n",
       " ('VEGFA', 'Vandetanib'),\n",
       " ('VEGFA', 'ABT-510'),\n",
       " ('VEGFA', 'VEGF-AS'),\n",
       " ('VEGFA', 'Dalteparin'),\n",
       " ('VEGFA', 'Aflibercept'),\n",
       " ('Arcitumomab', 'CEACAM1'),\n",
       " ('Pyridoxal Phosphate', 'AGXT2'),\n",
       " ('Pyridoxal Phosphate', 'GAD1'),\n",
       " ('Pyridoxal Phosphate', 'CBS'),\n",
       " ('Pyridoxal Phosphate', 'KYNU'),\n",
       " ('Pyridoxal Phosphate', 'SHMT1'),\n",
       " ('Pyridoxal Phosphate', 'NFS1'),\n",
       " ('Pyridoxal Phosphate', 'GOT1'),\n",
       " ('Pyridoxal Phosphate', 'OAT'),\n",
       " ('Pyridoxal Phosphate', 'ODC1'),\n",
       " ('Pyridoxal Phosphate', 'AADAT'),\n",
       " ('Pyridoxal Phosphate', 'ABAT'),\n",
       " ('Pyridoxal Phosphate', 'PNPO'),\n",
       " ('Pyridoxal Phosphate', 'SGPL1'),\n",
       " ('Pyridoxal Phosphate', 'TAT'),\n",
       " ('Pyridoxal Phosphate', 'KYAT1'),\n",
       " ('Pyridoxal Phosphate', 'THNSL1'),\n",
       " ('Pyridoxal Phosphate', 'PYGL'),\n",
       " ('Pyridoxal Phosphate', 'SPTLC2'),\n",
       " ('Pyridoxal Phosphate', 'CSAD'),\n",
       " ('Pyridoxal Phosphate', 'HDC'),\n",
       " ('Pyridoxal Phosphate', 'AZIN2'),\n",
       " ('Pyridoxal Phosphate', 'SDS'),\n",
       " ('Pyridoxal Phosphate', 'GCAT'),\n",
       " ('Pyridoxal Phosphate', 'GLDC'),\n",
       " ('Pyridoxal Phosphate', 'GPT'),\n",
       " ('Pyridoxal Phosphate', 'PSAT1'),\n",
       " ('Pyridoxal Phosphate', 'ALAS1'),\n",
       " ('Pyridoxal Phosphate', 'AGXT'),\n",
       " ('Pyridoxal Phosphate', 'PDXP'),\n",
       " ('Pyridoxal Phosphate', 'SPTLC1'),\n",
       " ('Pyridoxal Phosphate', 'CTH'),\n",
       " ('Pyridoxal Phosphate', 'BCAT1'),\n",
       " ('Pyridoxal Phosphate', 'BCAT2'),\n",
       " ('Pyridoxal Phosphate', 'PROSC'),\n",
       " ('Pyridoxal Phosphate', 'FTCD'),\n",
       " ('Pyridoxal Phosphate', 'GOT2'),\n",
       " ('Pyridoxal Phosphate', 'PYGB'),\n",
       " ('Pyridoxal Phosphate', 'PYGM'),\n",
       " ('Pyridoxal Phosphate', 'DDC'),\n",
       " ('Pyridoxal Phosphate', 'GIG18'),\n",
       " ('Pyridoxal Phosphate', 'nan'),\n",
       " ('Pyridoxal Phosphate', 'GAD2'),\n",
       " ('Pyridoxal Phosphate', 'PDXDC1'),\n",
       " ('Pyridoxal Phosphate', 'KYAT3'),\n",
       " ('Pyridoxal Phosphate', 'GADL1'),\n",
       " ('Pyridoxal Phosphate', 'SCLY'),\n",
       " ('Pyridoxal Phosphate', 'IGSF10'),\n",
       " ('Pyridoxal Phosphate', 'PHYKPL'),\n",
       " ('Pyridoxal Phosphate', 'SHMT2'),\n",
       " ('Pyridoxal Phosphate', 'ALAS2'),\n",
       " ('Pyridoxal Phosphate', 'GPT2'),\n",
       " ('Pyridoxal Phosphate', 'MOCOS'),\n",
       " ('Pyridoxal Phosphate', 'SDSL'),\n",
       " ('Pyridoxal Phosphate', 'pcap'),\n",
       " ('Pyridoxal Phosphate', 'SRR'),\n",
       " ('Pyridoxal Phosphate', 'SEPSECS'),\n",
       " ('Pyridoxal Phosphate', 'SPTLC3'),\n",
       " ('Pyridoxal Phosphate', 'GAD65'),\n",
       " ('Pyridoxal Phosphate', 'TLH6'),\n",
       " ('AGXT2', 'Pyruvic acid'),\n",
       " ('AGXT2', 'Glycine'),\n",
       " ('AGXT2', 'L-Alanine'),\n",
       " ('GAD1', 'L-Glutamic Acid'),\n",
       " ...]"
      ]
     },
     "execution_count": 42,
     "metadata": {},
     "output_type": "execute_result"
    }
   ],
   "source": [
    "G.edges()"
   ]
  },
  {
   "cell_type": "code",
   "execution_count": 43,
   "metadata": {
    "collapsed": true
   },
   "outputs": [],
   "source": [
    "##finding the degree of each nodes (both drugs and genes)\n",
    "\n",
    "degree_distribution = G.degree()"
   ]
  },
  {
   "cell_type": "code",
   "execution_count": 44,
   "metadata": {},
   "outputs": [
    {
     "data": {
      "text/plain": [
       "7191"
      ]
     },
     "execution_count": 44,
     "metadata": {},
     "output_type": "execute_result"
    }
   ],
   "source": [
    "len(degree_distribution.keys())"
   ]
  },
  {
   "cell_type": "code",
   "execution_count": 45,
   "metadata": {
    "collapsed": true
   },
   "outputs": [],
   "source": [
    "%matplotlib inline"
   ]
  },
  {
   "cell_type": "code",
   "execution_count": 46,
   "metadata": {
    "collapsed": true
   },
   "outputs": [],
   "source": [
    "#plt.bar(list(degree_distribution.keys()), degree_distribution.values(), color='r')\n",
    "\n",
    "#results in: unsupported operand type(s) for -: 'str' and 'float'\n"
   ]
  },
  {
   "cell_type": "code",
   "execution_count": 47,
   "metadata": {
    "collapsed": true
   },
   "outputs": [],
   "source": [
    "from numpy import arange"
   ]
  },
  {
   "cell_type": "code",
   "execution_count": 48,
   "metadata": {},
   "outputs": [
    {
     "name": "stdout",
     "output_type": "stream",
     "text": [
      "74\n"
     ]
    }
   ],
   "source": [
    "unique = len(set(degree_distribution.values()))\n",
    "print(unique)"
   ]
  },
  {
   "cell_type": "code",
   "execution_count": 49,
   "metadata": {
    "collapsed": true
   },
   "outputs": [],
   "source": [
    "B = nx.Graph()"
   ]
  },
  {
   "cell_type": "code",
   "execution_count": 50,
   "metadata": {
    "collapsed": true
   },
   "outputs": [],
   "source": [
    "B.add_nodes_from(combined_df2['Drug Name'], bipartite=0)"
   ]
  },
  {
   "cell_type": "code",
   "execution_count": 51,
   "metadata": {
    "collapsed": true
   },
   "outputs": [],
   "source": [
    "B.add_nodes_from(combined_df2['Gene Symbol'], bipartite=1)"
   ]
  },
  {
   "cell_type": "code",
   "execution_count": 52,
   "metadata": {
    "collapsed": true
   },
   "outputs": [],
   "source": [
    "B.add_edges_from([(row['Drug Name'], row['Gene Symbol']) for idx, row in combined_df2.iterrows()])"
   ]
  },
  {
   "cell_type": "code",
   "execution_count": 53,
   "metadata": {
    "collapsed": true
   },
   "outputs": [],
   "source": [
    "edgelist = B.edges()"
   ]
  },
  {
   "cell_type": "code",
   "execution_count": 54,
   "metadata": {},
   "outputs": [
    {
     "data": {
      "text/plain": [
       "False"
      ]
     },
     "execution_count": 54,
     "metadata": {},
     "output_type": "execute_result"
    }
   ],
   "source": [
    "nx.is_connected(B)"
   ]
  },
  {
   "cell_type": "code",
   "execution_count": 55,
   "metadata": {
    "collapsed": true
   },
   "outputs": [],
   "source": [
    "#separating the two sets of nodes, drugs and genes. \n",
    "\n",
    "d, g = bipartite.sets(B)"
   ]
  },
  {
   "cell_type": "code",
   "execution_count": 56,
   "metadata": {
    "collapsed": true
   },
   "outputs": [],
   "source": [
    "#list(d)                \"\"\"to display drugs\"\"\""
   ]
  },
  {
   "cell_type": "code",
   "execution_count": 57,
   "metadata": {},
   "outputs": [
    {
     "data": {
      "text/plain": [
       "4923"
      ]
     },
     "execution_count": 57,
     "metadata": {},
     "output_type": "execute_result"
    }
   ],
   "source": [
    "len(d)"
   ]
  },
  {
   "cell_type": "code",
   "execution_count": 58,
   "metadata": {
    "collapsed": true
   },
   "outputs": [],
   "source": [
    "#list(g)                   \"\"\"to display genes\"\"\""
   ]
  },
  {
   "cell_type": "code",
   "execution_count": 59,
   "metadata": {},
   "outputs": [
    {
     "data": {
      "text/plain": [
       "2268"
      ]
     },
     "execution_count": 59,
     "metadata": {},
     "output_type": "execute_result"
    }
   ],
   "source": [
    "len(g)"
   ]
  },
  {
   "cell_type": "code",
   "execution_count": 60,
   "metadata": {},
   "outputs": [
    {
     "data": {
      "text/plain": [
       "2268"
      ]
     },
     "execution_count": 60,
     "metadata": {},
     "output_type": "execute_result"
    }
   ],
   "source": [
    "len(set(combined_df2['Gene Symbol']))"
   ]
  },
  {
   "cell_type": "code",
   "execution_count": 61,
   "metadata": {},
   "outputs": [
    {
     "data": {
      "text/plain": [
       "4923"
      ]
     },
     "execution_count": 61,
     "metadata": {},
     "output_type": "execute_result"
    }
   ],
   "source": [
    "len(set(combined_df2['Drug Name']))"
   ]
  },
  {
   "cell_type": "code",
   "execution_count": 62,
   "metadata": {
    "collapsed": true
   },
   "outputs": [],
   "source": [
    "##combined degree distribution of bipartite graph B.\n",
    "\n",
    "degree_distribution2 = B.degree()"
   ]
  },
  {
   "cell_type": "code",
   "execution_count": 63,
   "metadata": {
    "collapsed": true
   },
   "outputs": [],
   "source": [
    "c = bipartite.clustering(B)             #clustering coefficient"
   ]
  },
  {
   "cell_type": "code",
   "execution_count": 64,
   "metadata": {
    "collapsed": true
   },
   "outputs": [],
   "source": [
    "avg_c = bipartite.average_clustering(B)                          #average clustering coeff"
   ]
  },
  {
   "cell_type": "code",
   "execution_count": 65,
   "metadata": {},
   "outputs": [
    {
     "data": {
      "text/plain": [
       "0.4761818878468815"
      ]
     },
     "execution_count": 65,
     "metadata": {},
     "output_type": "execute_result"
    }
   ],
   "source": [
    "avg_c"
   ]
  },
  {
   "cell_type": "code",
   "execution_count": 66,
   "metadata": {
    "collapsed": true
   },
   "outputs": [],
   "source": [
    "#top_nodes = set(n for n,d in B.nodes(data=True) if d['bipartite']==0)\n",
    "#bottom_nodes = set(B) - top_nodes"
   ]
  },
  {
   "cell_type": "code",
   "execution_count": 67,
   "metadata": {
    "collapsed": true
   },
   "outputs": [],
   "source": [
    "array1 = np.array(list(g))"
   ]
  },
  {
   "cell_type": "code",
   "execution_count": 68,
   "metadata": {
    "collapsed": true
   },
   "outputs": [],
   "source": [
    "#changing the set of drugs to numpy arrays\n",
    "\n",
    "array2 = np.asarray(list(d))                                "
   ]
  },
  {
   "cell_type": "code",
   "execution_count": 69,
   "metadata": {
    "collapsed": true
   },
   "outputs": [],
   "source": [
    "#projection of B graph onto drug_nodes\n",
    "\n",
    "d_nodes = bipartite.projected_graph(B, d)                     "
   ]
  },
  {
   "cell_type": "code",
   "execution_count": 70,
   "metadata": {
    "collapsed": true
   },
   "outputs": [],
   "source": [
    "g_nodes = bipartite.projected_graph(B, g)                     "
   ]
  },
  {
   "cell_type": "code",
   "execution_count": 71,
   "metadata": {
    "collapsed": true
   },
   "outputs": [],
   "source": [
    "##degree distribution of genes nodes only\n",
    "\n",
    "genes_degree = g_nodes.degree()               "
   ]
  },
  {
   "cell_type": "code",
   "execution_count": 72,
   "metadata": {
    "collapsed": true
   },
   "outputs": [],
   "source": [
    "##degree distribution of drugs nodes only\n",
    "\n",
    "drugs_degree = d_nodes.degree()"
   ]
  },
  {
   "cell_type": "code",
   "execution_count": 80,
   "metadata": {},
   "outputs": [
    {
     "data": {
      "image/png": "[encoded data removed]",
      "text/plain": [
       "<matplotlib.figure.Figure at 0x148e1dd8>"
      ]
     },
     "metadata": {},
     "output_type": "display_data"
    }
   ],
   "source": [
    "fig = plt.figure(figsize=(18,20))\n",
    "ax1 = fig.add_subplot(2,2,1)\n",
    "ax2 = fig.add_subplot(2,2,2)\n",
    "degrees1 = [item[1] for item in list(genes_degree.items())]      ##genes\n",
    "degrees2 = [item[1] for item in list(drugs_degree.items())]    ##drugs\n",
    "\n",
    "#ax1.set_ylim(0,0.1)\n",
    "ax1.set_xlabel('Degree Distribution(Genes)', size=14)\n",
    "ax1.set_ylabel('Frequency', size=14)\n",
    "ax1.set_title('Histogram of Genes Degree Distribution', size=16)\n",
    "ax1.hist(degrees1, bins='auto', color='teal', rwidth=0.6, normed=1)\n",
    "\n",
    "\n",
    "#ax2.set_ylim(0,0.1)\n",
    "ax2.set_xlabel('Degree Distribution(Drugs)', size=14)\n",
    "ax2.set_ylabel('Frequency', size=14)\n",
    "ax2.set_title('Histogram of Drugs Degree Distribution', size=16)\n",
    "ax2.hist(degrees2, bins='auto', color='orange', rwidth=0.6, normed=1, width=4)\n",
    "\n",
    "ax1.grid(True)\n",
    "ax2.grid(True)\n",
    "plt.show()\n",
    "\n",
    "#bins=range(min(degrees1), max(degrees1)"
   ]
  },
  {
   "cell_type": "code",
   "execution_count": 74,
   "metadata": {},
   "outputs": [
    {
     "data": {
      "text/plain": [
       "'NADH'"
      ]
     },
     "execution_count": 74,
     "metadata": {},
     "output_type": "execute_result"
    }
   ],
   "source": [
    "##finding corresponding max. value key in a dict. \n",
    "\n",
    "max(degree_distribution2, key=degree_distribution2.get)                 "
   ]
  },
  {
   "cell_type": "code",
   "execution_count": 75,
   "metadata": {},
   "outputs": [
    {
     "data": {
      "text/plain": [
       "144"
      ]
     },
     "execution_count": 75,
     "metadata": {},
     "output_type": "execute_result"
    }
   ],
   "source": [
    "degree_distribution2['NADH']"
   ]
  },
  {
   "cell_type": "code",
   "execution_count": 76,
   "metadata": {},
   "outputs": [
    {
     "data": {
      "image/png": "[encoded data removed]",
      "text/plain": [
       "<matplotlib.figure.Figure at 0x14543080>"
      ]
     },
     "metadata": {},
     "output_type": "display_data"
    }
   ],
   "source": [
    "plt.xlabel('Drugs')\n",
    "plt.ylabel('Degree')\n",
    "plt.title('Histogram of Drugs showing Degree')\n",
    "\n",
    "#labels = [item[0] for item in list(dd2.items())]\n",
    "degrees = [item[1] for item in list(degree_distribution2.items())]\n",
    "\n",
    "#plt.ylim(0,0.07)\n",
    "plt.xlabel('Degree Distribution', size=14)\n",
    "plt.ylabel('Frequency', size=14)\n",
    "plt.title('Histogram of Degree Distribution of Drug-Gene Network', size=16)\n",
    "plt.hist(degrees1, bins='auto', color='red', rwidth=0.6, normed=1, width=4)\n",
    "plt.grid(True)\n",
    "\n",
    "plt.show()\n",
    "\n",
    "#normed=1 :normalized so that integral over the range is 1.  "
   ]
  },
  {
   "cell_type": "code",
   "execution_count": null,
   "metadata": {
    "collapsed": true
   },
   "outputs": [],
   "source": []
  }
 ],
 "metadata": {
  "kernelspec": {
   "display_name": "Python 3",
   "language": "python",
   "name": "python3"
  },
  "language_info": {
   "codemirror_mode": {
    "name": "ipython",
    "version": 3
   },
   "file_extension": ".py",
   "mimetype": "text/x-python",
   "name": "python",
   "nbconvert_exporter": "python",
   "pygments_lexer": "ipython3",
   "version": "3.6.1"
  }
 },
 "nbformat": 4,
 "nbformat_minor": 2
}
