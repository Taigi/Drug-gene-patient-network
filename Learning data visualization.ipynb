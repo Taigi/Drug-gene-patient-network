{
 "cells": [
  {
   "cell_type": "code",
   "execution_count": null,
   "metadata": {
    "collapsed": true
   },
   "outputs": [],
   "source": [
    "## Creating linechart\n",
    "\n",
    "##Use matplotlib\n",
    "\n",
    "##The pyplot module allows to quickly create common data plots and perform common tweaks to them.\n",
    "\n",
    "##Matplotlib will accept any iterable object."
   ]
  },
  {
   "cell_type": "code",
   "execution_count": 2,
   "metadata": {},
   "outputs": [
    {
     "data": {
      "image/png": "[encoded data removed]",
      "text/plain": [
       "<matplotlib.figure.Figure at 0x104b5b080>"
      ]
     },
     "metadata": {},
     "output_type": "display_data"
    }
   ],
   "source": [
    "import matplotlib.pyplot as plt \n",
    "\n",
    "plt.plot()       #func to plot a graph\n",
    "plt.show()       #func to show a graph"
   ]
  },
  {
   "cell_type": "code",
   "execution_count": null,
   "metadata": {
    "collapsed": true
   },
   "outputs": [],
   "source": [
    "# %matplotlib inline  \"\"\"to display the graph in the cell\"\"\""
   ]
  },
  {
   "cell_type": "code",
   "execution_count": null,
   "metadata": {
    "collapsed": true
   },
   "outputs": [],
   "source": [
    "## to plot\n",
    "## use plot(): \n",
    "## plt.plot(x_values, y_values)"
   ]
  },
  {
   "cell_type": "code",
   "execution_count": null,
   "metadata": {
    "collapsed": true
   },
   "outputs": [],
   "source": [
    "## xticks() function lets you customize the behavior of the x-axis ticks."
   ]
  },
  {
   "cell_type": "code",
   "execution_count": null,
   "metadata": {
    "collapsed": true
   },
   "outputs": [],
   "source": [
    "##xlabel(): accepts a string value, which gets set as the x-axis label.\n",
    "##ylabel(): accepts a string value, which is set as the y-axis label.\n",
    "##title(): accepts a string value, which is set as the plot title."
   ]
  },
  {
   "cell_type": "code",
   "execution_count": null,
   "metadata": {
    "collapsed": true
   },
   "outputs": [],
   "source": [
    "##Use Pandas.to_datetime to convert the DATE column into a Series of datetime values\n",
    "#Ex. unrate = pd.read_csv('unrate.csv')\n",
    "#unrate['DATE'] = pd.to_datetime(unrate['DATE'])"
   ]
  },
  {
   "cell_type": "code",
   "execution_count": 3,
   "metadata": {
    "collapsed": true
   },
   "outputs": [],
   "source": [
    "## Making multiple plots\n",
    "## you need to assign each figure so python knows which figure you're making changes to.\n",
    "\n",
    "##create a figure by calling pyplot.figure()\n",
    "fig = plt.figure()"
   ]
  },
  {
   "cell_type": "code",
   "execution_count": null,
   "metadata": {
    "collapsed": true
   },
   "outputs": [],
   "source": [
    "##To add a new subplot to an existing figure, use Figure.add_subplot.\n",
    "\n",
    "## axes_obj = fig.add_subplot(nrows, ncols, plot_number)  ##this subplot needs to be assigned to a var."
   ]
  },
  {
   "cell_type": "code",
   "execution_count": 6,
   "metadata": {},
   "outputs": [
    {
     "data": {
      "image/png": "[encoded data removed]",
      "text/plain": [
       "<matplotlib.figure.Figure at 0x1063840b8>"
      ]
     },
     "metadata": {},
     "output_type": "display_data"
    }
   ],
   "source": [
    "import matplotlib.pyplot as plt\n",
    "fig = plt.figure()\n",
    "ax1 = fig.add_subplot(2,1,1)\n",
    "ax2 = fig.add_subplot(2,1,2)      ##creating a second plot below another plot. \n",
    "plt.show()"
   ]
  },
  {
   "cell_type": "code",
   "execution_count": null,
   "metadata": {
    "collapsed": true
   },
   "outputs": [],
   "source": [
    "##generate a line chart within an Axes object, call Axes.plot() \n",
    "##then, to add data to the graph\n",
    "\n",
    "#ax1.plot(df[0:12]['col'], df[0:12]['col'])"
   ]
  },
  {
   "cell_type": "code",
   "execution_count": null,
   "metadata": {
    "collapsed": true
   },
   "outputs": [],
   "source": [
    "##Formatting And Spacing of the graphs.\n",
    "\n",
    "##use the figsize parameter when we call plt.figure()\n",
    "\n",
    "#fig = plt.figure(figsize=(width, height))\n",
    "\n",
    "## ax1.set_title()"
   ]
  },
  {
   "cell_type": "code",
   "execution_count": null,
   "metadata": {
    "collapsed": true
   },
   "outputs": [],
   "source": [
    "##fig = plt.figure(figsize=(12, 6))\n",
    "#ax1 = fig.add_subplot(2,1,1)\n",
    "#ax2 = fig.add_subplot(2,1,2)\n",
    "#ax1.plot(unrate[0:12]['DATE'], unrate[0:12]['VALUE'])\n",
    "#ax1.set_title('Monthly Unemployment Rate, 1948')\n",
    "#ax2.plot(unrate[12:24]['DATE'], unrate[12:24]['VALUE'])\n",
    "#ax2.set_title('Monthly Unemployment Rate, 1949')\n",
    "#plt.show()"
   ]
  },
  {
   "cell_type": "code",
   "execution_count": null,
   "metadata": {
    "collapsed": true
   },
   "outputs": [],
   "source": [
    "#Set the width of the plotting area to 12 inches and the height to 12 inches.\n",
    "#Generate a grid with 5 rows and 1 column and plot data from the individual years. Start with 1948 in the top subplot and end with 1952 in the bottom subplot.\n",
    "#Use plt.show() to display the plots.\n",
    "\n",
    "\n",
    "#fig = plt.figure(figsize=(12,12))\n",
    "#for i in range(5):\n",
    "    #ax = fig.add_subplot(5,1,i+1)\n",
    "    #start_index = i*12\n",
    "    #end_index = (i+1)*12\n",
    "    #subset = unrate[start_index:end_index]\n",
    "    #ax.plot(subset['DATE'], subset['VALUE'])\n",
    "    \n",
    "#plt.show()\n"
   ]
  },
  {
   "cell_type": "code",
   "execution_count": null,
   "metadata": {
    "collapsed": true
   },
   "outputs": [],
   "source": [
    "## handle the visual overhead each additional plot adds by overlaying the line charts in a single subplot.\n",
    "\n",
    "##If we call pyplot.plot() multiple times, matplotlib will generate the line charts on the single subplot.\n"
   ]
  },
  {
   "cell_type": "code",
   "execution_count": null,
   "metadata": {
    "collapsed": true
   },
   "outputs": [],
   "source": [
    "##extract just the month values from the DATE column.\n",
    "\n",
    "#assign them to a new column, we can use the pandas.Series.dt accessor:\n",
    "#df['new_col_name'] = df['old_cold_you_want_to_extract_frm'].dt.month"
   ]
  },
  {
   "cell_type": "code",
   "execution_count": null,
   "metadata": {
    "collapsed": true
   },
   "outputs": [],
   "source": [
    "# To specify the color ourselves, use the c parameter when calling plot()"
   ]
  },
  {
   "cell_type": "code",
   "execution_count": null,
   "metadata": {
    "collapsed": true
   },
   "outputs": [],
   "source": [
    "##Adding A Legend that links each color to the year the line is representing.\n",
    "\n",
    "##We can create the legend using pyplot.legend and specify its location using the loc parameter.\n",
    "##plt.legend(loc='upper left')      \n",
    "\n",
    "##When we need to create a legend for each subplot, we can use Axes.legend() instead\n",
    "\n",
    "##multiple subplots, we can create a legend for each subplot by mirroring the steps for each subplot. \n",
    "##When we use plt.plot() and plt.legend()"
   ]
  },
  {
   "cell_type": "code",
   "execution_count": null,
   "metadata": {
    "collapsed": true
   },
   "outputs": [],
   "source": [
    "##Set the plotting area to a width of 10 inches and a height of 6 inches.\n",
    "#Generate the following plots in the base subplot:\n",
    "#1948: set the line color to \"red\"\n",
    "#1949: set the line color to \"blue\"\n",
    "#1950: set the line color to \"green\"\n",
    "#1951: set the line color to \"orange\"\n",
    "#1952: set the line color to \"black\"\n",
    "#E.g. the plot of 1948 data that uses \"red\" for the line color should be labeled \"1948\" in the legend.\n",
    "\n",
    "#fig = plt.figure(figsize=(10,6))\n",
    "#colors = ['red', 'blue', 'green', 'orange', 'black']\n",
    "#for i in range(5):\n",
    "    #start_index = i*12\n",
    "    #end_index = (i+1)*12\n",
    "    #label = str(1948 +i)\n",
    "    #subset = unrate[start_index:end_index]\n",
    "    #plt.plot(subset['MONTH'], subset['VALUE'], c=colors[i])\n",
    "    #plt.legend(loc='upper left')\n",
    "    \n",
    "#plt.show()\n",
    "\n",
    "\"\"\"iterate through the data to create subplots of the same length rather than constructing each subplots one by one.\"\"\"\n"
   ]
  },
  {
   "cell_type": "code",
   "execution_count": null,
   "metadata": {
    "collapsed": true
   },
   "outputs": [],
   "source": []
  }
 ],
 "metadata": {
  "kernelspec": {
   "display_name": "Python 3",
   "language": "python",
   "name": "python3"
  },
  "language_info": {
   "codemirror_mode": {
    "name": "ipython",
    "version": 3
   },
   "file_extension": ".py",
   "mimetype": "text/x-python",
   "name": "python",
   "nbconvert_exporter": "python",
   "pygments_lexer": "ipython3",
   "version": "3.6.1"
  }
 },
 "nbformat": 4,
 "nbformat_minor": 2
}
