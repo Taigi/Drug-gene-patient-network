{
 "cells": [
  {
   "cell_type": "code",
   "execution_count": null,
   "metadata": {
    "collapsed": true
   },
   "outputs": [],
   "source": [
    "#Series objects (collections of values)\n",
    "#DataFrames (collections of Series objects)\n",
    "#Panels (collections of DataFrame objects)"
   ]
  },
  {
   "cell_type": "code",
   "execution_count": null,
   "metadata": {
    "collapsed": true
   },
   "outputs": [],
   "source": [
    "##DataFrames use Series objects to represent columns. \n",
    "##When we select a single column from a DataFrame, pandas will return the Series object representing that column."
   ]
  },
  {
   "cell_type": "code",
   "execution_count": null,
   "metadata": {
    "collapsed": true
   },
   "outputs": [],
   "source": [
    "##A more efficient way to retrieve the values of many things using one command\n",
    "##move away from using integer indexes, and use string indexes corresponding to the things names you want instead\n",
    "\n",
    "#Do from pandas import Series\n"
   ]
  },
  {
   "cell_type": "code",
   "execution_count": null,
   "metadata": {
    "collapsed": true
   },
   "outputs": [],
   "source": [
    "#Ex. Create a new Series object named series_custom that has a string index (based on the values from film_names), \n",
    "#and contains all of the Rotten Tomatoes scores from series_rt.\n",
    "#To create a new Series object:\n",
    "#Import Series from pandas.\n",
    "#Instantiate a new Series object, which takes in a data parameter and an index parameter. \n",
    "#Both of these parameters need to be lists.\n",
    "\n",
    "#from pandas import Series\n",
    "\n",
    "#film_names = series_film.values\n",
    "#rt_scores = series_rt.values\n",
    "#series_custom = Series(rt_scores , index=film_names)\n",
    "#series_custom[['Minions (2015)', 'Leviathan (2014)']]\n"
   ]
  },
  {
   "cell_type": "code",
   "execution_count": null,
   "metadata": {
    "collapsed": true
   },
   "outputs": [],
   "source": [
    "#When it comes to indexes, Series objects act like both dictionaries and lists. \n",
    "#We can access values with our custom index (like the keys in a dictionary), \n",
    "#or the integer index (like the index in a list)."
   ]
  },
  {
   "cell_type": "code",
   "execution_count": null,
   "metadata": {
    "collapsed": true
   },
   "outputs": [],
   "source": [
    "## Reindexing\n",
    "\n",
    "##Reindexing is the pandas way of modifying the alignment between labels (indexes) and the data (values)\n"
   ]
  },
  {
   "cell_type": "code",
   "execution_count": null,
   "metadata": {
    "collapsed": true
   },
   "outputs": [],
   "source": [
    "#Ex. to sort series_custom alphabetically. (series_custom = variable assigned before)\n",
    "\n",
    "#Use reindex() method"
   ]
  },
  {
   "cell_type": "code",
   "execution_count": null,
   "metadata": {
    "collapsed": true
   },
   "outputs": [],
   "source": [
    "##To make sorting easier, pandas comes with a sort_index() method that sorts a Series by index,\n",
    "##sort_values() method that sorts a Series by its values\n",
    "\n",
    "#both sorting are methods so you need to do: variable.method()"
   ]
  },
  {
   "cell_type": "code",
   "execution_count": null,
   "metadata": {
    "collapsed": true
   },
   "outputs": [],
   "source": [
    "##Transforming Columns With Vectorized Operations\n",
    "#A column is really a vector of values.\n",
    "#Series objects offer robust support for vectorized operations, \n",
    "#which enable us to run computations over an entire column very quickly.\n",
    "#The values in a Series object are part of an ndarray."
   ]
  },
  {
   "cell_type": "code",
   "execution_count": null,
   "metadata": {
    "collapsed": true
   },
   "outputs": [],
   "source": [
    "##Applying some NumPy functions to a Series object will return a new Series object, \n",
    "##while other functions will return a single value.\n",
    "\n",
    "## Add each value with each other\n",
    "#np.add(series_custom, series_custom)\n",
    "# Apply sine function to each value\n",
    "#np.sin(series_custom)\n",
    "# Return the highest value (will return a single value, not a Series)\n",
    "#np.max(series_custom)"
   ]
  },
  {
   "cell_type": "code",
   "execution_count": null,
   "metadata": {
    "collapsed": true
   },
   "outputs": [],
   "source": [
    "##Comparing And Filtering\n",
    "\n",
    "#To specify a criteria and return the values, or booleans\n",
    "\n",
    "# Template: variable = col_name[condition]\n",
    "\n",
    "#Ex. series_greater_than_50 = series_custom[series_custom > 50]\n",
    "# both_criteria = series_custom[criteria_one & criteria_two] \n"
   ]
  },
  {
   "cell_type": "code",
   "execution_count": null,
   "metadata": {
    "collapsed": true
   },
   "outputs": [],
   "source": [
    "##Using Custom Indexes\n",
    "\n",
    "#Using set_index() method.\n",
    "\n",
    "#inplace: If set to True, this parameter will set the index for the current, \"live\" dataframe, \n",
    "#instead of returning a new dataframe.\n",
    "#drop: If set to False, this parameter will keep the column we specified as the index, instead of dropping it\n",
    "\n",
    "#Ex.Use the pandas dataframe methfandango = pd.read_csv('fandango_score_comparison.csv')\n",
    "#to set_index to assign the FILM column as the custom index for the dataframe. \n",
    "#Also, specify that we don't want to drop the FILM column.\n",
    "\n",
    "#fandango = pd.read_csv('fandango_score_comparison.csv')\n",
    "#fandango_films = fandango.set_index('FILM', drop=False)"
   ]
  },
  {
   "cell_type": "code",
   "execution_count": null,
   "metadata": {
    "collapsed": true
   },
   "outputs": [],
   "source": [
    "#Having a custom index, selection of a row by film (whatever object you have) name \n",
    "#instead of row number, the default integer index"
   ]
  },
  {
   "cell_type": "code",
   "execution_count": null,
   "metadata": {
    "collapsed": true
   },
   "outputs": [],
   "source": [
    "##When we select multiple rows, pandas returns a dataframe. \n",
    "#When we select an individual row, however, it returns a Series object"
   ]
  },
  {
   "cell_type": "code",
   "execution_count": null,
   "metadata": {
    "collapsed": true
   },
   "outputs": [],
   "source": [
    "##The apply() method in pandas allows us to specify Python logic that we want to evaluate over the Series objects."
   ]
  },
  {
   "cell_type": "code",
   "execution_count": null,
   "metadata": {
    "collapsed": true
   },
   "outputs": [],
   "source": [
    "#Ex. import numpy as np\n",
    "\n",
    "# returns the data types as a Series\n",
    "#types = fandango_films.dtypes\n",
    "# filter data types to just floats, index attributes returns just column names\n",
    "#float_columns = types[types.values == 'float64'].index\n",
    "# use bracket notation to filter columns to just float columns\n",
    "#float_df = fandango_films[float_columns]\n",
    "\n",
    "# `x` is a Series object representing a column\n",
    "#deviations = float_df.apply(lambda x: np.std(x))\n"
   ]
  },
  {
   "cell_type": "code",
   "execution_count": null,
   "metadata": {
    "collapsed": true
   },
   "outputs": [],
   "source": [
    "## Using apply() method.\n",
    "#By default, operates over the columns. To operate over rows, set a parameter: axis=1"
   ]
  }
 ],
 "metadata": {
  "kernelspec": {
   "display_name": "Python 3",
   "language": "python",
   "name": "python3"
  },
  "language_info": {
   "codemirror_mode": {
    "name": "ipython",
    "version": 3
   },
   "file_extension": ".py",
   "mimetype": "text/x-python",
   "name": "python",
   "nbconvert_exporter": "python",
   "pygments_lexer": "ipython3",
   "version": "3.6.1"
  }
 },
 "nbformat": 4,
 "nbformat_minor": 2
}
